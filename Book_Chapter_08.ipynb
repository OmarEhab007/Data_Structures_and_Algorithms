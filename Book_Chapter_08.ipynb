{
 "cells": [
  {
   "cell_type": "markdown",
   "metadata": {},
   "source": [
    "# Chapter 08: Tree"
   ]
  },
  {
   "cell_type": "markdown",
   "metadata": {},
   "source": [
    "## 8.1 General Trees"
   ]
  },
  {
   "cell_type": "markdown",
   "metadata": {},
   "source": [
    "### 8.1.1 Tree Definitions and Properties"
   ]
  },
  {
   "cell_type": "markdown",
   "metadata": {},
   "source": [
    "A **tree** is an abstract data type that stores elements hierarchcially."
   ]
  },
  {
   "cell_type": "markdown",
   "metadata": {},
   "source": [
    "#### Formal Tree Definition"
   ]
  },
  {
   "cell_type": "markdown",
   "metadata": {},
   "source": [
    "Formally, we define **tree** $T$ as a set of **nodes** storing elements such that the nodes have a **parent-child** relationship that satisfies the following properties:\n",
    "\n",
    "* If $T$ is nonempty, it has a special node, called the **root** of $T$, that has no parent.\n",
    "* Each $v$ of $T$ different from the root has a unique **parent** node $w$; every node with parent $w$ is a **child** of $w$."
   ]
  },
  {
   "cell_type": "markdown",
   "metadata": {},
   "source": [
    "##### Other Node Relationships"
   ]
  },
  {
   "cell_type": "markdown",
   "metadata": {},
   "source": [
    "Two nodes (if it's a binary tree) that are children of the same parent are **siblings**. A node $v$ is **external** if $v$ has no children. A node $v$ is **internal** if it has one or more children. External nodes are also known as **leaves**."
   ]
  },
  {
   "cell_type": "markdown",
   "metadata": {},
   "source": [
    "A node $u$ is an ***ancestor*** of a node $v$ if $u = v$ or $u$ is an ancestor of the parent of $v$."
   ]
  },
  {
   "cell_type": "markdown",
   "metadata": {},
   "source": [
    "Conversely, we say that a node $v$ is a a ***descendant*** of a node $u$ if $u$ is an ancestor of $v$."
   ]
  },
  {
   "cell_type": "markdown",
   "metadata": {},
   "source": [
    "The ***subtgree*** of $T$ ***rooted*** at a node $v$ is the tree consisting of all the descendants of $v$ iin $T$ (includeing $v$ itself)."
   ]
  },
  {
   "cell_type": "markdown",
   "metadata": {},
   "source": [
    "##### Ordered Trees"
   ]
  },
  {
   "cell_type": "markdown",
   "metadata": {},
   "source": [
    "A tree is **ordered** if there is a meaningful linear order among the children of each nodes; that is, we purposefully identify the children of a node as being the first, second, third, and so on."
   ]
  },
  {
   "cell_type": "markdown",
   "metadata": {},
   "source": [
    "### 8.1.2 The Tree Abstract Data Type"
   ]
  },
  {
   "cell_type": "markdown",
   "metadata": {},
   "source": [
    "We define a tree ADT using the concept of a **position** as an abstraction for a node of a tree. An element is stored at each position, and positions satisfy parent-child relationships that define the tree structure. A position object for a tree supports the method:"
   ]
  },
  {
   "cell_type": "markdown",
   "metadata": {},
   "source": [
    "* `p.element()`: Return the element stored at position `p`.\n",
    "* `T.root()`: Return the position of the root of tree `T`, or `None` if `T`\n",
    "* `T.is_root(p)`: Return `True` if position `p`is the root of Tree `T`.\n",
    "* `T.parent(p)`: Return the position of the parent of position `p` or `None` if `p` is the root of `T`.\n",
    "* `T.num_children(p)`: Return the number of children of position `p`\n",
    "* `T.children(p)`: Generate an iteration of the children of position `p`.\n",
    "* `T.is_leaf(p)`: Return `True` if position `p` does not have any children.\n",
    "* `len(T)`: Return the number of positions (and hence elements) that are contained in tree `T`.\n",
    "* `T.is_empty()`: Return `True` if tree `T` does not contain any positions.\n",
    "* `T.positions()`: Generate an iteration of all positions of tree `T`.\n",
    "* `iter(T)`: Generate an iteration of all elements stored within tree `T`."
   ]
  },
  {
   "cell_type": "code",
   "execution_count": 1,
   "metadata": {},
   "outputs": [],
   "source": [
    "from abc import ABC, abstractmethod\n",
    "\n",
    "class Tree(ABC):\n",
    "    \"\"\"Abstract base class representing a tree structure.\"\"\"\n",
    "    \n",
    "    class Position(ABC):\n",
    "        \"\"\"An abstraction representing the location of a single element.\"\"\"\n",
    "        \n",
    "        @abstractmethod\n",
    "        def element(self):\n",
    "            \"\"\"Return the element stored at this Position.\"\"\"\n",
    "            pass\n",
    "        \n",
    "        @abstractmethod\n",
    "        def __eq__(self, other):\n",
    "            \"\"\"Return True if other Position represents the same location.\"\"\"\n",
    "            pass\n",
    "        \n",
    "        def __ne__(self, other):\n",
    "            \"\"\"Return True if other does not represent the same location.\"\"\"\n",
    "            return not (self == other)\n",
    "\n",
    "    @abstractmethod\n",
    "    def root(self):\n",
    "        \"\"\"Return Position representing the tree's root (or None if empty).\"\"\"\n",
    "        pass\n",
    "    \n",
    "    @abstractmethod\n",
    "    def parent(self, p):\n",
    "        \"\"\"Return Position representing p's parent (or None if p is root).\"\"\"\n",
    "        pass\n",
    "    \n",
    "    @abstractmethod\n",
    "    def num_children(self, p):\n",
    "        \"\"\"Return the number of children that Position p has.\"\"\"\n",
    "        pass\n",
    "    \n",
    "    @abstractmethod\n",
    "    def children(self, p):\n",
    "        \"\"\"Generate an iteration of Positions representing p's children.\"\"\"\n",
    "        pass\n",
    "    \n",
    "    @abstractmethod\n",
    "    def __len__(self):\n",
    "        \"\"\"Return the total number of elements in the tree.\"\"\"\n",
    "        pass\n",
    "    \n",
    "    def is_root(self, p):\n",
    "        \"\"\"Return True if Position p represents the root of the tree.\"\"\"\n",
    "        return self.root() == p\n",
    "    \n",
    "    def is_leaf(self, p):\n",
    "        \"\"\"Return True if Position p does not have any children.\"\"\"\n",
    "        return self.num_children(p) == 0\n",
    "    \n",
    "    def is_empty(self):\n",
    "        \"\"\"Return True if the tree is empty.\"\"\"\n",
    "        return len(self) == 0\n",
    "    \n",
    "    def depth(self, p):\n",
    "        if self.is_root(p):\n",
    "            return 0\n",
    "        else:\n",
    "            return 1 + self.depth(self.parent(p))\n",
    "    \n",
    "    def _height1(self):\n",
    "        return max(self.depth(p) for p in self.positions if self.is_leaf(p))\n",
    "        \n",
    "    def _height2(self, p):\n",
    "        if self.is_leaf(p):\n",
    "            return 0\n",
    "        else:\n",
    "            return 1 + max(self._hegiht2(c) for c in self.children(p))\n",
    "    \n",
    "    def height(self, p=None):\n",
    "        if p is None:\n",
    "            p = self.root()\n",
    "        return self._height2(p)"
   ]
  },
  {
   "cell_type": "markdown",
   "metadata": {},
   "source": [
    "### 8.1.3 Computing Depth and Height"
   ]
  },
  {
   "cell_type": "markdown",
   "metadata": {},
   "source": [
    "##### Depth"
   ]
  },
  {
   "cell_type": "markdown",
   "metadata": {},
   "source": [
    "The **depth** of $p$ si the number of ancestor of $p$, excluding $p$ itself.\n",
    "\n",
    "The running time of `T.depth(p)` for position `p` is $O(d_p + 1)$, where $d_p$ denotes the depth of $p$ in the tree $T$, because the algorithm performas a constant-time recursive step for each ancestor of $p$. Thus algorithm `T.depth(p)` runs in $O(n)$ worst-case time, where $n$ is the total number of positions of $T$, because a position of $T$ may have depth $n-1$ if all nodes from a single branch."
   ]
  },
  {
   "cell_type": "code",
   "execution_count": 2,
   "metadata": {},
   "outputs": [],
   "source": [
    "def depth(self, p):\n",
    "    if self.is_root(p):\n",
    "        return 0\n",
    "    else:\n",
    "        return 1 + self.depth(self.parent(p))"
   ]
  },
  {
   "cell_type": "markdown",
   "metadata": {},
   "source": [
    "##### Height"
   ]
  },
  {
   "cell_type": "markdown",
   "metadata": {},
   "source": [
    "The **height** of a position $p$ in a tree $T$ is also defined recursively:\n",
    "\n",
    "* If $p$ is a fleaf, then the height of $p$ is 0\n",
    "* Otherwise, the height of $p$ is one more thatn the maximum of the heights of $p$'s children."
   ]
  },
  {
   "cell_type": "markdown",
   "metadata": {},
   "source": [
    "*The height of a nonempty tree $T$ is equal to the maximum of the dpeths of its leaf positions.*"
   ]
  },
  {
   "cell_type": "code",
   "execution_count": 3,
   "metadata": {},
   "outputs": [],
   "source": [
    "def _height1(self, p):\n",
    "    return max(self.depth(p) for p in self.positions() if self.is_leaf(p))"
   ]
  },
  {
   "cell_type": "markdown",
   "metadata": {},
   "source": [
    "However, algorithm `_hegiht1` is not very efficient. Because `_height1` calls algorithm `depth(p)` on each leaf of $T$, its running time is $O(n + \\sum_{p \\in L}(d_p + 1))$, where $L$ is the set of leaf positions of $T$. In the worst case, this will lead to $O(n^2)$."
   ]
  },
  {
   "cell_type": "markdown",
   "metadata": {},
   "source": [
    "It can be improved by:"
   ]
  },
  {
   "cell_type": "code",
   "execution_count": 4,
   "metadata": {},
   "outputs": [],
   "source": [
    "def _height2(self, p):\n",
    "    if self.is_leaf(p):\n",
    "        return 0\n",
    "    else:\n",
    "        return 1 + max(self._hegiht2(c) for c in self.children(p))"
   ]
  },
  {
   "cell_type": "markdown",
   "metadata": {},
   "source": [
    "It is important to understand why algorithm `height2` is more efficient than `height1`. The algorithm is recursive, and it progresses in a top-down fashion. If the method is initially called on the root of $T$, it will eventually be called once for each position of $T$. This is because the root eventually invokes the recursion on each of its children, which in turn invokes the recursion on each of their children, and so on."
   ]
  },
  {
   "cell_type": "markdown",
   "metadata": {},
   "source": [
    "We can determine the running time of the `height2` algorihtm by summing, over all the positions, the amount of time spent on the nonrecursive part of each call. In our implementation, there is a constant amound otf work per position, plus the overhead of computing the maximum over the iteration of children. Although we do not yet have a concrete implementation of `children(p)`, we assume that such an iteration is generated in $O(c_p + 1)$ time, where $c_p$ denotes the number of children\n",
    "of $p$. Algorithm `height2` spends $O(c_p + 1)$ time at each position $p$ to compute the maximum, and its overall running time is $O(\\sum_p (c_p + 1)) = O(n + \\sum_p c_p)$."
   ]
  },
  {
   "cell_type": "markdown",
   "metadata": {},
   "source": [
    "*Let $T$ be a tree with $n$ positions, and let $c_p$ denote the number of children of a position $p$ of $T$. Then, summing over the positions of $T$, $\\sum_p c_p = n-1$.*"
   ]
  },
  {
   "cell_type": "markdown",
   "metadata": {},
   "source": [
    "By this proposition, the running time of algorithm `height2` is $O(n)$, where $n$ is the number of positions of $T$."
   ]
  },
  {
   "cell_type": "markdown",
   "metadata": {},
   "source": [
    "## 8.2 Binary Trees"
   ]
  },
  {
   "cell_type": "markdown",
   "metadata": {},
   "source": [
    "A **binary tree** is an ordered tree with the following properties:\n",
    "\n",
    "1. Every node has at most two children.\n",
    "2. Each child node is alabeled as being either a left child or right child.\n",
    "3. A left child precedes a right child in the order of children of a node.\n",
    "\n",
    "The subtre rooted at a left or right child or an internal node $v$ is called a **left subtree** or **right subtree**. respectively, of $v$. A binary tree is **proper** if each node has either zero or two children. Some people also refer to such trees as being **full** binary trees. A binary tree that is not proper is **improper**."
   ]
  },
  {
   "cell_type": "markdown",
   "metadata": {},
   "source": [
    "### 8.2.1 The Binary Tree Abstract Data Type"
   ]
  },
  {
   "cell_type": "markdown",
   "metadata": {},
   "source": [
    "* `T.left(p)`: Return the position that represents the left child of `p`, or `None` if `p` has no left child.\n",
    "* `T.right(p)`: Return the position that represents the right child of `p` or `None` if `p` has no right child.\n",
    "* `T.sibling(p)`: Return the position that represents the sibling of `p`, or `None` if `p` has no sibling."
   ]
  },
  {
   "cell_type": "code",
   "execution_count": 5,
   "metadata": {},
   "outputs": [],
   "source": [
    "class BinaryTree(Tree):\n",
    "    \"\"\"Abstract base class representing a binary tree structure.\"\"\"\n",
    "    \n",
    "    @abstractmethod\n",
    "    def left(self, p):\n",
    "        \"\"\"Return a Position representing p's left child.\n",
    "        \n",
    "        Return None if p does not have a left child.\n",
    "        \"\"\"\n",
    "        pass\n",
    "    \n",
    "    @abstractmethod\n",
    "    def right(self, p):\n",
    "        \"\"\"Return a Position representing p's right child.\n",
    "        \n",
    "        Return None if p does not have a right child.\n",
    "        \"\"\"\n",
    "        pass\n",
    "    \n",
    "    def sibling(self, p):\n",
    "        \"\"\"Return a Position representing p's sibling (or None if no sibling).\"\"\"\n",
    "        parent = self.parent(p)\n",
    "        if parent is None:\n",
    "            return None\n",
    "        else:\n",
    "            if p == self.left(parent):\n",
    "                return self.right(parent)\n",
    "            else:\n",
    "                return self.left(parent)\n",
    "            \n",
    "    def children(self, p):\n",
    "        \"\"\"Generate an iteration of Positions representing p's children.\"\"\"\n",
    "        if self.left(p) is not None:\n",
    "            yield self.left(p)\n",
    "        \n",
    "        if self.right(p) is not None:\n",
    "            yield self.right(p)"
   ]
  },
  {
   "cell_type": "markdown",
   "metadata": {},
   "source": [
    "### 8.2.2 Properties of Binary Trees"
   ]
  },
  {
   "cell_type": "markdown",
   "metadata": {},
   "source": [
    "##### Proposition\n",
    "\n",
    "Let $T$ be a nonempty binary tree, and let $n$, $n_W$, $n_I$ and $h$ denote the number of nodes, umber of external nodes, number of internal nodes, and height of $T$, respectively.Then $T$ has the following properties:"
   ]
  },
  {
   "cell_type": "markdown",
   "metadata": {},
   "source": [
    "1. $h+1 \\leq n \\leq 2^{h+1} -1$\n",
    "2. $1 \\leq n_E \\leq 2^h$\n",
    "3. $h \\leq n_I \\leq 2^h - 1$\n",
    "4. $\\log(n+1) -1 \\leq h \\leq n - 1$"
   ]
  },
  {
   "cell_type": "markdown",
   "metadata": {},
   "source": [
    "Also, if $T$ is proper, then $T$ has the following properties:\n",
    "\n",
    "1. $2h + 1 \\leq n \\leq 2^{h+1} - 1$\n",
    "2. $h +1 \\leq n_E \\leq 2^h$\n",
    "3. $h \\leq n_I \\leq 2^h -1$\n",
    "4. $\\log(n+1) -1 \\leq h \\leq (n-1)/2$"
   ]
  },
  {
   "cell_type": "markdown",
   "metadata": {},
   "source": [
    "##### Proposition\n",
    "\n",
    "In a nonempty proper binary tree $T$, with $n_E$ external nodes and $n_I$ internal nodes, we have $n_E = n_I + 1$."
   ]
  },
  {
   "cell_type": "markdown",
   "metadata": {},
   "source": [
    "## 8.3 Implementing Trees"
   ]
  },
  {
   "cell_type": "markdown",
   "metadata": {},
   "source": [
    "The `Tree` and `BinaryTree` classes defined so far are both formally **abstract base classes**. Especially, concrete implementations of `root`, `parent`, `num_children`, `children` `__len__`, `left` and `right` are not declared yet."
   ]
  },
  {
   "cell_type": "markdown",
   "metadata": {},
   "source": [
    "We begin with the case of **binary tree**, sicne its shape is more narrowly defined."
   ]
  },
  {
   "cell_type": "code",
   "execution_count": 6,
   "metadata": {},
   "outputs": [],
   "source": [
    "class LinkedBinaryTree(BinaryTree):\n",
    "    \"\"\"Linked representation of a binary tree structure.\"\"\"\n",
    "\n",
    "    class _Node:\n",
    "        __slots__ = '_element', '_parent', '_left', '_right'\n",
    "\n",
    "        def __init__(self, element, parent=None, left=None, right=None):\n",
    "            self._element = element\n",
    "            self._parent = parent\n",
    "            self._left = left\n",
    "            self._right = right\n",
    "\n",
    "    \n",
    "    class Position(BinaryTree.Position):\n",
    "        \"\"\"An abstraction representing the location of a single element.\"\"\"\n",
    "\n",
    "        def __init__(self, container, node):\n",
    "            \"\"\"Constructor should not be invoked by user.\"\"\"\n",
    "            self._container = container\n",
    "            self._node = node\n",
    "\n",
    "        def element(self):\n",
    "            return self._node._element\n",
    "\n",
    "        \n",
    "        def __eq__(self, other):\n",
    "            return type(other) is type(self) and other._node is self._node\n",
    "\n",
    "    def _validate(self, p):\n",
    "        \"\"\"Return associated node, if position is valid.\"\"\"\n",
    "        if not isinstance(p, self.Position):\n",
    "            raise TypeError('p must be proper Position type')\n",
    "\n",
    "        if p._container is not self:\n",
    "            raise ValueError('p does not belong to this container')\n",
    "\n",
    "        if p._node._parent is p._node:\n",
    "            raise ValueError('p is no longer valid')\n",
    "            return p._node\n",
    "        return p._node\n",
    "\n",
    "    def _make_position(self, node):\n",
    "        \"\"\"Return Position instance for given node (or None if no node).\"\"\"\n",
    "        return self.Position(self, node) if node is not None else None\n",
    "\n",
    "\n",
    "    def __init__(self):\n",
    "        \"\"\"Create an intially empty binary tree.\"\"\"\n",
    "        self._root = None\n",
    "        self._size = 0\n",
    "        self._positions = []\n",
    "    \n",
    "\n",
    "    def __len__(self):\n",
    "        \"\"\"Return the total number of elements in the tree.\"\"\"\n",
    "        return self._size\n",
    "\n",
    "    def root(self):\n",
    "        \"\"\"Return the root Position of the tree (or None if tree is empty).\"\"\"\n",
    "        return self._make_position(self._root)\n",
    "\n",
    "    @property\n",
    "    def positions(self):\n",
    "        return self._positions\n",
    "    \n",
    "    def parent(self, p):\n",
    "        \"\"\"Return the Position of p's parent(or None if p is root).\"\"\"\n",
    "        node = self._validate(p)\n",
    "        return self._make_position(node._parent)\n",
    "\n",
    "\n",
    "    def left(self, p):\n",
    "        \"\"\"Return the Position of p's left child(or NOne if no left child).\"\"\"\n",
    "        node = self._validate(p)\n",
    "        return self._make_position(node._left)\n",
    "\n",
    "    def right(self, p):\n",
    "        \"\"\"Return the Position of p's left child(or NOne if no left child).\"\"\"\n",
    "        node = self._validate(p)\n",
    "        return self._make_position(node._right)\n",
    "\n",
    "    def num_children(self, p):\n",
    "        \"\"\"Return the number of children of Position p.\"\"\"\n",
    "        node = self._validate(p)\n",
    "        count = 0\n",
    "        if node._left is not None:\n",
    "            count += 1\n",
    "        if node._right is not None:\n",
    "            count += 1\n",
    "        return count\n",
    "\n",
    "    def _add_root(self, e):\n",
    "        \"\"\"Place element e at the root of an empty tree and return new Position.\n",
    "\n",
    "        Raise ValueError if tree nonempty.\n",
    "        \"\"\"\n",
    "\n",
    "        if self._root is not None: raise ValueError('Root exists')\n",
    "        self._size = 1\n",
    "        self._root = self._Node(e)\n",
    "        pos = self._make_position(self._root)\n",
    "        self._positions.append(pos)\n",
    "        return pos\n",
    "\n",
    "    def _add_left(self, p, e):\n",
    "        \"\"\"Create a new left child for Position p, storing element e.\n",
    "        \n",
    "        Return the Position of new node\n",
    "        Raise ValueError if Position p is invalidor p already has a left child.\n",
    "        \"\"\"\n",
    "\n",
    "        node = self._validate(p)\n",
    "        if node._right is not None: raise ValueError('Left child exists')\n",
    "        self._size += 1\n",
    "        node._left = self._Node(e, node)\n",
    "        pos = self._make_position(node._left)\n",
    "        self._positions.append(pos)\n",
    "        return pos \n",
    "\n",
    "    def _add_right(self, p, e):\n",
    "        \"\"\"Create a new right child for Position p, storing element e.\n",
    "        \n",
    "        Return the Position of new node\n",
    "        Raise ValueError if Position p is invalid or p already has a right child.\n",
    "        \"\"\"\n",
    "\n",
    "        node = self._validate(p)\n",
    "        if node._right is not None: raise ValueError('Right child exists')\n",
    "        self._size += 1\n",
    "        node._right = self._Node(e, node)\n",
    "        pos = self._make_position(node._right)\n",
    "        self._positions.append(pos)\n",
    "        return pos\n",
    "\n",
    "\n",
    "    def _replace(self, p, e):\n",
    "        \"\"\"Replace the element at position p with e, and return old element.\"\"\"\n",
    "        node = self._validate(p)\n",
    "        old = node._element\n",
    "        node._element = e\n",
    "        return old\n",
    "\n",
    "    def _delete(self, p):\n",
    "        \"\"\"Delete the node at Position p, and replace it with its child, if any..git/\n",
    "\n",
    "        Return the element that had been stored at Position p\n",
    "        Raise ValueError if Position p is invalid or p has two children.\n",
    "        \"\"\"\n",
    "\n",
    "        node = self._validate(p)\n",
    "        if self.num_children(p) == 2: raise ValueError('p has two children')\n",
    "        child = node._left if node._left else node._right\n",
    "        if child is not None:\n",
    "            child._parent = node._parent\n",
    "        if node is self._root:\n",
    "            self._root = child\n",
    "        else:\n",
    "            parent = node._parent\n",
    "            if node is parent._left:\n",
    "                parent._left = child\n",
    "            else:\n",
    "                parent._right = child\n",
    "        \n",
    "        self._positions.remove(p)\n",
    "        self._size -= 1\n",
    "        node._parent = node\n",
    "        return node._element\n",
    "\n",
    "    def _attach(self, p, t1, t2):\n",
    "        \"\"\"Attach trees t1 and t2 as left and right subtrees of external p.\"\"\"\n",
    "        node = self._validate(p)\n",
    "        if not self.is_leaf(p): raise ValueError('position must be leaf')\n",
    "        if not type(self) is type(t1) is type(t2):\n",
    "            raise TypeError('Tree types must match')\n",
    "        self._size += len(t1) + len(t2)\n",
    "        if not t1.is_empty():\n",
    "            t1._root._parent = node\n",
    "            node._left = t1._root\n",
    "            t1._root = None\n",
    "            t1._size = 0\n",
    "        if not t2.is_empty():\n",
    "            t2._root._parent = node\n",
    "            node._right = t2.root\n",
    "            t2._root = None\n",
    "            t2._size = 0"
   ]
  },
  {
   "cell_type": "markdown",
   "metadata": {},
   "source": [
    "#### Performance of the Linked Binary Tree Implementation\n",
    "\n",
    "|Operation|Running Time|\n",
    "|---|---|\n",
    "|`len`, `is_empty`| $O(1)$ |\n",
    "|`root`, `parent`, `left`, `right`, `sibling`, `children`, `num_children` | $O(1)$ |\n",
    "|`is_root`, `is_leaf` | $O(1)$ |\n",
    "|`depth(p)` | $O(d_p + 1)$ |\n",
    "|`height` | $O(n)$ |\n",
    "|`add_root`, `add_left`, `add_right`, `replace`, `delete`, `attach` | $O(1)$ |"
   ]
  },
  {
   "cell_type": "markdown",
   "metadata": {},
   "source": [
    "### 8.3.2 Array-Based Representation of a Binary Tree"
   ]
  },
  {
   "cell_type": "markdown",
   "metadata": {},
   "source": [
    "Alternative way of representing binary tree T is based on a way of numbering the positions of T"
   ]
  },
  {
   "cell_type": "markdown",
   "metadata": {},
   "source": [
    "* If $p$ is the root of $T$, then $f(p) = 0$.\n",
    "* If $p$ is the left child of position $q$, then $f(p) = 2f(q) +1$\n",
    "* If $p$ is the right child of position $q$, then $f(p) = 2f(q) + 2$"
   ]
  },
  {
   "cell_type": "markdown",
   "metadata": {},
   "source": [
    "This type of numbering is known as a *level numbering*."
   ]
  },
  {
   "cell_type": "markdown",
   "metadata": {},
   "source": [
    "The level numbering function $f$ suggests a representation of a binary tree $T$ by means of an array-based structure $A$, with the element at position $p$ of $T$ stored at index $f(p)$ of the array."
   ]
  },
  {
   "cell_type": "markdown",
   "metadata": {},
   "source": [
    "For general binary trees, the exponential $O(2^n)$ worst-case space requirement of this representation is prohibitive.\n",
    "\n",
    "Another drawback of level numbering is that some update operations for trees cannot be efficiently supported. (Deleting a node can affect all descendants)"
   ]
  },
  {
   "cell_type": "markdown",
   "metadata": {},
   "source": [
    "### 8.3.3 Linked Structure for General Trees"
   ]
  },
  {
   "cell_type": "markdown",
   "metadata": {},
   "source": [
    "For a general tree, there is no priori limit on the number of children that a node may have. Children can be set to a list and children of the node can refer the element of the list."
   ]
  },
  {
   "cell_type": "markdown",
   "metadata": {},
   "source": [
    "Summary of the performance of the implementation of a general tree using a linked structure."
   ]
  },
  {
   "cell_type": "markdown",
   "metadata": {},
   "source": [
    "|Operation|Running Time|\n",
    "|---|---|\n",
    "|`len`, `is_empty`|$O(1)$|\n",
    "|`root`, `parent`, `is_root`, `is_leaf` |$O(1)$|\n",
    "|`children(p)`|$O(c_p + 1)$|\n",
    "|`depth(p)`|$O(d_p + 1)$|\n",
    "|`height`|$O(n)$|\n",
    "\n",
    "$c_p$ denotes the number of children of a position $p$"
   ]
  },
  {
   "cell_type": "markdown",
   "metadata": {},
   "source": [
    "## 8.4 Tree Traversal Algorithms"
   ]
  },
  {
   "cell_type": "markdown",
   "metadata": {},
   "source": [
    "A *traversal* of a tree $T$ is a systematic way of accessing, or \"visiting,\" all the possible positions of $T$."
   ]
  },
  {
   "cell_type": "markdown",
   "metadata": {},
   "source": [
    "### 8.4.1 Preporder and Postorder Traversals of General Trees\n",
    "\n",
    "#### Preorder traversal\n",
    "\n",
    "```\n",
    "Algorithm preorder(T, p):\n",
    "  perform the \"visit\" action for position p\n",
    "  for each child c in T.children(p) do\n",
    "    preorder(T, c)\n",
    "```"
   ]
  },
  {
   "cell_type": "markdown",
   "metadata": {},
   "source": [
    "#### Postorder Traversal\n",
    "\n",
    "```\n",
    "Algorithm postorder(T, p):\n",
    "  for each child c in T.children(p) do\n",
    "    postorder(T, c)\n",
    "perform the \"visit\" action for position p\n",
    "```"
   ]
  },
  {
   "cell_type": "markdown",
   "metadata": {},
   "source": [
    "#### Running-Time analysis\n",
    "\n",
    "At each position $p$, the nonrecursive part of the traversal algorithm requires time $O(c_p + 1)$, where $c_p$ is the number of children of $p$, under the assumption that the \"visit\" itself takes $O(1)$ time.\n",
    "\n",
    "The overall running time for the traversal of tree $T$ is $O(n)$, where $n$ is the nubmer of positions in the tree. This running time is asymptotically optimal since the traversal must visit all the $n$ positions of the tree."
   ]
  },
  {
   "cell_type": "markdown",
   "metadata": {},
   "source": [
    "### 8.4.2 Breadth-First Tree Traversal\n",
    "\n",
    "Breadth-Frist tree traversal is to traverse a tree so that we visit all the positions at depth $d$ before we visit the positions at depth $d+1$.\n",
    "\n",
    "The process is not recursive, since we are not traversing entire subtrees at once. We use a queue to produce a FIFO semantics for the order in which we visit nodes. The overall running time is $O(n)$, due to the $n$ calls to `enqueue` and $n$ calls to `dequeue`.\n",
    "\n",
    "The way of trasversing a tree that visits all the positions at depth $d$ before visit positions at depth $d + 1$ is called as **breadth-first traversal**\n",
    "\n",
    "```\n",
    "Algorithm breadth(T):\n",
    "  Initialize queue Q to contain T.root()\n",
    "  while Q not empty do\n",
    "    p = Q.dequeue()\n",
    "    perform the \"visit\" action for position p\n",
    "    for each child c in T.children(p) do\n",
    "      Q.enqueue(c)\n",
    "```"
   ]
  },
  {
   "cell_type": "markdown",
   "metadata": {},
   "source": [
    "### 8.4.3 Inorder Traversal of a Binary Tree\n",
    "\n",
    "During an inorder traversal, we visit a position between the recursive traversals of its left and right subtrees. The inorder traversal of a binary tree $T$ can be informally viewecd as visiting the nodes of $T$ \"from left to right.\" Indeed, for every position $p$, the inorder traversal visits $p$ after all the positions in the left subtree of $p$ and before all the positions in the right subtree of $p$.\n",
    "\n",
    "```\n",
    "Algorithm inorder(p):\n",
    "  if p has a left child lc then\n",
    "    inorder(lc)\n",
    "perform the \"visit\" action for position p\n",
    "if p has a right child rc then\n",
    "  inorder(rc)\n",
    "```"
   ]
  },
  {
   "cell_type": "markdown",
   "metadata": {},
   "source": [
    "#### Binary Search Trees\n",
    "\n",
    "An mportant application of the inorder traversal algorithm arises when we store an ordered sequnce of elements in a binary tree, defining a structure we call a binary search tree. Let $S$ be a set whose unique elements have an order relation. FOr example, $S$ could be a set of integers. A binary search tree for $S$ is a binary tree $T$ such that, for each position $p$ of $T$:\n",
    "\n",
    "* Position $p$ stores an element of $S$, denoted as $e(p)$.\n",
    "* Elements stored in  the left subtree of $p$ (if any) are less than $e(p)$.\n",
    "* Elements stored in the right subtree of $p$ (if any) are greater than $e(p)$.\n",
    "\n",
    "Running time of binary search tree is proportional to the height of $T$. It can be as small as $\\log (n+1) -1$ or as large as $n -1$, when $n$ is the number of nodes of a tree. Thus, binary search trees are most efficient when they have small height."
   ]
  },
  {
   "cell_type": "markdown",
   "metadata": {},
   "source": [
    "![tree traversals](https://miro.medium.com/max/700/0*YzOEfnGnWTPbsUkv)\n",
    "\n",
    "From: https://medium.com/@ajinkyajawale/inorder-preorder-postorder-traversal-of-binary-tree-58326119d8da"
   ]
  },
  {
   "cell_type": "markdown",
   "metadata": {},
   "source": [
    "### 8.4.4 Implementing Tree Traversals in Python"
   ]
  },
  {
   "cell_type": "markdown",
   "metadata": {},
   "source": [
    "In this context, `__iter__` method can be effectively used to implement Tree Traversals. The book suggests follwing baseline:"
   ]
  },
  {
   "cell_type": "markdown",
   "metadata": {},
   "source": [
    "```python\n",
    "def __iter__(self):\n",
    "        \"\"\"Generate an iteration of the tree's elements.\"\"\"\n",
    "        for p in self.positions():\n",
    "            yield p.element()\n",
    "        \n",
    "```"
   ]
  },
  {
   "cell_type": "markdown",
   "metadata": {},
   "source": [
    "`Positions` need to be implemented independently for each strategy."
   ]
  },
  {
   "cell_type": "markdown",
   "metadata": {},
   "source": [
    "#### Preorder Traversal"
   ]
  },
  {
   "cell_type": "markdown",
   "metadata": {},
   "source": [
    "`T.preorder()` for tree `T` will generate a preorder iteration of all positions within the tree. Recursion is employed here."
   ]
  },
  {
   "cell_type": "markdown",
   "metadata": {},
   "source": [
    "```python\n",
    "def preorder(self):\n",
    "    \"\"\"Genertate a preorder iteration of positions in the tree.\"\"\"\n",
    "    if not self.is_empty():\n",
    "        for p in self._subtree_preorder(self.root()):\n",
    "            yield p\n",
    "\n",
    "def _subtree_preorder(self, p):\n",
    "    \"\"\"Generate a preorder iteration of positions in subtree rooted at p.\"\"\"\n",
    "    yield p\n",
    "    for c in self.children(p):\n",
    "        for other in self._subtree_preorder(c):\n",
    "            yield other\n",
    "```"
   ]
  },
  {
   "cell_type": "markdown",
   "metadata": {},
   "source": [
    "Also, the official tree ADT support a method `positions` to return entire order."
   ]
  },
  {
   "cell_type": "markdown",
   "metadata": {},
   "source": [
    "```python\n",
    "def positions(self):\n",
    "    \"\"\"Generate an iteration of the tree's positions.\"\"\"\n",
    "    return self.preorder()\n",
    "```"
   ]
  },
  {
   "cell_type": "markdown",
   "metadata": {},
   "source": [
    "### Postorder Traversal"
   ]
  },
  {
   "cell_type": "markdown",
   "metadata": {},
   "source": [
    "Basic structures are similar as the `preorder`"
   ]
  },
  {
   "cell_type": "markdown",
   "metadata": {},
   "source": [
    "```python\n",
    "def postorder(self):\n",
    "    \"\"\"Generate a postorder iteration of positions in the tree.\"\"\"\n",
    "    if not self.is_empty():\n",
    "        for p in self._subtree_postorder(self.root()):\n",
    "            yield p\n",
    "            \n",
    "def _subtree_postorder(self, p):\n",
    "    \"\"\"Generate a postorder iteration of postiions in subtree rooted at p.\"\"\"\n",
    "    for c in self.children(p):\n",
    "        for other in self._subtree_postorder(c):\n",
    "            yield other\n",
    "        yield p\n",
    "```"
   ]
  },
  {
   "cell_type": "markdown",
   "metadata": {},
   "source": [
    "#### Breadth-Frist Traversal"
   ]
  },
  {
   "cell_type": "markdown",
   "metadata": {},
   "source": [
    "Unlike the other algorithms above, it does not use recursive approach."
   ]
  },
  {
   "cell_type": "markdown",
   "metadata": {},
   "source": [
    "```python\n",
    "def breadthfirst(self):\n",
    "    \"\"\"Generate a breadth-first iteration of the positions of the tree.\"\"\"\n",
    "    if not self.is_empty():\n",
    "        fringe = LinkedQueue()  # known positions not ye yielded\n",
    "        fringe.enqueue(self.root())  # starting with the root\n",
    "        while not fringe.is_empty():\n",
    "            p = fringe.dequeue()  # remove from front of the queue\n",
    "            yield p  # report this position\n",
    "            for c in self.children(p): \n",
    "                fringe.enqueue(c)  # add children to back of queue\n",
    "```"
   ]
  },
  {
   "cell_type": "markdown",
   "metadata": {},
   "source": [
    "#### Inorder Traversal for Binary Trees"
   ]
  },
  {
   "cell_type": "markdown",
   "metadata": {},
   "source": [
    "The inorder traversal algorithm relies on the notion of a left and right child of a node, so it only can be applied to binary trees."
   ]
  },
  {
   "cell_type": "markdown",
   "metadata": {},
   "source": [
    "```python\n",
    "def inorder(self):\n",
    "    \"\"\"Generate an inorder iteration of positions in the tree.\"\"\"\n",
    "    if not self.is_empty(): \n",
    "        for p in self._subtree_inorder(self.root()):\n",
    "            yield p\n",
    "\n",
    "def _subtree_inorder(self, p):\n",
    "    \"\"\"Generate an inorder iteration of positions in subtree rooted at p.\"\"\"\n",
    "    if self.left(p) is not None:\n",
    "        for other in self._subtree_inorder(self.left(p)):\n",
    "            yield other\n",
    "    yield p\n",
    "    if self.right(p) is not None:\n",
    "        for other in self._subtree_inorder(self.right(p)):\n",
    "            yield other\n",
    "```"
   ]
  },
  {
   "cell_type": "markdown",
   "metadata": {},
   "source": [
    "```python\n",
    "# override inherited version to make inorder the default\n",
    "def positions(self):\n",
    "    \"\"\"Generate an iteration of the tree's positions.\"\"\"\n",
    "    return self.inorder()\n",
    "```"
   ]
  },
  {
   "cell_type": "markdown",
   "metadata": {},
   "source": [
    "### 8.4.5 Applications of Tree Traversals"
   ]
  },
  {
   "cell_type": "markdown",
   "metadata": {},
   "source": [
    "#### Table of Contents"
   ]
  },
  {
   "cell_type": "markdown",
   "metadata": {},
   "source": [
    "Preorder traversal can effectively represent the table of contents via using tree structures. Of course, it is possible to iteratively call each node without using tree traversals, but it will lead the command to call `depth` for every position, which will be extremely inefficient, making $O(n^2)$."
   ]
  },
  {
   "cell_type": "markdown",
   "metadata": {},
   "source": [
    "If we apply preorder traversal to the case, the worst-case will be just $O(n)$ time."
   ]
  },
  {
   "cell_type": "code",
   "execution_count": 7,
   "metadata": {},
   "outputs": [],
   "source": [
    "def preorder_indent(T, p, d):\n",
    "    \"\"\"Print preorder representation of subtree of T rooted at p at depth d.\"\"\"\n",
    "    print(2 * d * ' '  + str(p.element()))\n",
    "    for c in T.children(p):\n",
    "        preorder_indent(T, c, d+1)"
   ]
  },
  {
   "cell_type": "markdown",
   "metadata": {},
   "source": [
    "As can be seen above, parametrizing the depth and recursive call can reduce the burden of computation."
   ]
  },
  {
   "cell_type": "markdown",
   "metadata": {},
   "source": [
    "Let's consider the following case:\n",
    "\n",
    "Electronics R'Us\n",
    "\n",
    "```\n",
    "1 R&D\n",
    "2 Sales\n",
    "  2.1 Domestic\n",
    "  2.2 International\n",
    "    2.2.1 Canada\n",
    "    2.2.2 S. America\n",
    "```"
   ]
  },
  {
   "cell_type": "code",
   "execution_count": 8,
   "metadata": {},
   "outputs": [],
   "source": [
    "def preorder_label(T, p, d, path):\n",
    "    \"\"\"Print labeled representation of subtree of T rooted at p at depth d.\"\"\"\n",
    "    label = '.'.join(str(j+1) for j in path)\n",
    "    print(2 * d * ' ' + label, p.element())\n",
    "    path.append(0)\n",
    "    for c in T.children(p):\n",
    "        preporder_label(T, c, d+1, path)\n",
    "        path[-1] += 1\n",
    "    path.pop()"
   ]
  },
  {
   "cell_type": "markdown",
   "metadata": {},
   "source": [
    "#### Parenthetic Representations of a Tree"
   ]
  },
  {
   "cell_type": "markdown",
   "metadata": {},
   "source": [
    "The **parenthetic string representation** $P(T)$ of tree $T$ is recursively defined as follows. If $T$ consists of a single position $p$, then\n",
    "\n",
    "$$P(T) = \\text{str(p.element())}$$"
   ]
  },
  {
   "cell_type": "markdown",
   "metadata": {},
   "source": [
    "Otherwise, it is defined recursively as,\n",
    "\n",
    "$$P(T) = \\text{str(p.element())} + `(' + P(T_1) + `,\\ ' + \\cdots + `,\\ ' + P(T_k) + `)'$$"
   ]
  },
  {
   "cell_type": "code",
   "execution_count": 9,
   "metadata": {},
   "outputs": [],
   "source": [
    "def parenthesize(t, p):\n",
    "    \"\"\"Print parenthesized representation of subtree of T rooted at p.\"\"\"\n",
    "    print(p.element(), end='')\n",
    "    if not T.is_leaf(p):\n",
    "        first_time = True\n",
    "        for c in T.children(p):\n",
    "            sep = ' (' if first_time else ', '\n",
    "            print(sep, end='')\n",
    "            first_time = False\n",
    "            parenthesize(t, c)\n",
    "        print(')', end='')"
   ]
  },
  {
   "cell_type": "markdown",
   "metadata": {},
   "source": [
    "#### Computing Disk Space"
   ]
  },
  {
   "cell_type": "markdown",
   "metadata": {},
   "source": [
    "The recursive computation of disk space is emblematic of a postorder traversal, aswe cannot efectively compute the total space used by a directory until after we know the space that is used by its children directories."
   ]
  },
  {
   "cell_type": "code",
   "execution_count": 10,
   "metadata": {},
   "outputs": [],
   "source": [
    "def disk_space(T, p):\n",
    "    \"\"\"Return total disk space for subtree of T rooted at p.\"\"\"\n",
    "    subtotal = p.element().space()\n",
    "    for c in T.children(p):\n",
    "        subtotal += disk_space(T, c)\n",
    "    return subtotals"
   ]
  },
  {
   "cell_type": "markdown",
   "metadata": {},
   "source": [
    "### 8.4.6 Euler Tours and the Template Method Pattern"
   ]
  },
  {
   "cell_type": "markdown",
   "metadata": {},
   "source": [
    "In some cases, it is important to know the depth of a position in tree traversals or the complete path from the root to that position. We hitherto employed recursive approaches but in this secdtion, the author laid emphasis on OOP concepts, adaptability and reusability."
   ]
  },
  {
   "cell_type": "markdown",
   "metadata": {},
   "source": [
    "This section develops a general framework for implementing tree traversals based on a concept of ***Euler tour traversal***."
   ]
  },
  {
   "cell_type": "markdown",
   "metadata": {},
   "source": [
    "![euler tour](https://upload.wikimedia.org/wikipedia/commons/thumb/1/14/Stirling_permutation_Euler_tour.svg/240px-Stirling_permutation_Euler_tour.svg.png)"
   ]
  },
  {
   "cell_type": "markdown",
   "metadata": {},
   "source": [
    "The complexity of this walk is $O(n)$, because it progresses exacctly two times along each of the $n-1$ edges of the tree - once going downward along the edge, and later going upward along the edge."
   ]
  },
  {
   "cell_type": "markdown",
   "metadata": {},
   "source": [
    "* A \"pre visit\" occurs when first reaching the position, that is, when the walk passes immediately left of the node in our visualization.\n",
    "* A \"post visit\" occurs when the walk later proceeds upward from that position, that is, when the walk passes to the right of the node in our visualization."
   ]
  },
  {
   "cell_type": "markdown",
   "metadata": {},
   "source": [
    "The process of an Euler tour can easily be viewed recursively. In between \"pre visit\" and \"post visit\" of a given position will be a recursive tour of each of its subtrees."
   ]
  },
  {
   "cell_type": "markdown",
   "metadata": {},
   "source": [
    "##### Pseudo-cde for an Euler tour"
   ]
  },
  {
   "cell_type": "markdown",
   "metadata": {},
   "source": [
    "```\n",
    "Algorithm eulertour(T, p):\n",
    "  perform the \"pre visit\" action for position p\n",
    "  for each child c in T.children(p) do\n",
    "      eulertour(T, c)\n",
    "  perform the \"post visit\" action for position p\n",
    "\n",
    "```"
   ]
  },
  {
   "cell_type": "markdown",
   "metadata": {},
   "source": [
    "#### The template Method Pattern"
   ]
  },
  {
   "cell_type": "markdown",
   "metadata": {},
   "source": [
    "The template method pattern describes a generic computation mechanism that can be specialized for a particular appplication by redefining certain steps."
   ]
  },
  {
   "cell_type": "markdown",
   "metadata": {},
   "source": [
    "In order to support customization, `hooks` method need to be called at designated steps of the process."
   ]
  },
  {
   "cell_type": "markdown",
   "metadata": {},
   "source": [
    "For Euler tour, two hooks are needed. Firstly, a pre-visit hoos is called before the subtrees are traversed, Secondly, a post visit hook is called after the completion of the subtree traversals."
   ]
  },
  {
   "cell_type": "markdown",
   "metadata": {},
   "source": [
    "#### Python Implementation"
   ]
  },
  {
   "cell_type": "code",
   "execution_count": 11,
   "metadata": {},
   "outputs": [],
   "source": [
    "class EulerTour:\n",
    "    \"\"\"Abstract base class for performing Euler tour of a tree.\n",
    "    \n",
    "    _hook_previsit and hook_postvisit may be overridden by sublcasses.\n",
    "    \"\"\"\n",
    "    \n",
    "    def __init___(self, tree):\n",
    "        \"\"\"Prepare an Euler tour template for given tree.\"\"\"\n",
    "        self._tree = tree\n",
    "        \n",
    "    def tree(self):\n",
    "        \"\"\"Return reference to the tree being traversed.\"\"\"\n",
    "        return self._tree\n",
    "    \n",
    "    def execute(self):\n",
    "        \"\"\"Perform the tour and return any result from post visit of root.\"\"\"\n",
    "        if len(self._tree) > 0:\n",
    "            return self._tour(self._tree.root(), 0, []) # Start the recursion\n",
    "    \n",
    "    def _tour(self, p, d, path):\n",
    "        \"\"\"Perform tour of subtree rooted at Position p.\n",
    "        \n",
    "        p: Position of current node being visited\n",
    "        d: depth of p in the tree\n",
    "        path: list of indices of children on path from root to p\n",
    "        \"\"\"\n",
    "        self._hook_previsit(p, d, path)\n",
    "        results = []\n",
    "        path.append(0)\n",
    "        for c in self._tree.children(p):\n",
    "            results.append(self._tour(c, d+1, path)) # recur on child's subtree\n",
    "            path[-1] += 1 # increment index\n",
    "        path.pop()\n",
    "        answer = self._hook_postvisit(p, d, path, results)\n",
    "        return answer\n",
    "    \n",
    "    def _hook_previsit(self, p, d, path):\n",
    "        pass\n",
    "    \n",
    "    def _hook_postvisit(self, p, d, path):\n",
    "        pass"
   ]
  },
  {
   "cell_type": "markdown",
   "metadata": {},
   "source": [
    "## 8.6 Case Study: An Expression Tree"
   ]
  },
  {
   "cell_type": "markdown",
   "metadata": {},
   "source": [
    "Here, we define a new `ExpressionTree` that supports constructing arithmetic expressions. It requires two forms:\n",
    "\n",
    "* ExpressionTree(value): Create a tree storing the given value at the root.\n",
    "* ExpressionTree(`op`, $E_1$, $E_2$): Create a tree stroing string `op` at the root and with the structures of existing `ExpressionTree` instances $E_1$ and $E_2$ as the left and right subtrees of the root, respectively"
   ]
  },
  {
   "cell_type": "code",
   "execution_count": 13,
   "metadata": {},
   "outputs": [],
   "source": [
    "class ExpressionTree(LinkedBinaryTree):\n",
    "    \"\"\"An arithmetic expression tree.\"\"\"\n",
    "    \n",
    "    def __init__(self, token, left=None, right=None):\n",
    "        \"\"\"Create an expression tree.\n",
    "        \n",
    "        In a single parameter form, token should be a leaf value (e.g., '42')\n",
    "        and the expression tree will have that value at an isolated node.\n",
    "        \n",
    "        In a three-parameter version, token should be an operator,\n",
    "        and left and right should be existing ExpressionTree instances\n",
    "        that become the operand for the binary operator.\n",
    "        \"\"\"\n",
    "        \n",
    "        super().__init__()\n",
    "        if not isinstance(token, str):\n",
    "            raise TypeError('Token must be a string')\n",
    "            \n",
    "        self._add_root(token)\n",
    "        if left is not None:\n",
    "            if token not in '+-*/x':\n",
    "                raise ValueError('Token must be a string')\n",
    "            self._attach(self.root(), left, right)\n",
    "        \n",
    "    def __str__(self):\n",
    "        \"\"\"Return string representation of the expression.\"\"\"\n",
    "        pieces = []\n",
    "        self._parenthesize_recur(self.root(), pieces)\n",
    "        return ''.join(pieces)\n",
    "    \n",
    "    def _parenthesize_recur(self, p, result):\n",
    "        \"\"\"Append piecewise representation of p's subtree ot resulting list.\"\"\"\n",
    "        if self.is_leaf(p):\n",
    "            result.append(str(p.element()))\n",
    "        else:\n",
    "            result.append('(')\n",
    "            self._parenthesize_recur(self.left(p), result)\n",
    "            self.append(p.element())\n",
    "            self._parenthesize_recur(self,right(p), result)\n",
    "            self.append(')')\n",
    "            "
   ]
  },
  {
   "cell_type": "markdown",
   "metadata": {},
   "source": [
    "#### Expression Tree Evaluation"
   ]
  },
  {
   "cell_type": "markdown",
   "metadata": {},
   "source": [
    "Pseudo-code:"
   ]
  },
  {
   "cell_type": "markdown",
   "metadata": {},
   "source": [
    "```\n",
    "Algorithm evaluate_recur(p):\n",
    "  if p is a leaf then\n",
    "    return the value stored at p\n",
    "  else\n",
    "    let o be the operator stored at p\n",
    "    x = evaluate_recur(left(p))\n",
    "    y = evaluate_recur(right(p))\n",
    "    return x o y\n",
    "```"
   ]
  },
  {
   "cell_type": "code",
   "execution_count": 15,
   "metadata": {},
   "outputs": [],
   "source": [
    "class ExpressionTree(LinkedBinaryTree):\n",
    "    \"\"\"An arithmetic expression tree.\"\"\"\n",
    "    \n",
    "    def __init__(self, token, left=None, right=None):\n",
    "        \"\"\"Create an expression tree.\n",
    "        \n",
    "        In a single parameter form, token should be a leaf value (e.g., '42')\n",
    "        and the expression tree will have that value at an isolated node.\n",
    "        \n",
    "        In a three-parameter version, token should be an operator,\n",
    "        and left and right should be existing ExpressionTree instances\n",
    "        that become the operand for the binary operator.\n",
    "        \"\"\"\n",
    "        \n",
    "        super().__init__()\n",
    "        if not isinstance(token, str):\n",
    "            raise TypeError('Token must be a string')\n",
    "            \n",
    "        self._add_root(token)\n",
    "        if left is not None:\n",
    "            if token not in '+-*/x':\n",
    "                raise ValueError('Token must be a string')\n",
    "            self._attach(self.root(), left, right)\n",
    "        \n",
    "    def __str__(self):\n",
    "        \"\"\"Return string representation of the expression.\"\"\"\n",
    "        pieces = []\n",
    "        self._parenthesize_recur(self.root(), pieces)\n",
    "        return ''.join(pieces)\n",
    "    \n",
    "    def _parenthesize_recur(self, p, result):\n",
    "        \"\"\"Append piecewise representation of p's subtree ot resulting list.\"\"\"\n",
    "        if self.is_leaf(p):\n",
    "            result.append(str(p.element()))\n",
    "        else:\n",
    "            result.append('(')\n",
    "            self._parenthesize_recur(self.left(p), result)\n",
    "            self.append(p.element())\n",
    "            self._parenthesize_recur(self,right(p), result)\n",
    "            self.append(')')\n",
    "    \n",
    "    # NEW CODE\n",
    "    \n",
    "    def evaluate(self):\n",
    "        \"\"\"Return the numeric result of the expression.\"\"\"\n",
    "        return self._evaluate_recur(self.root())\n",
    "\n",
    "    def _evaluate_recur(self, p):\n",
    "        \"\"\"Return the numeric result of subtree rooted at p.\"\"\"\n",
    "        if self.is_leaf(p):\n",
    "            return float(p.element())\n",
    "        else:\n",
    "            op = p.element()\n",
    "            left_val = self._evaluate_recur(self.left(p))\n",
    "            right_val = self._evaluate_recur(self.right(p))\n",
    "            if op == '+': return left_val + right_val\n",
    "            elif op == '-': return left_val - right_val\n",
    "            elif op == '/': return left_val / right_val\n",
    "            else: return left_val * right_val\n",
    "            "
   ]
  },
  {
   "cell_type": "markdown",
   "metadata": {},
   "source": [
    "#### Building an Expression Tree"
   ]
  },
  {
   "cell_type": "code",
   "execution_count": 16,
   "metadata": {},
   "outputs": [],
   "source": [
    "def build_expression_tree(tokens):\n",
    "    \"\"\"Return an Expression Tree based upon by a tokenized expression.\"\"\"\n",
    "    S = []\n",
    "    for t in tokens:\n",
    "        if t in '+-x*/':\n",
    "            S.append(t)\n",
    "        elif t not in '()':\n",
    "            S.append(ExpressionTree(t))\n",
    "        elif t == ')':\n",
    "            right = S.pop()\n",
    "            op = S.pop()\n",
    "            left = S.pop()\n",
    "            S.append(ExpressionTree(op, left, right))\n",
    "            \n",
    "    return S.pop()"
   ]
  },
  {
   "cell_type": "code",
   "execution_count": null,
   "metadata": {},
   "outputs": [],
   "source": []
  }
 ],
 "metadata": {
  "kernelspec": {
   "display_name": "Python 3",
   "language": "python",
   "name": "python3"
  },
  "language_info": {
   "codemirror_mode": {
    "name": "ipython",
    "version": 3
   },
   "file_extension": ".py",
   "mimetype": "text/x-python",
   "name": "python",
   "nbconvert_exporter": "python",
   "pygments_lexer": "ipython3",
   "version": "3.8.3"
  }
 },
 "nbformat": 4,
 "nbformat_minor": 4
}
