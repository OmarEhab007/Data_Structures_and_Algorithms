{
 "cells": [
  {
   "cell_type": "markdown",
   "metadata": {},
   "source": [
    "# Chapter 06: Stacks, Queues, and Deques"
   ]
  },
  {
   "cell_type": "markdown",
   "metadata": {},
   "source": [
    "## 6.1 Stacks"
   ]
  },
  {
   "cell_type": "markdown",
   "metadata": {},
   "source": [
    "A **stack** is a collection of objects that are inserted and removed according to the ***last-in, first-out (LIFO)*** principle."
   ]
  },
  {
   "cell_type": "markdown",
   "metadata": {},
   "source": [
    "#### Example 6.1:\n",
    "\n",
    "Internet web browsers store the addresses of recently visited sites in stack. Each time a user visits a new site, that site's address is \"pushed\" onto the stack of addresses. The browser then allows the user to \"pop\" back to previously visited sites using the \"back\" button."
   ]
  },
  {
   "cell_type": "markdown",
   "metadata": {},
   "source": [
    "#### Example 6.2:\n",
    "Text editors usually provide an \"undo\" mechanism that cancels recent editing operations and reverts to former states of a document. This undo operation can be accomplished by keeping text changes in a stack."
   ]
  },
  {
   "cell_type": "markdown",
   "metadata": {},
   "source": [
    "### 6.1.1 The Stack Abstract Data Type"
   ]
  },
  {
   "cell_type": "markdown",
   "metadata": {},
   "source": [
    "Fomally, a stack is an abstrat data type (ADT) such that an instance $\\mathcal{S}$ supports the folloiwng two methods:"
   ]
  },
  {
   "cell_type": "markdown",
   "metadata": {},
   "source": [
    "* `S.push(e)`: Add element `e` to the top of stack `S`.\n",
    "* `S.pop()`: Remove and return the top element form the stack `S`; an error occurs if the stack is empty."
   ]
  },
  {
   "cell_type": "markdown",
   "metadata": {},
   "source": [
    "Additionally, let us define the following accessor methods for convenience:\n",
    "\n",
    "* `S.top()`: Return a reference to the top element of stack `S`, without removing itl an error occurs if the stack is empty.\n",
    "* `S.is_empty()`: Return `True` if stack `S` does not contain any elements.\n",
    "* `len(S)`: Return the number of elements in stack `S`"
   ]
  },
  {
   "cell_type": "markdown",
   "metadata": {},
   "source": [
    "By convention, we assume that a newly created stack is empty, and that there is no a priori bound on the capacity of the stack. Elements added to the stack can have arbitrary type."
   ]
  },
  {
   "cell_type": "markdown",
   "metadata": {},
   "source": [
    "### 6.1.2 Simple Array-Based Stack Implementation"
   ]
  },
  {
   "cell_type": "markdown",
   "metadata": {},
   "source": [
    "The `list` class already supports adding an element to the end with `append` method, and removing the last element with the `pop` method, so it is natural to align the top of the stack at the end of the list.\n",
    "\n",
    "Although a aprogrammer could directly use the `list` class in place ofa formal stack class, lists also include behaviors that would break the abstraction that the stack ADT represents. ALso, the terminology used by the `list` class does not precisely align with traditional nomenclature for a stack ADT, in particular the distinction between `append` and `push`. Instead, we demonstrate how to use a list for internal storage while providing a public interface consistent with a stack."
   ]
  },
  {
   "cell_type": "markdown",
   "metadata": {},
   "source": [
    "#### The Adapter Pattern\n",
    "\n",
    "The ***adapter*** design pattern applies to any context where we effectively want to modify an existing class so that its methods match those of a related, but different, class or interface. One general way to apply the adapter pattern is to define a new class in such a way that it contains an instance of the existing class as a hidden field, and then to implement each method of the new class using methods of this hidden instance variable. By applying the adapter pattern in this way, we have created a new class that performs some of the same functions as an existing class, but repackaged in a more convenient way. In the context of tehe stack ADT, we c an adapt Python's list class using the correspondence shown in \n",
    "\n",
    "|stack Method|Realization with Python List|\n",
    "|---|---|\n",
    "|`S.push(e)`|`L.append(e)`|\n",
    "|`S.pop()`|`L.pop()`|\n",
    "|`S.top()`|`L[-1]`|\n",
    "|`S.is_empty()`|`len(L)==0`|\n",
    "|`len(S)`|`len(L)`|"
   ]
  },
  {
   "cell_type": "code",
   "execution_count": 1,
   "metadata": {},
   "outputs": [],
   "source": [
    "class Empty(Exception):\n",
    "    pass"
   ]
  },
  {
   "cell_type": "code",
   "execution_count": 3,
   "metadata": {},
   "outputs": [],
   "source": [
    "class ArrayStack:\n",
    "    \"\"\"LIFO Stack implementatino using a Python list as underlying storage.\"\"\"\n",
    "    \n",
    "    def __init__(self):\n",
    "        self._data = []\n",
    "        \n",
    "    def __len__(self):\n",
    "        return len(self._data)\n",
    "    \n",
    "    def is_empty(self):\n",
    "        return len(self._data) == 0\n",
    "    \n",
    "    def push(self, e):\n",
    "        self._data.append(e)\n",
    "        \n",
    "    def top(self):\n",
    "        if self.is_empty():\n",
    "            raise Empty('Stack is empty')\n",
    "        return self._data[-1]\n",
    "    \n",
    "    def pop(self):\n",
    "        if self.is_empty():\n",
    "            raise Empty('Stack is empty')\n",
    "        return self._data.pop()"
   ]
  },
  {
   "cell_type": "markdown",
   "metadata": {},
   "source": [
    "#### Analyzing the Array-Based Stack Implementation\n",
    "\n",
    "|Operation|Running Time|\n",
    "|---|---|\n",
    "|`S.push(e)`|$O(1)$ (amozrtized)|\n",
    "|`S.pop()`|$O(1)$ (amortized)|\n",
    "|`S.top()`|$O(1)$|\n",
    "|`S.is_empty()`|$O(1)$|\n",
    "|`len(S)`|$O(1)$|"
   ]
  },
  {
   "cell_type": "markdown",
   "metadata": {},
   "source": [
    "### 6.1.3 Reserving Data Using a Stack"
   ]
  },
  {
   "cell_type": "markdown",
   "metadata": {},
   "source": [
    "As a consequence of the LIFO protocol, a stack can be used as a general tool to reserve a data sequence."
   ]
  },
  {
   "cell_type": "code",
   "execution_count": 4,
   "metadata": {},
   "outputs": [],
   "source": [
    "def reverse_file(filename):\n",
    "    S = ArrayStack()\n",
    "    original = open(filename)\n",
    "    for line in original:\n",
    "        S.push(line.rstrip('\\n'))\n",
    "    original.close()\n",
    "    \n",
    "    output = open(filename, 'w')\n",
    "    while not S.is_empty():\n",
    "        output.write(S.pop() + '\\n')\n",
    "    output.close()"
   ]
  },
  {
   "cell_type": "code",
   "execution_count": null,
   "metadata": {},
   "outputs": [],
   "source": [
    "reverse_file('E:\\ML\\Data_Structures_and_Algorithms_in_Python-master\\OMar\\original.txt')"
   ]
  },
  {
   "cell_type": "markdown",
   "metadata": {},
   "source": [
    "### 6.1.4 Matching Paratheses and HTML Tags"
   ]
  },
  {
   "cell_type": "markdown",
   "metadata": {},
   "source": [
    "#### An algorithm for Matching Delimiters"
   ]
  },
  {
   "cell_type": "code",
   "execution_count": 35,
   "metadata": {},
   "outputs": [],
   "source": [
    "def is_matched(expr):\n",
    "    \n",
    "    lefty = \"({[\"\n",
    "    righty = \")}]\"\n",
    "    \n",
    "    S = ArrayStack()\n",
    "    \n",
    "    for c in expr:\n",
    "        if c in lefty:\n",
    "            S.push(c)\n",
    "        elif c in righty:\n",
    "            if S.is_empty():\n",
    "                return False\n",
    "            if righty.index(c) != lefty.index(S.pop()):\n",
    "                return False\n",
    "    return S.is_empty()"
   ]
  },
  {
   "cell_type": "code",
   "execution_count": 36,
   "metadata": {},
   "outputs": [
    {
     "data": {
      "text/plain": [
       "True"
      ]
     },
     "execution_count": 36,
     "metadata": {},
     "output_type": "execute_result"
    }
   ],
   "source": [
    "is_matched('[(5+x)-(y+z)]')"
   ]
  },
  {
   "cell_type": "markdown",
   "metadata": {},
   "source": [
    "#### Matching Tags in Markup Language"
   ]
  },
  {
   "cell_type": "code",
   "execution_count": 37,
   "metadata": {},
   "outputs": [],
   "source": [
    "def is_matched_html(raw):\n",
    "    S = ArrayStack()\n",
    "    j = raw.find('<')\n",
    "    \n",
    "    while j != -1:\n",
    "        k = raw.find('>', j+1)\n",
    "        if k == -1:\n",
    "            return False\n",
    "        tag = raw[j+1:k]\n",
    "        if not tag.startswith('/'):\n",
    "            S.push(tag)\n",
    "        else:\n",
    "            if S.is_empty():\n",
    "                return False\n",
    "            if tag[1:] != S.pop():\n",
    "                return False\n",
    "        j = raw.find('<', k+1)\n",
    "    return S.is_empty()"
   ]
  },
  {
   "cell_type": "markdown",
   "metadata": {},
   "source": [
    "## 6.2 Queues"
   ]
  },
  {
   "cell_type": "markdown",
   "metadata": {},
   "source": [
    "Another fundamental data structure is the ***queue***. It is a close \"cousin\" of the stack, as a queue is a collection of objects that are inserted and removed according to the ***first-in, first-out (FIFO)*** principle. That is, elements can be inserted at any time, but only the element that has been in the queue the longest can be next removed."
   ]
  },
  {
   "cell_type": "markdown",
   "metadata": {},
   "source": [
    "### 6.2.1 The Queue Abstract Data Type"
   ]
  },
  {
   "cell_type": "markdown",
   "metadata": {},
   "source": [
    "Formally, the queue abstract data type defines a collection that keeps objects in a sequence, where element access and deleteion are restricted to the ***first*** element in the queue, and element insertion is restricted to the back of the sequence. This restriction enforces the rule that items are inserted and deleted in a queue according to the first-in, first-out (FIFO) principle. The ***queue*** abstract data type (ADT) supports the following two fundamental mthods for a queue Q:\n"
   ]
  },
  {
   "cell_type": "markdown",
   "metadata": {},
   "source": [
    "* `Q.enqueue(e)`: Add element `e` to the back of queue `Q`\n",
    "* `Q.dequeue()`: Remove and return the first element form queue `Q`; an error occurs if the queue is empty.\n",
    "* `Q.first()`: Return a reference to the element at the front of queue `Q`, without removing it; an error occurs if the queue is empty.\n",
    "* `Q.is_empty()`: Return `True` if queue `Q` does not contain any elements.\n",
    "* `len(Q)`: Return the number of elements in queue `Q`"
   ]
  },
  {
   "cell_type": "markdown",
   "metadata": {},
   "source": [
    "By convention, we assume that a newly created queue is empty, and that there is no a priori bound on the capacity of the queue. Elements added to the queue can have arbitrary type."
   ]
  },
  {
   "cell_type": "markdown",
   "metadata": {},
   "source": [
    "### 6.2.2 Array-Based Queue Implementation"
   ]
  },
  {
   "cell_type": "code",
   "execution_count": 46,
   "metadata": {},
   "outputs": [],
   "source": [
    "class ArrayQueue:\n",
    "    \n",
    "    DEFAULT_CAPACITY = 10\n",
    "    \n",
    "    def __init__(self):\n",
    "        self._data = [None] * ArrayQueue.DEFAULT_CAPACITY\n",
    "        self._size = 0\n",
    "        self._front = 0\n",
    "        \n",
    "    def __len__(self):\n",
    "        return self._size\n",
    "    \n",
    "    def is_empty(self):\n",
    "        return self._size == 0\n",
    "    \n",
    "    def first(self):\n",
    "        if self.is_empty():\n",
    "            raise Empty(\"Queue is empty\")\n",
    "        return self._data[self._front]\n",
    "    \n",
    "    def dequeue(self):\n",
    "        \n",
    "        if self.is_empty():\n",
    "            raise Empty(\"Queue is empty\")\n",
    "        answer = self._data[self._front]\n",
    "        self._data[self._front] = None\n",
    "        self._front = (self._fornt +1) % len(self._data)\n",
    "        self._size -= 1\n",
    "        \n",
    "        if 0 < self._size < len(self._data) // 4:\n",
    "            self._resize(len(self._data) // 2)\n",
    "        return answer\n",
    "    \n",
    "    def enqueue(self, e):\n",
    "        if self._size == len(self._data):\n",
    "            self._resize(2 * len(self._data))\n",
    "        avail = (self._fornt + self._size) % len(self._data)\n",
    "        self._data[avail] = e\n",
    "        self._size += 1\n",
    "    \n",
    "    def _resize(self, cap):\n",
    "        \n",
    "        old = self._data\n",
    "        self._data = [None] * cap\n",
    "        walk = self._front\n",
    "        for k in range(self._size):\n",
    "            self._data[k] = old[walk]\n",
    "            walk = (1 + walk) % len(old)\n",
    "        self._front = 0"
   ]
  },
  {
   "cell_type": "markdown",
   "metadata": {},
   "source": [
    "#### Analyzing the Array-Based Queue Implementation"
   ]
  },
  {
   "cell_type": "markdown",
   "metadata": {},
   "source": [
    "|Operation|Running Time|\n",
    "|---|---|\n",
    "|`Q.enqueue(e)`|$O(1)$ (amortized)|\n",
    "|`Q.dequeue()`|$O(1)$ (amortized)|\n",
    "|`Q.first()`|$O(1)$|\n",
    "|`Q.is_empty()`|$O(1)$|\n",
    "|`len(Q)`|$O(1)$|"
   ]
  },
  {
   "cell_type": "markdown",
   "metadata": {},
   "source": [
    "## 6.3 Double-Ended Queues"
   ]
  },
  {
   "cell_type": "markdown",
   "metadata": {},
   "source": [
    "We next consider a queue-like data structure that supports insertion and deletion at both the front and the back of the queue. Such a structure is called a ***double-ended queue***, or ***deque***, which is usally pronounced \"deck\" to avoid confusion with the `dequeue` method of the regular queue ADT, which is pronounced like the abbreviation \"D.Q.\""
   ]
  },
  {
   "cell_type": "markdown",
   "metadata": {},
   "source": [
    "### 6.3.1 The Deque Abstract Data Type"
   ]
  },
  {
   "cell_type": "markdown",
   "metadata": {},
   "source": [
    "To provide a symmetrical abstraction, the deque ADT is defined so that deque `D` supports the following methods:"
   ]
  },
  {
   "cell_type": "markdown",
   "metadata": {},
   "source": [
    "* `D.add_first(e)`: Add element `e` to the fornt of deque `D`.\n",
    "* `D.add_last(e)`: Add element `e` to  the back of deque `D`.\n",
    "* `D.delete_first()`: Remove and return the fist element from deque `D`\n",
    "* `D.first()`: Return the first element of deque `D`\n",
    "* `D.last()`: Return the last element of deque `D`\n",
    "* `D.is_empty()`: Return `True` if deque `D` does not contain any elements.\n",
    "* `len(D)`: Return the number of elements in deque `D`"
   ]
  },
  {
   "cell_type": "markdown",
   "metadata": {},
   "source": [
    "### 6.3.2 Implementing a Deque with a Circular Array"
   ]
  },
  {
   "cell_type": "markdown",
   "metadata": {},
   "source": [
    "Do it at Exercise P-6.32!"
   ]
  },
  {
   "cell_type": "markdown",
   "metadata": {},
   "source": [
    "### 6.3.3 Deques in the Python Collections Module"
   ]
  },
  {
   "cell_type": "markdown",
   "metadata": {},
   "source": [
    "An implementation fo a `deque` class is aviailable in Python's standard collections module. A summary of the most commonly used behaviors of the `collections.deque` class is given follow:"
   ]
  },
  {
   "cell_type": "markdown",
   "metadata": {},
   "source": [
    "|`collections.deque`|Description|\n",
    "|---|---|\n",
    "|`len(D)`|number of elements|\n",
    "|`D.appendleft()`|add to beginning|\n",
    "|`D.append()`|add to end|\n",
    "|`D.popleft()`|remove from beginning|\n",
    "|`D.pop()`|remove from end|\n",
    "|`D[0]`|access first element|\n",
    "|`D[-1]`|access last element|\n",
    "|`D[j]`|access arbitrary entry by index|\n",
    "|`D[j] = val`|modify arbitrary entry by index|\n",
    "|`D.clear()`|clear all contents|\n",
    "|`D.rotate(k)`|circularly shift rightward $k$ steps|\n",
    "|`D.remove(e)`|remove first matching element|\n",
    "|`D.count(e)`|count number of matches for `e`|"
   ]
  },
  {
   "cell_type": "markdown",
   "metadata": {},
   "source": [
    "The library `deque` constructor also supports an optional `maxlen` parameter to force a fixed-length deque. However, if a call to append at either end is invoked when the deque is full, it does not throw an error; instead, it causes one element to be dropped from the opposite side. That is, calling `appendleft` when the deque is full casuse an implicit `pop` from the right side to make room for the new element."
   ]
  }
 ],
 "metadata": {
  "kernelspec": {
   "display_name": "Python 3",
   "language": "python",
   "name": "python3"
  },
  "language_info": {
   "codemirror_mode": {
    "name": "ipython",
    "version": 3
   },
   "file_extension": ".py",
   "mimetype": "text/x-python",
   "name": "python",
   "nbconvert_exporter": "python",
   "pygments_lexer": "ipython3",
   "version": "3.8.3"
  }
 },
 "nbformat": 4,
 "nbformat_minor": 2
}
