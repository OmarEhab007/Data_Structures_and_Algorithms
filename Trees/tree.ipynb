{
 "cells": [
  {
   "cell_type": "markdown",
   "metadata": {
    "pycharm": {
     "name": "#%% md\n"
    }
   },
   "source": [
    "- from Udacity Nano Degree of **Data structures and Algorithms**\n"
   ]
  },
  {
   "cell_type": "markdown",
   "metadata": {
    "collapsed": false,
    "pycharm": {
     "name": "#%% md\n"
    }
   },
   "source": [
    "# Trees\n"
   ]
  },
  {
   "cell_type": "markdown",
   "metadata": {
    "collapsed": false,
    "pycharm": {
     "name": "#%% md\n"
    }
   },
   "source": [
    "## Create a Binary Tree\n"
   ]
  },
  {
   "cell_type": "code",
   "execution_count": 1,
   "metadata": {
    "collapsed": false,
    "pycharm": {
     "name": "#%%\n"
    }
   },
   "outputs": [],
   "source": [
    "# this code makes the tree that we'll traverse\n",
    "\n",
    "class Node(object):\n",
    "\n",
    "    def __init__(self, value=None):\n",
    "        self.value = value\n",
    "        self.left = None\n",
    "        self.right = None\n",
    "\n",
    "    def set_value(self, value):\n",
    "        self.value = value\n",
    "\n",
    "    def get_value(self):\n",
    "        return self.value\n",
    "\n",
    "    def set_left_child(self, left):\n",
    "        self.left = left\n",
    "\n",
    "    def set_right_child(self, right):\n",
    "        self.right = right\n",
    "\n",
    "    def get_left_child(self):\n",
    "        return self.left\n",
    "\n",
    "    def get_right_child(self):\n",
    "        return self.right\n",
    "\n",
    "    def has_left_child(self):\n",
    "        return self.left is not None\n",
    "\n",
    "    def has_right_child(self):\n",
    "        return self.right is not None\n",
    "\n",
    "    # define __repr_ to decide what a print statement displays for a Node object\n",
    "    def __repr__(self):\n",
    "        return f\"Node({self.get_value()})\"\n",
    "\n",
    "    def __str__(self):\n",
    "        return f\"Node({self.get_value()})\"\n",
    "\n",
    "\n",
    "class Tree:\n",
    "    def __init__(self, value=None):\n",
    "        self.root = Node(value)\n",
    "\n",
    "    def get_root(self):\n",
    "        return self.root\n"
   ]
  },
  {
   "cell_type": "code",
   "execution_count": 2,
   "metadata": {
    "collapsed": false,
    "pycharm": {
     "name": "#%%\n"
    }
   },
   "outputs": [
    {
     "name": "stdout",
     "output_type": "stream",
     "text": [
      "Node(apple)\n"
     ]
    }
   ],
   "source": [
    "# create a tree and add some nodes\n",
    "tree = Tree(\"apple\")\n",
    "tree.get_root().set_left_child(Node(\"banana\"))\n",
    "tree.get_root().set_right_child(Node(\"cherry\"))\n",
    "tree.get_root().get_left_child().set_left_child(Node(\"dates\"))\n",
    "\n",
    "\n",
    "print(tree.root)\n"
   ]
  },
  {
   "cell_type": "markdown",
   "metadata": {
    "pycharm": {
     "name": "#%% md\n"
    }
   },
   "source": [
    "## Depth First Search (DFS)\n"
   ]
  },
  {
   "cell_type": "code",
   "execution_count": 3,
   "metadata": {
    "pycharm": {
     "name": "#%%\n"
    }
   },
   "outputs": [],
   "source": [
    "\n",
    "class Stack():\n",
    "    def __init__(self):\n",
    "        self.list = list()\n",
    "\n",
    "    def push(self, value):\n",
    "        self.list.append(value)\n",
    "\n",
    "    def pop(self):\n",
    "        return self.list.pop()\n",
    "\n",
    "    def top(self):\n",
    "        if len(self.list) > 0:\n",
    "            return self.list[-1]\n",
    "        else:\n",
    "            return None\n",
    "\n",
    "    def is_empty(self):\n",
    "        return len(self.list) == 0\n",
    "\n",
    "    def __repr__(self):\n",
    "        if len(self.list) > 0:\n",
    "            s = \"<top of stack>\\n_________________\\n\"\n",
    "            s += \"\\n_________________\\n\".join([str(item)\n",
    "                                               for item in self.list[::-1]])\n",
    "            s += \"\\n_________________\\n<bottom of stack>\"\n",
    "            return s\n",
    "\n",
    "        else:\n",
    "            return \"<stack is empty>\"\n"
   ]
  },
  {
   "cell_type": "markdown",
   "metadata": {
    "pycharm": {
     "name": "#%% md\n"
    }
   },
   "source": [
    "#### looping on the nodes of a tree\n"
   ]
  },
  {
   "cell_type": "code",
   "execution_count": 4,
   "metadata": {
    "pycharm": {
     "name": "#%%\n"
    }
   },
   "outputs": [
    {
     "name": "stdout",
     "output_type": "stream",
     "text": [
      "\n",
      "      visit_order: []\n",
      "      stack: <top of stack>\n",
      "_________________\n",
      "Node(apple)\n",
      "_________________\n",
      "<bottom of stack>\n"
     ]
    }
   ],
   "source": [
    "visit_order = list()\n",
    "# creat stack\n",
    "# from collections import deque\n",
    "# stack = deque()\n",
    "stack = Stack()\n",
    "node = tree.get_root()\n",
    "stack.push(node)\n",
    "\n",
    "print(f\"\"\"\n",
    "      visit_order: {visit_order}\n",
    "      stack: {stack}\"\"\")\n"
   ]
  },
  {
   "cell_type": "code",
   "execution_count": 5,
   "metadata": {
    "pycharm": {
     "name": "#%%\n"
    }
   },
   "outputs": [
    {
     "name": "stdout",
     "output_type": "stream",
     "text": [
      "Node(apple) has left child True\n",
      "\n",
      "      visit_order: ['apple']\n",
      "      stack: <top of stack>\n",
      "_________________\n",
      "Node(banana)\n",
      "_________________\n",
      "Node(apple)\n",
      "_________________\n",
      "<bottom of stack>\n"
     ]
    }
   ],
   "source": [
    "visit_order.append(node.get_value())\n",
    "print(f\"{node} has left child {node.has_left_child()}\")\n",
    "\n",
    "if node.has_left_child():\n",
    "    node = node.get_left_child()\n",
    "    stack.push(node)\n",
    "\n",
    "print(f\"\"\"\n",
    "      visit_order: {visit_order}\n",
    "      stack: {stack}\"\"\")\n"
   ]
  },
  {
   "cell_type": "code",
   "execution_count": 6,
   "metadata": {
    "pycharm": {
     "name": "#%%\n"
    }
   },
   "outputs": [
    {
     "name": "stdout",
     "output_type": "stream",
     "text": [
      "visit Node(banana)\n",
      "visit_order: ['apple', 'banana']\n"
     ]
    }
   ],
   "source": [
    "print(f\"visit {node}\")\n",
    "visit_order.append(node.get_value())\n",
    "print(f\"\"\"visit_order: {visit_order}\"\"\")\n"
   ]
  },
  {
   "cell_type": "code",
   "execution_count": 7,
   "metadata": {
    "pycharm": {
     "name": "#%%\n"
    }
   },
   "outputs": [
    {
     "name": "stdout",
     "output_type": "stream",
     "text": [
      "Node(banana) has left child True\n",
      "\n",
      "      visit_order: ['apple', 'banana']\n",
      "      stack: <top of stack>\n",
      "_________________\n",
      "Node(dates)\n",
      "_________________\n",
      "Node(banana)\n",
      "_________________\n",
      "Node(apple)\n",
      "_________________\n",
      "<bottom of stack>\n"
     ]
    }
   ],
   "source": [
    "print(f\"{node} has left child {node.has_left_child()}\")\n",
    "\n",
    "if node.has_left_child():\n",
    "    node = node.get_left_child()\n",
    "    stack.push(node)\n",
    "\n",
    "print(f\"\"\"\n",
    "      visit_order: {visit_order}\n",
    "      stack: {stack}\"\"\")\n"
   ]
  },
  {
   "cell_type": "code",
   "execution_count": 8,
   "metadata": {
    "pycharm": {
     "name": "#%%\n"
    }
   },
   "outputs": [
    {
     "name": "stdout",
     "output_type": "stream",
     "text": [
      "visit order ['apple', 'banana', 'dates']\n"
     ]
    }
   ],
   "source": [
    "visit_order.append(node.get_value())\n",
    "print(f\"visit order {visit_order}\")\n"
   ]
  },
  {
   "cell_type": "code",
   "execution_count": 9,
   "metadata": {
    "pycharm": {
     "name": "#%%\n"
    }
   },
   "outputs": [
    {
     "name": "stdout",
     "output_type": "stream",
     "text": [
      "Node(dates) has left child? False\n",
      "Node(dates) has right child? False\n"
     ]
    }
   ],
   "source": [
    "print(f\"{node} has left child? {node.has_left_child()}\")\n",
    "print(f\"{node} has right child? {node.has_right_child()}\")\n"
   ]
  },
  {
   "cell_type": "code",
   "execution_count": 10,
   "metadata": {
    "pycharm": {
     "name": "#%%\n"
    }
   },
   "outputs": [
    {
     "name": "stdout",
     "output_type": "stream",
     "text": [
      "Node(dates)\n"
     ]
    }
   ],
   "source": [
    "print(stack.pop())\n"
   ]
  },
  {
   "cell_type": "code",
   "execution_count": 11,
   "metadata": {
    "pycharm": {
     "name": "#%%\n"
    }
   },
   "outputs": [
    {
     "name": "stdout",
     "output_type": "stream",
     "text": [
      "<top of stack>\n",
      "_________________\n",
      "Node(banana)\n",
      "_________________\n",
      "Node(apple)\n",
      "_________________\n",
      "<bottom of stack>\n"
     ]
    }
   ],
   "source": [
    "print(stack)\n"
   ]
  },
  {
   "cell_type": "code",
   "execution_count": 12,
   "metadata": {
    "pycharm": {
     "name": "#%%\n"
    }
   },
   "outputs": [
    {
     "name": "stdout",
     "output_type": "stream",
     "text": [
      "Node(banana)\n"
     ]
    }
   ],
   "source": [
    "node = stack.top()\n",
    "print(node)\n"
   ]
  },
  {
   "cell_type": "code",
   "execution_count": 13,
   "metadata": {
    "pycharm": {
     "name": "#%%\n"
    }
   },
   "outputs": [
    {
     "name": "stdout",
     "output_type": "stream",
     "text": [
      "Node(banana) has right child? False\n"
     ]
    }
   ],
   "source": [
    "print(f\"{node} has right child? {node.has_right_child()}\")\n"
   ]
  },
  {
   "cell_type": "code",
   "execution_count": 14,
   "metadata": {
    "pycharm": {
     "name": "#%%\n"
    }
   },
   "outputs": [
    {
     "name": "stdout",
     "output_type": "stream",
     "text": [
      "pop Node(banana) off stack\n",
      "\n",
      "stack\n",
      "<top of stack>\n",
      "_________________\n",
      "Node(apple)\n",
      "_________________\n",
      "<bottom of stack>\n",
      "\n"
     ]
    }
   ],
   "source": [
    "print(f\"pop {stack.pop()} off stack\")\n",
    "print(f\"\"\"\n",
    "stack\n",
    "{stack}\n",
    "\"\"\")\n"
   ]
  },
  {
   "cell_type": "code",
   "execution_count": 15,
   "metadata": {
    "pycharm": {
     "name": "#%%\n"
    }
   },
   "outputs": [
    {
     "name": "stdout",
     "output_type": "stream",
     "text": [
      "Node(apple)\n"
     ]
    }
   ],
   "source": [
    "node = stack.top()\n",
    "print(node)\n"
   ]
  },
  {
   "cell_type": "code",
   "execution_count": 16,
   "metadata": {
    "pycharm": {
     "name": "#%%\n"
    }
   },
   "outputs": [
    {
     "name": "stdout",
     "output_type": "stream",
     "text": [
      "Node(apple) has right child? True\n"
     ]
    }
   ],
   "source": [
    "print(f\"{node} has right child? {node.has_right_child()}\")\n"
   ]
  },
  {
   "cell_type": "code",
   "execution_count": 17,
   "metadata": {
    "pycharm": {
     "name": "#%%\n"
    }
   },
   "outputs": [
    {
     "name": "stdout",
     "output_type": "stream",
     "text": [
      "\n",
      "visit_order ['apple', 'banana', 'dates'] \n",
      "stack\n",
      "<top of stack>\n",
      "_________________\n",
      "Node(cherry)\n",
      "_________________\n",
      "Node(apple)\n",
      "_________________\n",
      "<bottom of stack>\n",
      "\n"
     ]
    }
   ],
   "source": [
    "if node.has_right_child():\n",
    "    node = node.get_right_child()\n",
    "    stack.push(node)\n",
    "\n",
    "print(f\"\"\"\n",
    "visit_order {visit_order} \n",
    "stack\n",
    "{stack}\n",
    "\"\"\")\n"
   ]
  },
  {
   "cell_type": "code",
   "execution_count": 18,
   "metadata": {
    "pycharm": {
     "name": "#%%\n"
    }
   },
   "outputs": [
    {
     "name": "stdout",
     "output_type": "stream",
     "text": [
      "visit Node(cherry)\n",
      "visit_order: ['apple', 'banana', 'dates', 'cherry']\n"
     ]
    }
   ],
   "source": [
    "print(f\"visit {node}\")\n",
    "visit_order.append(node.get_value())\n",
    "print(f\"\"\"visit_order: {visit_order}\"\"\")\n"
   ]
  },
  {
   "cell_type": "code",
   "execution_count": 19,
   "metadata": {
    "pycharm": {
     "name": "#%%\n"
    }
   },
   "outputs": [
    {
     "name": "stdout",
     "output_type": "stream",
     "text": [
      "Node(cherry) has left child? False\n",
      "Node(cherry) has right child? False\n"
     ]
    }
   ],
   "source": [
    "# Now we'll check if cherry has a left child\n",
    "print(f\"{node} has left child? {node.has_left_child()}\")\n",
    "\n",
    "# it doesn't, so we'll check if it has a right child\n",
    "print(f\"{node} has right child? {node.has_right_child()}\")\n"
   ]
  },
  {
   "cell_type": "code",
   "execution_count": 20,
   "metadata": {
    "pycharm": {
     "name": "#%%\n"
    }
   },
   "outputs": [
    {
     "name": "stdout",
     "output_type": "stream",
     "text": [
      "pop Node(cherry) off the stack\n",
      "\n",
      "visit_order ['apple', 'banana', 'dates', 'cherry'] \n",
      "stack\n",
      "<top of stack>\n",
      "_________________\n",
      "Node(apple)\n",
      "_________________\n",
      "<bottom of stack>\n",
      "\n"
     ]
    }
   ],
   "source": [
    "\n",
    "print(f\"pop {stack.pop()} off the stack\")\n",
    "\n",
    "print(f\"\"\"\n",
    "visit_order {visit_order} \n",
    "stack\n",
    "{stack}\n",
    "\"\"\")\n"
   ]
  },
  {
   "cell_type": "code",
   "execution_count": 21,
   "metadata": {
    "pycharm": {
     "name": "#%%\n"
    }
   },
   "outputs": [
    {
     "name": "stdout",
     "output_type": "stream",
     "text": [
      "pop Node(apple) off stack\n",
      "pre-order traversal visited nodes in this order: ['apple', 'banana', 'dates', 'cherry']\n"
     ]
    }
   ],
   "source": [
    "print(f\"pop {stack.pop()} off stack\")\n",
    "print(f\"pre-order traversal visited nodes in this order: {visit_order}\")\n"
   ]
  },
  {
   "cell_type": "markdown",
   "metadata": {
    "pycharm": {
     "name": "#%% md\n"
    }
   },
   "source": [
    "### pre-order traversal\n"
   ]
  },
  {
   "cell_type": "code",
   "execution_count": 22,
   "metadata": {
    "pycharm": {
     "name": "#%%\n"
    }
   },
   "outputs": [],
   "source": [
    "\"\"\"\"\n",
    "problem :this method have a problem the it stuck in left\n",
    "side and don't check the right side.\n",
    "solution: need to back and add stat class \n",
    "check if we checked left side or right side.\n",
    "\"\"\"\n",
    "\n",
    "\n",
    "def pre_order_with_stack_buggy(tree):\n",
    "    visit_order = list()\n",
    "    stack = Stack()\n",
    "    node = tree.get_root()\n",
    "    stack.push(node)\n",
    "    node = stack.top()\n",
    "    visit_order.append(node.get_value())\n",
    "    count = 0\n",
    "    loop_limit = 7\n",
    "    while (node and count < loop_limit):\n",
    "        print(f\"\"\"\n",
    "                loop count: {count}\n",
    "                current node: {node}\n",
    "                stack: {stack}\"\"\")\n",
    "        count += 1\n",
    "        if node.has_left_child():\n",
    "            node = node.get_left_child()\n",
    "            stack.push(node)\n",
    "            visit_order.append(node.get_value())\n",
    "\n",
    "        elif node.has_right_child():\n",
    "            node = node.get_right_child()\n",
    "            stack.push(node)\n",
    "            visit_order.append(node.get_vallue())\n",
    "\n",
    "        else:\n",
    "            stack.pop()\n",
    "            if not stack.is_empty():\n",
    "                node = stack.top()\n",
    "            else:\n",
    "                node = None\n",
    "\n",
    "    return visit_order\n"
   ]
  },
  {
   "cell_type": "code",
   "execution_count": 23,
   "metadata": {
    "pycharm": {
     "name": "#%%\n"
    }
   },
   "outputs": [
    {
     "name": "stdout",
     "output_type": "stream",
     "text": [
      "\n",
      "                loop count: 0\n",
      "                current node: Node(apple)\n",
      "                stack: <top of stack>\n",
      "_________________\n",
      "Node(apple)\n",
      "_________________\n",
      "<bottom of stack>\n",
      "\n",
      "                loop count: 1\n",
      "                current node: Node(banana)\n",
      "                stack: <top of stack>\n",
      "_________________\n",
      "Node(banana)\n",
      "_________________\n",
      "Node(apple)\n",
      "_________________\n",
      "<bottom of stack>\n",
      "\n",
      "                loop count: 2\n",
      "                current node: Node(dates)\n",
      "                stack: <top of stack>\n",
      "_________________\n",
      "Node(dates)\n",
      "_________________\n",
      "Node(banana)\n",
      "_________________\n",
      "Node(apple)\n",
      "_________________\n",
      "<bottom of stack>\n",
      "\n",
      "                loop count: 3\n",
      "                current node: Node(banana)\n",
      "                stack: <top of stack>\n",
      "_________________\n",
      "Node(banana)\n",
      "_________________\n",
      "Node(apple)\n",
      "_________________\n",
      "<bottom of stack>\n",
      "\n",
      "                loop count: 4\n",
      "                current node: Node(dates)\n",
      "                stack: <top of stack>\n",
      "_________________\n",
      "Node(dates)\n",
      "_________________\n",
      "Node(banana)\n",
      "_________________\n",
      "Node(apple)\n",
      "_________________\n",
      "<bottom of stack>\n",
      "\n",
      "                loop count: 5\n",
      "                current node: Node(banana)\n",
      "                stack: <top of stack>\n",
      "_________________\n",
      "Node(banana)\n",
      "_________________\n",
      "Node(apple)\n",
      "_________________\n",
      "<bottom of stack>\n",
      "\n",
      "                loop count: 6\n",
      "                current node: Node(dates)\n",
      "                stack: <top of stack>\n",
      "_________________\n",
      "Node(dates)\n",
      "_________________\n",
      "Node(banana)\n",
      "_________________\n",
      "Node(apple)\n",
      "_________________\n",
      "<bottom of stack>\n"
     ]
    },
    {
     "data": {
      "text/plain": [
       "['apple', 'banana', 'dates', 'dates', 'dates']"
      ]
     },
     "execution_count": 23,
     "metadata": {},
     "output_type": "execute_result"
    }
   ],
   "source": [
    "pre_order_with_stack_buggy(tree)\n"
   ]
  },
  {
   "cell_type": "code",
   "execution_count": 24,
   "metadata": {
    "pycharm": {
     "name": "#%%\n"
    }
   },
   "outputs": [],
   "source": [
    "class State(object):\n",
    "    def __init__(self, node):\n",
    "        self.node = node\n",
    "        self.visited_left = False\n",
    "        self.visited_right = False\n",
    "\n",
    "    def get_node(self):\n",
    "        return self.node\n",
    "\n",
    "    def get_visited_left(self):\n",
    "        return self.visited_left\n",
    "\n",
    "    def get_visited_right(self):\n",
    "        return self.visited_right\n",
    "\n",
    "    def set_visited_left(self):\n",
    "        self.visited_left = True\n",
    "\n",
    "    def set_visited_right(self):\n",
    "        self.visited_right = True\n",
    "\n",
    "    def __repr__(self):\n",
    "        s = f\"\"\"\n",
    "        node: {self.node}\n",
    "        visited_left: {self.visited_left}\n",
    "        visited_right: {self.visited_right}\"\"\"\n",
    "        return s\n"
   ]
  },
  {
   "cell_type": "code",
   "execution_count": 25,
   "metadata": {
    "pycharm": {
     "name": "#%%\n"
    }
   },
   "outputs": [],
   "source": [
    "def pre_order_with_stack(tree, debug_mod=False):\n",
    "    visit_order = list()\n",
    "    stack = Stack()\n",
    "    node = tree.get_root()\n",
    "    visit_order.append(node.get_value())\n",
    "    state = State(node)\n",
    "    stack.push(state)\n",
    "    count = 0\n",
    "    while(node):\n",
    "        if debug_mod:\n",
    "            print(f\"\"\"\n",
    "                loop count : {count}\n",
    "                current node: {node}\n",
    "                stack : {stack}\n",
    "                \"\"\")\n",
    "        count += 1\n",
    "        if node.has_left_child() and not state.get_visited_left():\n",
    "            state.set_visited_left()\n",
    "            node = node.get_left_child()\n",
    "            visit_order.append(node.get_value())\n",
    "            state = State(node)\n",
    "            stack.push(state)\n",
    "\n",
    "        elif node.has_right_child() and not state.get_visited_right():\n",
    "            state.set_visited_right()\n",
    "            node = node.get_right_child()\n",
    "            visit_order.append(node.get_value())\n",
    "            state = State(node)\n",
    "            stack.push(state)\n",
    "\n",
    "        else:\n",
    "            stack.pop()\n",
    "            if not stack.is_empty():\n",
    "                state = stack.top()\n",
    "                node = state.get_node()\n",
    "            else:\n",
    "                node = None\n",
    "    if debug_mod:\n",
    "        print(f\"\"\"\n",
    "        loop count: {count}\n",
    "        current node: {node}\n",
    "        stack:\n",
    "        {stack}\n",
    "            \"\"\")\n",
    "\n",
    "    return visit_order\n"
   ]
  },
  {
   "cell_type": "code",
   "execution_count": 26,
   "metadata": {
    "pycharm": {
     "name": "#%%\n"
    }
   },
   "outputs": [
    {
     "name": "stdout",
     "output_type": "stream",
     "text": [
      "\n",
      "                loop count : 0\n",
      "                current node: Node(apple)\n",
      "                stack : <top of stack>\n",
      "_________________\n",
      "\n",
      "        node: Node(apple)\n",
      "        visited_left: False\n",
      "        visited_right: False\n",
      "_________________\n",
      "<bottom of stack>\n",
      "                \n",
      "\n",
      "                loop count : 1\n",
      "                current node: Node(banana)\n",
      "                stack : <top of stack>\n",
      "_________________\n",
      "\n",
      "        node: Node(banana)\n",
      "        visited_left: False\n",
      "        visited_right: False\n",
      "_________________\n",
      "\n",
      "        node: Node(apple)\n",
      "        visited_left: True\n",
      "        visited_right: False\n",
      "_________________\n",
      "<bottom of stack>\n",
      "                \n",
      "\n",
      "                loop count : 2\n",
      "                current node: Node(dates)\n",
      "                stack : <top of stack>\n",
      "_________________\n",
      "\n",
      "        node: Node(dates)\n",
      "        visited_left: False\n",
      "        visited_right: False\n",
      "_________________\n",
      "\n",
      "        node: Node(banana)\n",
      "        visited_left: True\n",
      "        visited_right: False\n",
      "_________________\n",
      "\n",
      "        node: Node(apple)\n",
      "        visited_left: True\n",
      "        visited_right: False\n",
      "_________________\n",
      "<bottom of stack>\n",
      "                \n",
      "\n",
      "                loop count : 3\n",
      "                current node: Node(banana)\n",
      "                stack : <top of stack>\n",
      "_________________\n",
      "\n",
      "        node: Node(banana)\n",
      "        visited_left: True\n",
      "        visited_right: False\n",
      "_________________\n",
      "\n",
      "        node: Node(apple)\n",
      "        visited_left: True\n",
      "        visited_right: False\n",
      "_________________\n",
      "<bottom of stack>\n",
      "                \n",
      "\n",
      "                loop count : 4\n",
      "                current node: Node(apple)\n",
      "                stack : <top of stack>\n",
      "_________________\n",
      "\n",
      "        node: Node(apple)\n",
      "        visited_left: True\n",
      "        visited_right: False\n",
      "_________________\n",
      "<bottom of stack>\n",
      "                \n",
      "\n",
      "                loop count : 5\n",
      "                current node: Node(cherry)\n",
      "                stack : <top of stack>\n",
      "_________________\n",
      "\n",
      "        node: Node(cherry)\n",
      "        visited_left: False\n",
      "        visited_right: False\n",
      "_________________\n",
      "\n",
      "        node: Node(apple)\n",
      "        visited_left: True\n",
      "        visited_right: True\n",
      "_________________\n",
      "<bottom of stack>\n",
      "                \n",
      "\n",
      "                loop count : 6\n",
      "                current node: Node(apple)\n",
      "                stack : <top of stack>\n",
      "_________________\n",
      "\n",
      "        node: Node(apple)\n",
      "        visited_left: True\n",
      "        visited_right: True\n",
      "_________________\n",
      "<bottom of stack>\n",
      "                \n",
      "\n",
      "        loop count: 7\n",
      "        current node: None\n",
      "        stack:\n",
      "        <stack is empty>\n",
      "            \n"
     ]
    },
    {
     "data": {
      "text/plain": [
       "['apple', 'banana', 'dates', 'cherry']"
      ]
     },
     "execution_count": 26,
     "metadata": {},
     "output_type": "execute_result"
    }
   ],
   "source": [
    "pre_order_with_stack(tree, debug_mod=True)\n"
   ]
  },
  {
   "cell_type": "code",
   "execution_count": 27,
   "metadata": {
    "pycharm": {
     "name": "#%%\n"
    }
   },
   "outputs": [
    {
     "name": "stdout",
     "output_type": "stream",
     "text": [
      "♥\n"
     ]
    }
   ],
   "source": [
    "# Pre-Order DFS with Recursion\n",
    "def pre_order_recusrion(tree):\n",
    "    \"\"\"Pre-Order DFS with Recursion\n",
    "\n",
    "    Args:\n",
    "        tree (Tree class): Binary Tree\n",
    "\n",
    "    Returns:\n",
    "        list: list of objects in binary tree\n",
    "    \"\"\"\n",
    "    visit_order = list()\n",
    "    root = tree.get_root()\n",
    "\n",
    "    def traverse(node):\n",
    "        if node:  # stop recursion when is None node\n",
    "            visit_order.append(node.get_value())\n",
    "            # traverse left\n",
    "            traverse(node.get_left_child())\n",
    "            # traverse right\n",
    "            traverse(node.get_right_child())\n",
    "\n",
    "    traverse(root)\n",
    "    return visit_order\n",
    "\n",
    "\n",
    "print('♥')\n"
   ]
  },
  {
   "cell_type": "code",
   "execution_count": 28,
   "metadata": {
    "pycharm": {
     "name": "#%%\n"
    }
   },
   "outputs": [
    {
     "data": {
      "text/plain": [
       "['apple', 'banana', 'dates', 'cherry']"
      ]
     },
     "execution_count": 28,
     "metadata": {},
     "output_type": "execute_result"
    }
   ],
   "source": [
    "pre_order_recusrion(tree)\n"
   ]
  },
  {
   "cell_type": "markdown",
   "metadata": {
    "pycharm": {
     "name": "#%% md\n"
    }
   },
   "source": [
    "### In-order traversal\n"
   ]
  },
  {
   "cell_type": "code",
   "execution_count": 29,
   "metadata": {
    "pycharm": {
     "name": "#%%\n"
    }
   },
   "outputs": [],
   "source": [
    "def in_order_traverse(tree):\n",
    "    visit_order = list()\n",
    "\n",
    "    root = tree.get_root()\n",
    "\n",
    "    def traverse(node):\n",
    "\n",
    "        if node:\n",
    "\n",
    "            traverse(node.get_left_child())\n",
    "\n",
    "            visit_order.append(node.get_value())\n",
    "\n",
    "            traverse(node.get_right_child())\n",
    "\n",
    "    traverse(root)\n",
    "\n",
    "    return visit_order\n"
   ]
  },
  {
   "cell_type": "code",
   "execution_count": 30,
   "metadata": {
    "pycharm": {
     "name": "#%%\n"
    }
   },
   "outputs": [
    {
     "data": {
      "text/plain": [
       "['dates', 'banana', 'apple', 'cherry']"
      ]
     },
     "execution_count": 30,
     "metadata": {},
     "output_type": "execute_result"
    }
   ],
   "source": [
    "in_order_traverse(tree)\n"
   ]
  },
  {
   "cell_type": "markdown",
   "metadata": {
    "pycharm": {
     "name": "#%% md\n"
    }
   },
   "source": [
    "### Post-order traversal\n"
   ]
  },
  {
   "cell_type": "code",
   "execution_count": 31,
   "metadata": {
    "pycharm": {
     "name": "#%%\n"
    }
   },
   "outputs": [],
   "source": [
    "# define post_order traversal\n",
    "def post_order(tree):\n",
    "    visit_order = list()\n",
    "    root = tree.get_root()\n",
    "\n",
    "    def traverse(node):\n",
    "        if node:\n",
    "            # traverse left subtree\n",
    "            traverse(node.get_left_child())\n",
    "\n",
    "            # traverse right subtree\n",
    "            traverse(node.get_right_child())\n",
    "\n",
    "            # visit the node\n",
    "            visit_order.append(node.get_value())\n",
    "\n",
    "    traverse(root)\n",
    "\n",
    "    return visit_order\n"
   ]
  },
  {
   "cell_type": "code",
   "execution_count": 32,
   "metadata": {
    "pycharm": {
     "name": "#%%\n"
    }
   },
   "outputs": [
    {
     "data": {
      "text/plain": [
       "['dates', 'banana', 'cherry', 'apple']"
      ]
     },
     "execution_count": 32,
     "metadata": {},
     "output_type": "execute_result"
    }
   ],
   "source": [
    "post_order(tree)\n"
   ]
  },
  {
   "cell_type": "markdown",
   "metadata": {
    "pycharm": {
     "name": "#%% md\n"
    }
   },
   "source": [
    "## Breadth First Search (BFS)\n"
   ]
  },
  {
   "cell_type": "code",
   "execution_count": 33,
   "metadata": {
    "collapsed": false,
    "pycharm": {
     "name": "#%%\n"
    }
   },
   "outputs": [
    {
     "name": "stdout",
     "output_type": "stream",
     "text": [
      "deque(['banana', 'apple'])\n"
     ]
    }
   ],
   "source": [
    "from collections import deque\n",
    "q = deque()\n",
    "q.appendleft('apple')\n",
    "q.appendleft('banana')\n",
    "\n",
    "print(q)\n"
   ]
  },
  {
   "cell_type": "code",
   "execution_count": 34,
   "metadata": {
    "collapsed": false,
    "pycharm": {
     "name": "#%%\n"
    }
   },
   "outputs": [
    {
     "data": {
      "text/plain": [
       "'apple'"
      ]
     },
     "execution_count": 34,
     "metadata": {},
     "output_type": "execute_result"
    }
   ],
   "source": [
    "q.pop()\n"
   ]
  },
  {
   "cell_type": "code",
   "execution_count": 35,
   "metadata": {
    "collapsed": false,
    "pycharm": {
     "name": "#%%\n"
    }
   },
   "outputs": [
    {
     "name": "stdout",
     "output_type": "stream",
     "text": [
      "deque(['banana'])\n"
     ]
    }
   ],
   "source": [
    "print(q)\n"
   ]
  },
  {
   "cell_type": "code",
   "execution_count": 36,
   "metadata": {
    "collapsed": false,
    "pycharm": {
     "name": "#%%\n"
    }
   },
   "outputs": [],
   "source": [
    "from collections import deque\n",
    "\n",
    "\n",
    "class Queue:\n",
    "    def __init__(self):\n",
    "        self.q = deque()\n",
    "\n",
    "    def enq(self, value):\n",
    "        self.q.appendleft(value)\n",
    "\n",
    "    def deq(self):\n",
    "        if len(self.q) > 0:\n",
    "            return self.q.pop()\n",
    "        else:\n",
    "            return None\n",
    "\n",
    "    def __len__(self):\n",
    "        return len(self.q)\n",
    "\n",
    "    def __repr__(self):\n",
    "        if len(self.q) > 0:\n",
    "            s = \"<enqueue here>\\n_________________\\n\"\n",
    "            s += \"\\n_________________\\n\".join([str(item) for item in self.q])\n",
    "            s += \"\\n_________________\\n<dequeue here>\"\n",
    "            return s\n",
    "        else:\n",
    "            return \"<queue is empty>\"\n"
   ]
  },
  {
   "cell_type": "code",
   "execution_count": 37,
   "metadata": {
    "collapsed": false,
    "pycharm": {
     "name": "#%%\n"
    }
   },
   "outputs": [
    {
     "name": "stdout",
     "output_type": "stream",
     "text": [
      "<enqueue here>\n",
      "_________________\n",
      "cherry\n",
      "_________________\n",
      "banana\n",
      "_________________\n",
      "apple\n",
      "_________________\n",
      "<dequeue here>\n"
     ]
    }
   ],
   "source": [
    "q = Queue()\n",
    "q.enq('apple')\n",
    "q.enq('banana')\n",
    "q.enq('cherry')\n",
    "print(q)\n"
   ]
  },
  {
   "cell_type": "code",
   "execution_count": 38,
   "metadata": {
    "collapsed": false,
    "pycharm": {
     "name": "#%%\n"
    }
   },
   "outputs": [
    {
     "name": "stdout",
     "output_type": "stream",
     "text": [
      "apple\n"
     ]
    }
   ],
   "source": [
    "print(q.deq())\n"
   ]
  },
  {
   "cell_type": "code",
   "execution_count": 39,
   "metadata": {
    "collapsed": false,
    "pycharm": {
     "name": "#%%\n"
    }
   },
   "outputs": [
    {
     "name": "stdout",
     "output_type": "stream",
     "text": [
      "<enqueue here>\n",
      "_________________\n",
      "cherry\n",
      "_________________\n",
      "banana\n",
      "_________________\n",
      "<dequeue here>\n"
     ]
    }
   ],
   "source": [
    "print(q)\n"
   ]
  },
  {
   "cell_type": "code",
   "execution_count": 40,
   "metadata": {
    "collapsed": false,
    "pycharm": {
     "name": "#%%\n"
    }
   },
   "outputs": [
    {
     "name": "stdout",
     "output_type": "stream",
     "text": [
      "<enqueue here>\n",
      "_________________\n",
      "Node(apple)\n",
      "_________________\n",
      "<dequeue here>\n"
     ]
    }
   ],
   "source": [
    "visited_order = list()\n",
    "q = Queue()\n",
    "\n",
    "node = tree.get_root()\n",
    "q.enq(node)\n",
    "print(q)\n"
   ]
  },
  {
   "cell_type": "code",
   "execution_count": 42,
   "metadata": {
    "collapsed": false,
    "pycharm": {
     "name": "#%%\n"
    }
   },
   "outputs": [
    {
     "name": "stdout",
     "output_type": "stream",
     "text": [
      "visit order: [Node(apple), Node(banana)]\n",
      "<enqueue here>\n",
      "_________________\n",
      "Node(dates)\n",
      "_________________\n",
      "Node(cherry)\n",
      "_________________\n",
      "<dequeue here>\n"
     ]
    }
   ],
   "source": [
    "node = q.deq()\n",
    "visited_order.append(node)\n",
    "if node.has_left_child():\n",
    "    q.enq(node.get_left_child())\n",
    "if node.has_right_child():\n",
    "    q.enq(node.get_right_child())\n",
    "\n",
    "print(f\"\"\"visit order: {visited_order}\"\"\")\n",
    "print(q)\n"
   ]
  },
  {
   "cell_type": "code",
   "execution_count": 53,
   "metadata": {
    "collapsed": false,
    "pycharm": {
     "name": "#%%\n"
    }
   },
   "outputs": [],
   "source": [
    "# BFS algorithm\n",
    "def bfs(tree):\n",
    "    # queue\n",
    "    q = Queue()\n",
    "    # visit order\n",
    "    visit_order = list()\n",
    "    # start at root\n",
    "    node = tree.get_root()\n",
    "    # add root to queue\n",
    "    q.enq(node)\n",
    "\n",
    "    # while queue is not empty\n",
    "    while len(q) > 0:\n",
    "        # dequeue the node\n",
    "        node = q.deq()\n",
    "        # visit that node\n",
    "        visit_order.append(node)\n",
    "        # add left child if exists\n",
    "        if node.has_left_child():\n",
    "            q.enq(node.get_left_child())\n",
    "        # add right child if exists\n",
    "        if node.has_right_child():\n",
    "            q.enq(node.get_right_child())\n",
    "\n",
    "    # return the visit order\n",
    "    return visit_order\n"
   ]
  },
  {
   "cell_type": "code",
   "execution_count": 54,
   "metadata": {
    "collapsed": false,
    "pycharm": {
     "name": "#%%\n"
    }
   },
   "outputs": [
    {
     "data": {
      "text/plain": [
       "[Node(apple), Node(banana), Node(cherry), Node(dates)]"
      ]
     },
     "execution_count": 54,
     "metadata": {},
     "output_type": "execute_result"
    }
   ],
   "source": [
    "bfs(tree)\n"
   ]
  },
  {
   "cell_type": "code",
   "execution_count": 57,
   "metadata": {
    "collapsed": false,
    "pycharm": {
     "name": "#%%\n"
    }
   },
   "outputs": [],
   "source": [
    "# starter code\n",
    "\n",
    "class Tree:\n",
    "    def __init__(self, value=None):\n",
    "        self.root = Node(value)\n",
    "\n",
    "    def get_root(self):\n",
    "        return self.root\n",
    "\n",
    "    \"\"\"\n",
    "    define the print function\n",
    "    \"\"\"\n",
    "\n",
    "    def __repr__(self):\n",
    "        level = 0\n",
    "        q = Queue()\n",
    "        visit_order = list()\n",
    "        node = self.get_root()\n",
    "        q.enq((node, level))\n",
    "        while len(q) > 0:\n",
    "            node, level = q.deq()\n",
    "            if node is None:\n",
    "                visit_order.append((\"<empty>\", level))\n",
    "                continue\n",
    "            visit_order.append((node, level))\n",
    "            if node.has_left_child():\n",
    "                q.enq((node.get_left_child(), level + 1))\n",
    "            else:\n",
    "                q.enq((None, level + 1))\n",
    "\n",
    "            if node.has_right_child():\n",
    "                q.enq((node.get_right_child(), level + 1))\n",
    "            else:\n",
    "                q.enq((None, level + 1))\n",
    "\n",
    "        s = \"Tree\\n\"\n",
    "        previous_level = -1\n",
    "        for i in range(len(visit_order)):\n",
    "            node, level = visit_order[i]\n",
    "            if level == previous_level:\n",
    "                s += \" | \" + str(node)\n",
    "            else:\n",
    "                s += \"\\n\" + str(node)\n",
    "                previous_level = level\n",
    "\n",
    "        return s\n"
   ]
  },
  {
   "cell_type": "code",
   "execution_count": 58,
   "metadata": {
    "collapsed": false,
    "pycharm": {
     "name": "#%%\n"
    }
   },
   "outputs": [
    {
     "name": "stdout",
     "output_type": "stream",
     "text": [
      "Tree\n",
      "\n",
      "Node(apple)\n",
      "Node(banana) | Node(cherry)\n",
      "Node(dates) | <empty> | <empty> | <empty>\n",
      "<empty> | <empty>\n"
     ]
    }
   ],
   "source": [
    "# check solution\n",
    "tree = Tree(\"apple\")\n",
    "tree.get_root().set_left_child(Node(\"banana\"))\n",
    "tree.get_root().set_right_child(Node(\"cherry\"))\n",
    "tree.get_root().get_left_child().set_left_child(Node(\"dates\"))\n",
    "print(tree)\n"
   ]
  },
  {
   "cell_type": "markdown",
   "metadata": {
    "collapsed": false,
    "pycharm": {
     "name": "#%% md\n"
    }
   },
   "source": [
    "## Binary Search Tree (BST)\n"
   ]
  },
  {
   "cell_type": "code",
   "execution_count": 76,
   "metadata": {
    "collapsed": false,
    "pycharm": {
     "name": "#%%\n"
    }
   },
   "outputs": [],
   "source": [
    "class Tree():\n",
    "    def __init__(self):\n",
    "        self.root = None\n",
    "\n",
    "    def set_root(self, value):\n",
    "        self.root = Node(value)\n",
    "\n",
    "    def get_root(self):\n",
    "        return self.root\n",
    "\n",
    "    def compare(self, node, new_node):\n",
    "        \"\"\"\n",
    "        0 means new_node equals node\n",
    "        -1 means new node less than existing node\n",
    "        1 means new node greater than existing node\n",
    "        \"\"\"\n",
    "        if new_node.get_value() == node.get_value():\n",
    "            return 0\n",
    "        elif new_node.get_value() < node.get_value():\n",
    "            return -1\n",
    "        else:\n",
    "            return 1\n",
    "\n",
    "    def insert(self, new_value):\n",
    "        new_node = Node(new_value)\n",
    "        node = self.get_root()\n",
    "        if node == None:\n",
    "            self.root = new_node\n",
    "            return\n",
    "\n",
    "        while(True):\n",
    "            comparison = self.compare(node, new_node)\n",
    "            if comparison == 0:\n",
    "                # override with new node\n",
    "                node = new_node\n",
    "                break  # override node, and stop looping\n",
    "            elif comparison == -1:\n",
    "                # go left\n",
    "                if node.has_left_child():\n",
    "                    node = node.get_left_child()\n",
    "                else:\n",
    "                    node.set_left_child(new_node)\n",
    "                    break  # inserted node, so stop looping\n",
    "            else:  # comparison == 1\n",
    "                # go right\n",
    "                if node.has_right_child():\n",
    "                    node = node.get_right_child()\n",
    "                else:\n",
    "                    node.set_right_child(new_node)\n",
    "                    break  # inserted node, so stop looping\n",
    "\n",
    "    \"\"\"\n",
    "    implement search\n",
    "    \"\"\"\n",
    "\n",
    "    def search(self, value):\n",
    "        node = self.get_root()\n",
    "        s_node = Node(value)\n",
    "        while(True):\n",
    "            comparison = self.compare(node, s_node)\n",
    "            if comparison == 0:\n",
    "                return True\n",
    "            elif comparison == -1:\n",
    "                if node.has_left_child():\n",
    "                    node = node.get_left_child()\n",
    "                else:\n",
    "                    return False\n",
    "            else:\n",
    "                if node.has_right_child():\n",
    "                    node = node.get_right_child()\n",
    "                else:\n",
    "                    return False\n",
    "\n",
    "    \"\"\"\n",
    "    implement delete\n",
    "    \"\"\"\n",
    "\n",
    "    def minValueNode(self, node):\n",
    "        \"\"\"\n",
    "        Given a non-empty binary search tree, return the\n",
    "        node with minimum key value found in that tree. Note\n",
    "        that the entire tree does not need to be searched\n",
    "        \"\"\"\n",
    "        current = node\n",
    "\n",
    "        # loop down to find the leftmost leaf\n",
    "        while(current.has_left_child()):\n",
    "            current = current.left\n",
    "\n",
    "        return current\n",
    "\n",
    "    def deleteNode(self, root, key):\n",
    "        \"\"\"\n",
    "        delete the key and returns the new root\n",
    "        \"\"\"\n",
    "        # Base case\n",
    "        if root is None:\n",
    "            return root\n",
    "\n",
    "        # if the key to be deleted is smaller than the root's key\n",
    "        # then it lies in left-subtree\n",
    "        if key < root.get_value():\n",
    "            root.set_left_child(self.deleteNode(root.get_left_child(), key))\n",
    "\n",
    "        # if the key to be deleted is greater than the root's key\n",
    "        # than it lies in right-subtree\n",
    "        elif(key > root.get_value()):\n",
    "            root.set_right_child(self.deleteNode(root.get_right_child(), key))\n",
    "\n",
    "        # if key is same as root's key, then this is the node to be deleted\n",
    "        else:\n",
    "            # Node with only one child or no child\n",
    "            if not(root.has_left_child()):\n",
    "                temp = root.get_right_child()\n",
    "                root = None\n",
    "                return temp\n",
    "            elif not(root.has_right_child()):\n",
    "                temp = root.get_left_child()\n",
    "                root = None\n",
    "                return temp\n",
    "\n",
    "        # Node with two children: get the inorder successor\n",
    "        # (smallest in the right subtree)\n",
    "        temp = self.minValueNode(root.get_right_child())\n",
    "\n",
    "        # Copy the inorder successor's content to this node\n",
    "        root.set_value(temp.get_value())\n",
    "\n",
    "        # Delete the inorder successor\n",
    "        root.set_right_child(self.deleteNode(\n",
    "            root.get_right_child(), temp.get_value()))\n",
    "\n",
    "        return root\n",
    "\n",
    "    def __repr__(self):\n",
    "        level = 0\n",
    "        q = Queue()\n",
    "        visit_order = list()\n",
    "        node = self.get_root()\n",
    "        q.enq((node, level))\n",
    "        while(len(q) > 0):\n",
    "            node, level = q.deq()\n",
    "            if node == None:\n",
    "                visit_order.append((\"<empty>\", level))\n",
    "                continue\n",
    "            visit_order.append((node, level))\n",
    "            if node.has_left_child():\n",
    "                q.enq((node.get_left_child(), level + 1))\n",
    "            else:\n",
    "                q.enq((None, level + 1))\n",
    "\n",
    "            if node.has_right_child():\n",
    "                q.enq((node.get_right_child(), level + 1))\n",
    "            else:\n",
    "                q.enq((None, level + 1))\n",
    "\n",
    "        s = \"Tree\\n\"\n",
    "        previous_level = -1\n",
    "        for i in range(len(visit_order)):\n",
    "            node, level = visit_order[i]\n",
    "            if level == previous_level:\n",
    "                s += \" | \" + str(node)\n",
    "            else:\n",
    "                s += \"\\n\" + str(node)\n",
    "                previous_level = level\n",
    "\n",
    "        return s\n"
   ]
  },
  {
   "cell_type": "code",
   "execution_count": null,
   "metadata": {
    "collapsed": false,
    "pycharm": {
     "name": "#%%\n"
    }
   },
   "outputs": [],
   "source": [
    "tree = Tree()\n",
    "tree.insert(5)\n",
    "tree.insert(6)\n",
    "tree.insert(4)\n",
    "tree.insert(2)\n",
    "tree.insert(8)\n",
    "print(tree)\n",
    "print(f\"\"\"\n",
    "search for 8: {tree.search(8)}\n",
    "search for 3: {tree.search(3)}\"\"\")\n",
    "tree.deleteNode(tree.get_root(), 4)\n",
    "print(tree)\n",
    "print(f\"\"\"\n",
    "search for 4: {tree.search(4)}\n",
    "search for 3: {tree.search(3)}\"\"\")\n"
   ]
  },
  {
   "cell_type": "markdown",
   "metadata": {},
   "source": [
    "#### Diameter of a Binary Tree\n",
    "\n",
    "- Note: diameter is the longest path between two nodes of a tree.\n"
   ]
  },
  {
   "cell_type": "code",
   "execution_count": 1,
   "metadata": {
    "collapsed": false,
    "pycharm": {
     "name": "#%%\n"
    }
   },
   "outputs": [],
   "source": [
    "class BinaryTreeNode:\n",
    "\n",
    "    def __init__(self, data):\n",
    "        self.data = data\n",
    "        self.left = None\n",
    "        self.right = None\n"
   ]
  },
  {
   "cell_type": "code",
   "execution_count": 2,
   "metadata": {},
   "outputs": [],
   "source": [
    "from queue import Queue\n",
    "\n",
    "def convert_arr_to_binary_tree(arr):\n",
    "    \"\"\"\n",
    "    Takes arr representing level-order traversal of Binary Tree \n",
    "    \"\"\"\n",
    "    index = 0\n",
    "    length = len(arr)\n",
    "    \n",
    "    if length <= 0 or arr[0] == -1:\n",
    "        return None\n",
    "\n",
    "    root = BinaryTreeNode(arr[index])\n",
    "    index += 1\n",
    "    queue = Queue()\n",
    "    queue.put(root)\n",
    "    \n",
    "    while not queue.empty():\n",
    "        current_node = queue.get()\n",
    "        left_child = arr[index]\n",
    "        index += 1\n",
    "        \n",
    "        if left_child is not None:\n",
    "            left_node = BinaryTreeNode(left_child)\n",
    "            current_node.left = left_node\n",
    "            queue.put(left_node)\n",
    "        \n",
    "        right_child = arr[index]\n",
    "        index += 1\n",
    "        \n",
    "        if right_child is not None:\n",
    "            right_node = BinaryTreeNode(right_child)\n",
    "            current_node.right = right_node\n",
    "            queue.put(right_node)\n",
    "    return root\n"
   ]
  },
  {
   "cell_type": "code",
   "execution_count": 5,
   "metadata": {},
   "outputs": [],
   "source": [
    "# Solution\n",
    "def diameter_of_binary_tree(root):\n",
    "    return diameter_of_binary_tree_func(root)[1]\n",
    "    \n",
    "def diameter_of_binary_tree_func(root):\n",
    "    \"\"\"\n",
    "    Diameter for a particular BinaryTree Node will be:\n",
    "        1. Either diameter of left subtree\n",
    "        2. Or diameter of a right subtree\n",
    "        3. Sum of left-height and right-height\n",
    "    :param root:\n",
    "    :return: [height, diameter]\n",
    "    \"\"\"\n",
    "    if root is None:\n",
    "        return 0, 0\n",
    "\n",
    "    left_height, left_diameter = diameter_of_binary_tree_func(root.left)\n",
    "    right_height, right_diameter = diameter_of_binary_tree_func(root.right)\n",
    "\n",
    "    current_height = max(left_height, right_height) + 1\n",
    "    height_diameter = left_height + right_height\n",
    "    current_diameter = max(left_diameter, right_diameter, height_diameter)\n",
    "\n",
    "    return current_height, current_diameter"
   ]
  },
  {
   "cell_type": "code",
   "execution_count": 6,
   "metadata": {},
   "outputs": [],
   "source": [
    "def test_function(test_case):\n",
    "    arr = test_case[0]\n",
    "    solution = test_case[1]\n",
    "    root = convert_arr_to_binary_tree(arr)\n",
    "    output = diameter_of_binary_tree(root)\n",
    "    print(output)\n",
    "    if output == solution:\n",
    "        print(\"Pass\")\n",
    "    else:\n",
    "        print(\"Fail\")"
   ]
  },
  {
   "cell_type": "code",
   "execution_count": 7,
   "metadata": {},
   "outputs": [
    {
     "name": "stdout",
     "output_type": "stream",
     "text": [
      "3\n",
      "3\n",
      "Pass\n"
     ]
    }
   ],
   "source": [
    "arr = [1, 2, 3, 4, 5, None, None, None, None, None, None]\n",
    "solution = 3\n",
    "\n",
    "bin_tree = convert_arr_to_binary_tree(arr)\n",
    "print(diameter_of_binary_tree(bin_tree))\n",
    "\n",
    "test_case = [arr, solution]\n",
    "test_function(test_case)"
   ]
  },
  {
   "cell_type": "code",
   "execution_count": 8,
   "metadata": {},
   "outputs": [],
   "source": [
    "# another solution\n",
    "\n",
    "class TreeNode:\n",
    "    def __int__(self, val=0, left=None, right=None):\n",
    "        self.val = val\n",
    "        self.left = left\n",
    "        self.right = right\n",
    "\n",
    "\n",
    "class Solution:\n",
    "    def DiameterOfBinaryTree(self, root: TreeNode) -> int:\n",
    "        res = [0]\n",
    "\n",
    "        def dfs(root):\n",
    "            if not root:\n",
    "                return -1\n",
    "            left = dfs(root.left)\n",
    "            right = dfs(root.right)\n",
    "\n",
    "            res[0] = max(res[0], 2 + left + right)\n",
    "\n",
    "            return 1 + max(left, right)\n",
    "\n",
    "        dfs(root)\n",
    "        return res[0]\n"
   ]
  },
  {
   "cell_type": "markdown",
   "metadata": {},
   "source": [
    "#### Path From Root to Node"
   ]
  },
  {
   "cell_type": "code",
   "execution_count": 9,
   "metadata": {},
   "outputs": [],
   "source": [
    "class BinaryTreeNode:\n",
    "\n",
    "    def __init__(self, data):\n",
    "        self.data = data\n",
    "        self.left = None\n",
    "        self.right = None"
   ]
  },
  {
   "cell_type": "code",
   "execution_count": 10,
   "metadata": {},
   "outputs": [],
   "source": [
    "# Solution\n",
    "def path_from_root_to_node(root, data):\n",
    "    \"\"\"\n",
    "    Assuming data as input to find the node\n",
    "    The solution can be easily changed to find a node instead of data\n",
    "    :param data:\n",
    "    :return:\n",
    "    \"\"\"\n",
    "    output = path_from_node_to_root(root, data)\n",
    "    return list(reversed(output))\n",
    "\n",
    "def path_from_node_to_root(root, data):\n",
    "    if root is None:\n",
    "        return None\n",
    "\n",
    "    elif root.data == data:\n",
    "        return [data]\n",
    "\n",
    "    left_answer = path_from_node_to_root(root.left, data)\n",
    "    if left_answer is not None:\n",
    "        left_answer.append(root.data)\n",
    "        return left_answer\n",
    "\n",
    "    right_answer = path_from_node_to_root(root.right, data)\n",
    "    if right_answer is not None:\n",
    "        right_answer.append(root.data)\n",
    "        return right_answer\n",
    "    return None\n"
   ]
  },
  {
   "cell_type": "code",
   "execution_count": 11,
   "metadata": {},
   "outputs": [],
   "source": [
    "def test_function(test_case):\n",
    "    arr = test_case[0]\n",
    "    data = test_case[1]\n",
    "    solution = test_case[2]\n",
    "    root = convert_arr_to_binary_tree(arr)\n",
    "    output = path_from_root_to_node(root, data)\n",
    "    if output == solution:\n",
    "        print(\"Pass\")\n",
    "    else:\n",
    "        print(\"Fail\")"
   ]
  },
  {
   "cell_type": "code",
   "execution_count": 12,
   "metadata": {},
   "outputs": [
    {
     "name": "stdout",
     "output_type": "stream",
     "text": [
      "Pass\n"
     ]
    }
   ],
   "source": [
    "arr = [1, 2, 3, 4, 5, None, None, None, None, None, None]\n",
    "data = 5\n",
    "solution = [1, 2, 5]\n",
    "\n",
    "test_case = [arr, data, solution]\n",
    "test_function(test_case)"
   ]
  },
  {
   "cell_type": "code",
   "execution_count": null,
   "metadata": {},
   "outputs": [],
   "source": []
  }
 ],
 "metadata": {
  "interpreter": {
   "hash": "4726ba34900b97f0abb2e0b2ad6623681b2d60251df5031654375b4ace2f55aa"
  },
  "kernelspec": {
   "display_name": "Python 3.6.8 64-bit",
   "language": "python",
   "name": "python3"
  },
  "language_info": {
   "codemirror_mode": {
    "name": "ipython",
    "version": 3
   },
   "file_extension": ".py",
   "mimetype": "text/x-python",
   "name": "python",
   "nbconvert_exporter": "python",
   "pygments_lexer": "ipython3",
   "version": "3.8.3"
  },
  "orig_nbformat": 4
 },
 "nbformat": 4,
 "nbformat_minor": 2
}
