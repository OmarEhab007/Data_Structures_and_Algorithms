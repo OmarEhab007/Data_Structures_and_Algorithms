{
 "cells": [
  {
   "cell_type": "markdown",
   "metadata": {
    "collapsed": true,
    "pycharm": {
     "name": "#%% md\n"
    }
   },
   "source": [
    "# Chapter 02: Object-Oriented Programming\n",
    "\n",
    "## 2.3 Class Definitions\n",
    "In python, every data is an instance of some class."
   ]
  },
  {
   "cell_type": "markdown",
   "metadata": {
    "pycharm": {
     "metadata": false,
     "name": "#%% md\n"
    }
   },
   "source": [
    "### Example: Credit Card Class"
   ]
  },
  {
   "cell_type": "code",
   "execution_count": 21,
   "metadata": {
    "pycharm": {
     "is_executing": false,
     "metadata": false,
     "name": "#%%\n"
    }
   },
   "outputs": [
    {
     "name": "stdout",
     "output_type": "stream",
     "text": [
      "list\n",
      "str\n",
      "dict\n"
     ]
    }
   ],
   "source": [
    "print(list().__class__.__name__)\n",
    "print(str().__class__.__name__)\n",
    "print(dict().__class__.__name__)"
   ]
  },
  {
   "cell_type": "code",
   "execution_count": 22,
   "metadata": {
    "pycharm": {
     "is_executing": false,
     "metadata": false,
     "name": "#%%\n"
    }
   },
   "outputs": [
    {
     "name": "stdout",
     "output_type": "stream",
     "text": [
      "type\n"
     ]
    }
   ],
   "source": [
    "print(list().__class__.__class__.__name__)"
   ]
  },
  {
   "cell_type": "markdown",
   "metadata": {
    "pycharm": {
     "metadata": false,
     "name": "#%% md\n"
    }
   },
   "source": [
    "The `self` identifier explicitly identifies the instance that a method is invoked in class.\n"
   ]
  },
  {
   "cell_type": "code",
   "execution_count": 41,
   "metadata": {
    "pycharm": {
     "is_executing": false,
     "metadata": false,
     "name": "#%%\n"
    }
   },
   "outputs": [],
   "source": [
    "class CreditCard:\n",
    "    \"\"\"A consumer credit card\"\"\"\n",
    "    \n",
    "    def __init__(self, customer, bank, acnt, limit):\n",
    "        \"\"\"Create a new credit card instance.\n",
    "        \n",
    "        The initial balance is zero.\n",
    "        \n",
    "        :param customer: the name of the customer \n",
    "        :param bank: the name of the bank\n",
    "        :param acnt: the account identifier\n",
    "        :param limit: credit limit\n",
    "        \"\"\"\n",
    "        \n",
    "        self._customer = customer\n",
    "        self._bank = bank\n",
    "        self._account = acnt\n",
    "        self._limit = limit\n",
    "        self._balance = 0\n",
    "        \n",
    "    def get_customer(self):\n",
    "        \"\"\"Return name of the customer\"\"\"\n",
    "        return self._customer\n",
    "    \n",
    "    def get_bank(self):\n",
    "        \"\"\"Return the bank's name.\"\"\"\n",
    "        return self._bank\n",
    "    \n",
    "    def get_account(self):\n",
    "        \"\"\"Return the card identifying number (typically stored as a string.\"\"\"\n",
    "        return self._account\n",
    "    \n",
    "    def get_limit(self):\n",
    "        \"\"\"Return current credit limit.\"\"\"\n",
    "        return self._limit\n",
    "    \n",
    "    def get_balance(self):\n",
    "        \"\"\"Return current balance.\"\"\"\n",
    "        return self._balance\n",
    "    \n",
    "    def charge(self, price):\n",
    "        \"\"\"Charge given price to the card, assuming sufficient credit limit.\n",
    "        \n",
    "        Return True if charge was processed; False if charge was denied.\n",
    "        \"\"\"\n",
    "        \n",
    "        if price + self._balance > self._limit:\n",
    "            return False\n",
    "        else:\n",
    "            self._balance += price\n",
    "            return True\n",
    "    \n",
    "    def make_payment(self, amount):\n",
    "        \"\"\"Process customer payment that reduces balance.\"\"\"\n",
    "        self._balance -= amount \n",
    "    "
   ]
  },
  {
   "cell_type": "markdown",
   "metadata": {
    "pycharm": {
     "metadata": false,
     "name": "#%% md\n"
    }
   },
   "source": [
    "Python interpreter automatically binds the instance upon which the method is invoked to the `self` parameter.\n"
   ]
  },
  {
   "cell_type": "code",
   "execution_count": 42,
   "metadata": {
    "pycharm": {
     "is_executing": false,
     "metadata": false,
     "name": "#%%\n"
    }
   },
   "outputs": [
    {
     "data": {
      "text/plain": [
       "<__main__.CreditCard at 0x2392b1448e0>"
      ]
     },
     "execution_count": 42,
     "metadata": {},
     "output_type": "execute_result"
    }
   ],
   "source": [
    "cc = CreditCard('John Doe', 'Bank', '1234 5678', 1000)\n",
    "cc"
   ]
  },
  {
   "cell_type": "markdown",
   "metadata": {
    "pycharm": {
     "metadata": false,
     "name": "#%% md\n"
    }
   },
   "source": [
    "In class, `__init__` method works as the **constructor** of the class. Also, single leading underscore in the name of a data member, such as `_balance`, implies that it is intended as **nonpublic**. Users of a class should not directly access such members.\n",
    "\n",
    "For better encapsulation, it is mostly better to treat all data members as nonpublic and provide accessors, to provide a user of our class read-only access to a trait, and update methods for updating its memebers.\n",
    "\n",
    "### Operator overloading and Python's Special Methods\n",
    "By default, operators can not work on classes unless special methods are defined. You can see detailed info at [here](https://docs.python.org/3/reference/datamodel.html#special-method-names). Python also supports non-operator overloads. For example, `str` invokes `__str__()` and `bool` invokes `__bool__()`. However, we should not carelessly assume that Python will manage all the implications. Defining `__eq__` will support syntax `a == b`, but it does not affect the evaluation of a syntax `a != b`, which should be defined by `__ne__`. In similar context, defining `__eq__` and `__lt__` does not imply semantics for a `a <= b `.\n",
    "\n",
    "### Example: Multidimensional Vector Class"
   ]
  },
  {
   "cell_type": "code",
   "execution_count": 43,
   "metadata": {
    "pycharm": {
     "is_executing": false,
     "metadata": false,
     "name": "#%%\n"
    }
   },
   "outputs": [
    {
     "ename": "NameError",
     "evalue": "name 'z' is not defined",
     "output_type": "error",
     "traceback": [
      "\u001b[1;31m---------------------------------------------------------------------------\u001b[0m",
      "\u001b[1;31mNameError\u001b[0m                                 Traceback (most recent call last)",
      "\u001b[1;32m~\\AppData\\Local\\Temp/ipykernel_14152/3567182859.py\u001b[0m in \u001b[0;36m<module>\u001b[1;34m\u001b[0m\n\u001b[1;32m----> 1\u001b[1;33m \u001b[1;32mclass\u001b[0m \u001b[0mVector\u001b[0m\u001b[1;33m:\u001b[0m\u001b[1;33m\u001b[0m\u001b[1;33m\u001b[0m\u001b[0m\n\u001b[0m\u001b[0;32m      2\u001b[0m     \u001b[1;34m\"\"\"Represent a vector in a multidimensional space\"\"\"\u001b[0m\u001b[1;33m\u001b[0m\u001b[1;33m\u001b[0m\u001b[0m\n\u001b[0;32m      3\u001b[0m \u001b[1;33m\u001b[0m\u001b[0m\n\u001b[0;32m      4\u001b[0m     \u001b[1;32mdef\u001b[0m \u001b[0m__init__\u001b[0m\u001b[1;33m(\u001b[0m\u001b[0mself\u001b[0m\u001b[1;33m,\u001b[0m \u001b[0md\u001b[0m\u001b[1;33m)\u001b[0m\u001b[1;33m:\u001b[0m\u001b[1;33m\u001b[0m\u001b[1;33m\u001b[0m\u001b[0m\n\u001b[0;32m      5\u001b[0m         \u001b[1;34m\"\"\"Create d-dimensional vector of zeros.\"\"\"\u001b[0m\u001b[1;33m\u001b[0m\u001b[1;33m\u001b[0m\u001b[0m\n",
      "\u001b[1;32m~\\AppData\\Local\\Temp/ipykernel_14152/3567182859.py\u001b[0m in \u001b[0;36mVector\u001b[1;34m()\u001b[0m\n\u001b[0;32m     13\u001b[0m         \u001b[1;34m\"\"\"Return jth coordinate of vector.\"\"\"\u001b[0m\u001b[1;33m\u001b[0m\u001b[1;33m\u001b[0m\u001b[0m\n\u001b[0;32m     14\u001b[0m         \u001b[1;32mreturn\u001b[0m \u001b[0mself\u001b[0m\u001b[1;33m.\u001b[0m\u001b[0m_coords\u001b[0m\u001b[1;33m[\u001b[0m\u001b[0mj\u001b[0m\u001b[1;33m]\u001b[0m\u001b[1;33m\u001b[0m\u001b[1;33m\u001b[0m\u001b[0m\n\u001b[1;32m---> 15\u001b[1;33m     \u001b[0mz\u001b[0m\u001b[1;33m\u001b[0m\u001b[1;33m\u001b[0m\u001b[0m\n\u001b[0m\u001b[0;32m     16\u001b[0m     \u001b[1;32mdef\u001b[0m \u001b[0m__setitem__\u001b[0m\u001b[1;33m(\u001b[0m\u001b[0mself\u001b[0m\u001b[1;33m,\u001b[0m \u001b[0mj\u001b[0m\u001b[1;33m,\u001b[0m \u001b[0mval\u001b[0m\u001b[1;33m)\u001b[0m\u001b[1;33m:\u001b[0m\u001b[1;33m\u001b[0m\u001b[1;33m\u001b[0m\u001b[0m\n\u001b[0;32m     17\u001b[0m         \u001b[1;34m\"\"\"Set jth coordinate of vector to given value.\"\"\"\u001b[0m\u001b[1;33m\u001b[0m\u001b[1;33m\u001b[0m\u001b[0m\n",
      "\u001b[1;31mNameError\u001b[0m: name 'z' is not defined"
     ]
    }
   ],
   "source": [
    "class Vector:\n",
    "    \"\"\"Represent a vector in a multidimensional space\"\"\"\n",
    "    \n",
    "    def __init__(self, d):\n",
    "        \"\"\"Create d-dimensional vector of zeros.\"\"\"\n",
    "        self._coords = [0] * d\n",
    "        \n",
    "    def __len__(self):\n",
    "        \"\"\"Return the dimension of the vector.\"\"\"\n",
    "        return len(self._coords)\n",
    "    \n",
    "    def __getitem__(self, j):\n",
    "        \"\"\"Return jth coordinate of vector.\"\"\"\n",
    "        return self._coords[j]\n",
    "    z\n",
    "    def __setitem__(self, j, val):\n",
    "        \"\"\"Set jth coordinate of vector to given value.\"\"\"\n",
    "        self._coords[j] = val\n",
    "    \n",
    "    def __add__(self, other):\n",
    "        \"\"\"Return sum of two vectors.\"\"\"\n",
    "        if len(self) != len(other):\n",
    "            raise ValueError('dimensions must agree')\n",
    "        result = Vector(len(self))\n",
    "        for j in range(len(self)):\n",
    "            result[j] = self[j] + other[j]\n",
    "        return result\n",
    "    \n",
    "    def __eq__(self, other):\n",
    "        \"\"\"Return True if vectgor has same coordinates as other.\"\"\"\n",
    "        return self._coords == other._coords\n",
    "    \n",
    "    def __ne__(self, other):\n",
    "        \"\"\"Return True if vector differs from other.\"\"\"\n",
    "        return not self == other  # This rely on existing __eq__ definition\n",
    "    \n",
    "    def __str__(self):\n",
    "        \"\"\"Produce string representation of vector.\"\"\"\n",
    "        return '<' + str(self._coords)[1:-1] + '>'\n",
    "    \n",
    "    def __repr__(self):\n",
    "        \"\"\"For representation.\"\"\"\n",
    "        return '<' + str(self._coords)[1:-1] + '>'\n",
    "    \n",
    "    def __mul__(self, other):\n",
    "        return 'A*B'"
   ]
  },
  {
   "cell_type": "code",
   "execution_count": null,
   "metadata": {
    "pycharm": {
     "is_executing": false,
     "metadata": false,
     "name": "#%%\n"
    }
   },
   "outputs": [
    {
     "data": {
      "text/plain": [
       "<0, 0, 10, 0, 0>"
      ]
     },
     "execution_count": 31,
     "metadata": {},
     "output_type": "execute_result"
    }
   ],
   "source": [
    "x = Vector(5)\n",
    "x[2] = 10\n",
    "x"
   ]
  },
  {
   "cell_type": "code",
   "execution_count": null,
   "metadata": {
    "pycharm": {
     "is_executing": false,
     "metadata": false,
     "name": "#%%\n"
    }
   },
   "outputs": [
    {
     "data": {
      "text/plain": [
       "<0, 0, 20, 0, 0>"
      ]
     },
     "execution_count": 32,
     "metadata": {},
     "output_type": "execute_result"
    }
   ],
   "source": [
    "x + x"
   ]
  },
  {
   "cell_type": "code",
   "execution_count": null,
   "metadata": {
    "pycharm": {
     "is_executing": false,
     "metadata": false,
     "name": "#%%\n"
    }
   },
   "outputs": [
    {
     "data": {
      "text/plain": [
       "'A*B'"
      ]
     },
     "execution_count": 33,
     "metadata": {},
     "output_type": "execute_result"
    }
   ],
   "source": [
    "x * x  # Gives error since it is not defined through `__mul__`"
   ]
  },
  {
   "cell_type": "markdown",
   "metadata": {
    "pycharm": {
     "metadata": false,
     "name": "#%% md\n"
    }
   },
   "source": [
    "### Iterators\n",
    "An **Iterator** for a collection provides one key behavior: It supports a special method named `__next__` that returns the next element of the collection, if any, or raises a `StopIteration` exception to indicate that there are no further elements.\n",
    "\n",
    "Python automatically supports iterator implementation if both `__len__` and `__getitem__` is defined."
   ]
  },
  {
   "cell_type": "code",
   "execution_count": null,
   "metadata": {
    "pycharm": {
     "is_executing": false,
     "metadata": false,
     "name": "#%%\n"
    }
   },
   "outputs": [],
   "source": [
    "class SequenceIterator:\n",
    "    \"\"\"An iterator for any of Python's sequence types.\"\"\"\n",
    "    \n",
    "    def __init__(self, sequence):\n",
    "        \"\"\"Create an iterator for the given sequence.\"\"\"\n",
    "        self._seq = sequence  # keep a reference to the underlying data\n",
    "        self._k = -1  # will increment to 0 on first call to next\n",
    "    \n",
    "    def __next__(self):\n",
    "        \"\"\"Return the next element, or else raise StopIteration error.\"\"\"\n",
    "        self._k += 1\n",
    "        if self._k < len(self._seq):\n",
    "            return(self._seq[self._k])\n",
    "        else:\n",
    "            raise StopIteration()\n",
    "        \n",
    "    def __iter__(self):\n",
    "        \"\"\"By convention, an iterator must return itself as an iterator.\"\"\"\n",
    "        return self"
   ]
  },
  {
   "cell_type": "code",
   "execution_count": null,
   "metadata": {
    "pycharm": {
     "is_executing": false,
     "metadata": false,
     "name": "#%%\n"
    }
   },
   "outputs": [
    {
     "data": {
      "text/plain": [
       "<__main__.SequenceIterator at 0x2392b131910>"
      ]
     },
     "execution_count": 35,
     "metadata": {},
     "output_type": "execute_result"
    }
   ],
   "source": [
    "custom_iter = SequenceIterator([4, 2, 1])\n",
    "iter(custom_iter)"
   ]
  },
  {
   "cell_type": "code",
   "execution_count": null,
   "metadata": {
    "pycharm": {
     "is_executing": false,
     "metadata": false,
     "name": "#%%\n"
    }
   },
   "outputs": [
    {
     "name": "stdout",
     "output_type": "stream",
     "text": [
      "5\n",
      "2\n",
      "1\n",
      "2\n",
      "7\n"
     ]
    }
   ],
   "source": [
    "for i in SequenceIterator([5, 2, 1, 2, 7]):\n",
    "    print(i)"
   ]
  },
  {
   "cell_type": "markdown",
   "metadata": {
    "pycharm": {
     "metadata": false,
     "name": "#%% md\n"
    }
   },
   "source": [
    "### Example: Range Class\n",
    "This example mimics Pthon's built-in `range` class. There is a big difference between Python 3's `range` and Python 2's range. Basically, Python 3's `range` works like a Python 2's `xrange`.\n",
    "\n",
    "The core difference between them is that Python 3's range employs **lazy evaluation**, which does not create a new list instance, which might be expensive if the list is huge, effectively repesenting the desired range of elements without storing them in memory."
   ]
  },
  {
   "cell_type": "code",
   "execution_count": 44,
   "metadata": {
    "pycharm": {
     "is_executing": false,
     "metadata": false,
     "name": "#%%\n"
    }
   },
   "outputs": [],
   "source": [
    "class Range:\n",
    "    \"\"\"A class that mimic's the built-in range class.\"\"\"\n",
    "    \n",
    "    def __init__(self, start, stop=None, step=1):\n",
    "        \"\"\"Initialize a Range Instance\n",
    "        Semantics is similar to built-in range class\n",
    "        \"\"\"\n",
    "        if step == 0:\n",
    "            raise ValueError('step cannot be 0')\n",
    "        \n",
    "        if stop is None:\n",
    "            start, stop = 0, start\n",
    "            \n",
    "        # calculate the effective length once\n",
    "        self._length = max(0, (stop - start + step -1) // step)\n",
    "        \n",
    "        # nned knowledge of start and step (but not step) to support _-getitem__\n",
    "        self._start = start\n",
    "        self._step = step\n",
    "        \n",
    "    def __len__(self):\n",
    "        \"\"\"Return number of entries in the range.\"\"\"\n",
    "        return self._length\n",
    "    \n",
    "    def __getitem__(self, k):\n",
    "        \"\"\"Return entry at index k (using standard interpretation if negative.)\"\"\"\n",
    "        if k < 0:\n",
    "            k += len(self)\n",
    "        \n",
    "        if not 0 <= k < self._length:\n",
    "            raise IndexError('index out of range')\n",
    "        \n",
    "        return self._start + k * self._step"
   ]
  },
  {
   "cell_type": "markdown",
   "metadata": {
    "pycharm": {
     "metadata": false,
     "name": "#%% md\n"
    }
   },
   "source": [
    "## 2.4 Inheritance\n",
    "In object-oriented programming, the mechanism for a modular and hierarchical organization is a technique known as **inheritance**. This allows a new class to be defined based upon an existing class as the starting point. In object-oriented terminology, the existing class is typically described as the **base class**, **parent class**, or **superclass**, while the newly defined classs is known as the **subclass** or **child class**."
   ]
  },
  {
   "cell_type": "markdown",
   "metadata": {
    "pycharm": {
     "metadata": false,
     "name": "#%% md\n"
    }
   },
   "source": [
    "### Extending the CreditCard Class"
   ]
  },
  {
   "cell_type": "code",
   "execution_count": 45,
   "metadata": {
    "pycharm": {
     "is_executing": false,
     "metadata": false,
     "name": "#%%\n"
    }
   },
   "outputs": [],
   "source": [
    "class PredatoryCreditCard(CreditCard):\n",
    "    \"\"\"An extension to CreditCard that compounds interest and fees.\"\"\"\n",
    "    \n",
    "    def __init__(self, customer, bank, acnt, limit, apr):\n",
    "        \"\"\"Create a new predatory credit card instance.\n",
    "        \n",
    "        The initial balance is zero.\n",
    "        customer    the name of the customer\n",
    "        bank        the name of the bank\n",
    "        acnt        the account identifier\n",
    "        limit       credit limit\n",
    "        apr         annual percentage rate\n",
    "        \"\"\"\n",
    "\n",
    "        super().__init__(customer, bank, acnt, limit)\n",
    "        self._apr = apr\n",
    "        \n",
    "    def charge(self, price):\n",
    "        \"\"\"Charge given price to the card, assuming sufficient credit limit.\n",
    "        \n",
    "        Return True if charge was processed.\n",
    "        Return False and assess $5 fee if charge is denied.\n",
    "        \"\"\"\n",
    "        \n",
    "        success = super().charge(price)\n",
    "        if not success:\n",
    "            self._balance += 5\n",
    "        return success\n",
    "    \n",
    "    def process_month(self):\n",
    "        \"\"\"Assess monthly interest on outstanding balance.\"\"\"\n",
    "        if self._balance > 0:\n",
    "            # if positive balance, convert APR to monthly multiplicative factor\n",
    "            monthly_factor = pow(1 + self._apr, 1/12)\n",
    "            self._balance *= monthly_factor\n",
    "            "
   ]
  },
  {
   "cell_type": "code",
   "execution_count": 46,
   "metadata": {
    "pycharm": {
     "is_executing": false,
     "metadata": false,
     "name": "#%% \n"
    }
   },
   "outputs": [
    {
     "data": {
      "text/plain": [
       "1000"
      ]
     },
     "execution_count": 46,
     "metadata": {},
     "output_type": "execute_result"
    }
   ],
   "source": [
    "predatory = PredatoryCreditCard('John', 'AA Bank', '1234 5678', 100000000, 0.03)\n",
    "predatory.charge(1000)\n",
    "predatory.get_balance()"
   ]
  },
  {
   "cell_type": "code",
   "execution_count": 47,
   "metadata": {
    "pycharm": {
     "is_executing": false,
     "metadata": false,
     "name": "#%%\n"
    }
   },
   "outputs": [
    {
     "data": {
      "text/plain": [
       "1002.4662697723037"
      ]
     },
     "execution_count": 47,
     "metadata": {},
     "output_type": "execute_result"
    }
   ],
   "source": [
    "predatory.process_month()\n",
    "predatory.get_balance()"
   ]
  },
  {
   "cell_type": "markdown",
   "metadata": {
    "pycharm": {
     "metadata": false,
     "name": "#%% md\n"
    }
   },
   "source": [
    "#### Protected Members\n",
    "In Python, names beginning with a single underscore are conventionally akin to **protected**, which are accessible to subclasses, but not to the general public, while names beginning with a double underscore (other than special methods) are akin to **private**, which are not accessible to both subclasses and general public.\n",
    "\n",
    "However, this access control is not supported formally by Python. Keep in mind that it is just a convention. So if you are trying to use some attributes followed by an underscore, think twice that it could compromise the class's designer's intention."
   ]
  },
  {
   "cell_type": "markdown",
   "metadata": {
    "pycharm": {
     "metadata": false,
     "name": "#%% md\n"
    }
   },
   "source": [
    "### Hierarchy of Numeric Progressions\n",
    "As a second example of use of inheritance, we develop a hierarchy of classes for iterating numeric progressions.\n",
    "\n",
    "![Hierarchy of Progression Classes](../images/Fig2.7.png)"
   ]
  },
  {
   "cell_type": "code",
   "execution_count": 48,
   "metadata": {
    "pycharm": {
     "is_executing": false,
     "metadata": false,
     "name": "#%%\n"
    }
   },
   "outputs": [],
   "source": [
    "class Progression:\n",
    "    \"\"\"ITerator producing a generic progression.\n",
    "    \n",
    "    Default iterator produces the whole numbers 0, 1, 2, ...\n",
    "    \"\"\"\n",
    "    \n",
    "    def __init__(self, start=0):\n",
    "        \"\"\"Initialize current to the first value of the progression.\"\"\"\n",
    "        self._current = start\n",
    "    \n",
    "    def _advance(self):\n",
    "        \"\"\"Update self._current to a new value.\n",
    "        \n",
    "        THis should be overridden by a subclass to customize progression.\n",
    "        \n",
    "        By convention, if current is set to None, this designates the end of a progression.\n",
    "        \"\"\"\n",
    "        \n",
    "        self._current +=1\n",
    "        \n",
    "    def __next__(self):\n",
    "        \"\"\"Return the next element, or else raise StopIteration error.\"\"\"\n",
    "        if self._current is None:\n",
    "            raise StopIteration()\n",
    "        else:\n",
    "            answer = self._current\n",
    "            self._advance()\n",
    "            return answer\n",
    "        \n",
    "    def __iter__(self):\n",
    "        \"\"\"By convention, an iterator must return itself as an iterator.\"\"\"\n",
    "        return self\n",
    "    \n",
    "    def print_progression(self, n):\n",
    "        \"\"\"Print next n values of the progression.\"\"\"\n",
    "        print(' '.join(str(next(self)) for j in range(n)))"
   ]
  },
  {
   "cell_type": "markdown",
   "metadata": {
    "pycharm": {
     "metadata": false,
     "name": "#%% md\n"
    }
   },
   "source": [
    "#### An Arithmetic Progression Class"
   ]
  },
  {
   "cell_type": "code",
   "execution_count": 49,
   "metadata": {
    "pycharm": {
     "is_executing": false,
     "metadata": false,
     "name": "#%%\n"
    }
   },
   "outputs": [],
   "source": [
    "class ArithmeticProgression(Progression):\n",
    "    \"\"\"Iterator producing an arithmetic progression.\"\"\"\n",
    "    \n",
    "    def __init__(self, increment=1, start=0):\n",
    "        \"\"\"Create a new arithmetic progression.\n",
    "        \n",
    "        increment   the fixed constant to add to each term (default 1)\n",
    "        start       the first term of the progression (default 0)\n",
    "        \"\"\"\n",
    "        super().__init__(start)\n",
    "        self._increment = increment\n",
    "    \n",
    "    def _advance(self):\n",
    "        \"\"\"Update current value by adding the fixed increment.\"\"\"\n",
    "        self._current += self._increment"
   ]
  },
  {
   "cell_type": "markdown",
   "metadata": {
    "pycharm": {
     "metadata": false,
     "name": "#%% md\n"
    }
   },
   "source": [
    "#### A Geometric Progression Class"
   ]
  },
  {
   "cell_type": "code",
   "execution_count": 50,
   "metadata": {
    "pycharm": {
     "is_executing": false,
     "metadata": false,
     "name": "#%%\n"
    }
   },
   "outputs": [],
   "source": [
    "class GeometricProgression(Progression):\n",
    "    \"\"\"Iterator producing a geometric progression.\"\"\"\n",
    "    \n",
    "    def __init__(self, base=2, start=1):\n",
    "        \"\"\"Create a new geometric progression.\n",
    "        \n",
    "        base    the fixed constant multiplied to each term (default 2)\n",
    "        start   the first term of the progression (default 1)\n",
    "        \"\"\"\n",
    "        \n",
    "        super().__init__(start)\n",
    "        self._base = base\n",
    "    \n",
    "    def _advance(self):\n",
    "        \"\"\"Update current value by multiplying it by the base value.\"\"\"\n",
    "        self._current *= self._base"
   ]
  },
  {
   "cell_type": "markdown",
   "metadata": {
    "pycharm": {
     "metadata": false,
     "name": "#%% md\n"
    }
   },
   "source": [
    "#### A Fibonacci Progression Class"
   ]
  },
  {
   "cell_type": "code",
   "execution_count": 39,
   "metadata": {
    "pycharm": {
     "is_executing": false,
     "metadata": false,
     "name": "#%%\n"
    }
   },
   "outputs": [],
   "source": [
    "class FibonacciProgression(Progression):\n",
    "    \"\"\"Iterator producing a generalized Fibonacci progression.\"\"\"\n",
    "    \n",
    "    def __init__(self, first=0, second=1):\n",
    "        \"\"\"Create a new fibonacci progression.\n",
    "        \n",
    "        first       the first term of the progression (default 0)\n",
    "        second      the second term of the progression (default 1)\n",
    "        \"\"\"\n",
    "        \n",
    "        super().__init__(first)\n",
    "        self._prev = second - first\n",
    "    \n",
    "    def _advance(self):\n",
    "        \"\"\"Update current value by taking sum of previous two.\"\"\"\n",
    "        self._prev, self._current = self._current, self._prev + self._current"
   ]
  },
  {
   "cell_type": "markdown",
   "metadata": {
    "pycharm": {
     "metadata": false,
     "name": "#%% md\n"
    }
   },
   "source": [
    "#### Testing progressions"
   ]
  },
  {
   "cell_type": "code",
   "execution_count": 40,
   "metadata": {
    "pycharm": {
     "is_executing": false,
     "metadata": false,
     "name": "#%%\n"
    }
   },
   "outputs": [
    {
     "name": "stdout",
     "output_type": "stream",
     "text": [
      "0 1 2 3 4 5 6 7 8 9\n",
      "0 5 10 15 20 25 30 35 40 45\n",
      "2 7 12 17 22 27 32 37 42 47\n",
      "1 2 4 8 16 32 64 128 256 512\n",
      "1 3 9 27 81 243 729 2187 6561 19683\n",
      "0 1 1 2 3 5 8 13 21 34\n",
      "4 6 10 16 26 42 68 110 178 288\n"
     ]
    }
   ],
   "source": [
    "Progression().print_progression(10)\n",
    "ArithmeticProgression(5).print_progression(10)\n",
    "ArithmeticProgression(5, 2).print_progression(10)\n",
    "GeometricProgression().print_progression(10)\n",
    "GeometricProgression(3).print_progression(10)\n",
    "FibonacciProgression().print_progression(10)\n",
    "FibonacciProgression(4, 6).print_progression(10)"
   ]
  },
  {
   "cell_type": "markdown",
   "metadata": {
    "pycharm": {
     "metadata": false,
     "name": "#%% md\n"
    }
   },
   "source": [
    "### Abstract Base Class\n",
    "In classic object-oriented terminology, we say a class is an **abstract base class** if its only purpose is to serve as a base class though inheritance. More formally, an abstract base class is one that cannot be directly instantiated, while **concrete class** is one that can be instantiated. By this definition, our `Progression` class is technically concrete, although we essentially designated it as an abstract base class.\n",
    "\n",
    "In statically typed languages such as Java and C++, an abstract base class serves as a formal type that may guarantee one or more **abstract methods**. This provides support for polymorphism, as a variable may have an abstract base class as its declared type, even though it refers to an instance of a concrete subclass. Because there are no declared types in Python, this kind of polymorphism can be accomplished without the need for a unifying abstract class. For this reason, there is not as strong a tradition of defining abstract base classes in Python, although Python's `abc` module provides support for defining a formal abstract base class.\n",
    "\n",
    "Our reason for focusing on abstract base classes in our study of data structures is that Python's `collections` module provides several abstract base classes that assist when defining custom data structures that share a common interface with some of Python's built-in data structures. THese rely on an object-oriented software design pattern known as the **template method pattern** The template method pattern is when an abstract base class provides concrete behaviors that rely upon calls to other abstract behaviours. In that way, as soon as a sublclass provides definitions for the missing abstract behaviors, the inherited concrete behaviors are well defined.\n",
    "\n",
    "Asa tangible example, the `collections.Sequence` abstract base class defines behaviors common to Python's `list`, `str`, and `tuple` classes, as sequences that support element access via an integer index. More so, the `collections.Sequence` class provides concrete implementations of methods, `count`, `index` and `__contains__` that can be inherited by any class that provides concrete implementations of both `__len__` and `__getitem__`."
   ]
  },
  {
   "cell_type": "code",
   "execution_count": 51,
   "metadata": {
    "pycharm": {
     "is_executing": false,
     "metadata": false,
     "name": "#%%\n"
    }
   },
   "outputs": [],
   "source": [
    "from abc import ABCMeta, abstractmethod\n",
    "\n",
    "\n",
    "class Sequence(metaclass=ABCMeta):\n",
    "    \"\"\"Our own version of collections.Sequence abstract base class.\"\"\"\n",
    "    \n",
    "    @abstractmethod\n",
    "    def __len__(self):\n",
    "        \"\"\"Return the length of the sequence.\"\"\"\n",
    "        \n",
    "    @abstractmethod\n",
    "    def __getitem__(self, item):\n",
    "        \"\"\"Return the element at index item of the sequence.\"\"\"\n",
    "    \n",
    "    def __contains__(self, val):\n",
    "        \"\"\"Retrun True if val found in the sequence; False otherwise.\"\"\"\n",
    "        for j in range(len(self)):\n",
    "            if self[j] == val:\n",
    "                return True\n",
    "        return False\n",
    "\n",
    "    def index(self, val):\n",
    "        \"\"\"REturn leftmost index at which val is found (or raise ValueError).\"\"\"\n",
    "        for j in range(len(self)):\n",
    "            if self[j] == val:\n",
    "                return j\n",
    "        raise ValueError('value not in sequence')\n",
    "    \n",
    "    def count(self, val):\n",
    "        \"\"\"Return the number of elements equal to given value.\"\"\"\n",
    "        k = 0\n",
    "        for j in range(len(self)):\n",
    "            if self[j] == val:\n",
    "                k += 1\n",
    "            return k"
   ]
  },
  {
   "cell_type": "code",
   "execution_count": 52,
   "metadata": {
    "pycharm": {
     "is_executing": false,
     "metadata": false,
     "name": "#%%\n"
    }
   },
   "outputs": [
    {
     "ename": "TypeError",
     "evalue": "Can't instantiate abstract class Sequence with abstract methods __getitem__, __len__",
     "output_type": "error",
     "traceback": [
      "\u001b[1;31m---------------------------------------------------------------------------\u001b[0m",
      "\u001b[1;31mTypeError\u001b[0m                                 Traceback (most recent call last)",
      "\u001b[1;32m~\\AppData\\Local\\Temp/ipykernel_14152/373960791.py\u001b[0m in \u001b[0;36m<module>\u001b[1;34m\u001b[0m\n\u001b[1;32m----> 1\u001b[1;33m \u001b[0mSequence\u001b[0m\u001b[1;33m(\u001b[0m\u001b[1;33m)\u001b[0m\u001b[1;33m\u001b[0m\u001b[1;33m\u001b[0m\u001b[0m\n\u001b[0m",
      "\u001b[1;31mTypeError\u001b[0m: Can't instantiate abstract class Sequence with abstract methods __getitem__, __len__"
     ]
    }
   ],
   "source": [
    "Sequence()"
   ]
  },
  {
   "cell_type": "markdown",
   "metadata": {
    "pycharm": {
     "metadata": false,
     "name": "#%% md\n"
    }
   },
   "source": [
    "As we can see, since `Sequence` is an abstract Class, not an concrete class, so that it cannot be instantiated.\n",
    "\n",
    "This implementation relies on two advanced Python techniques. THe first is that we declare `ABCMeta` class of the `abc` module as a **metaclass** of our `Sequence` class. *A meta class is different from a superclass*, in that it provides a template for the class definition itself. Specifically, the `ABCMeta` declaration assures that the constructor for the class raises an error.\n",
    "\n",
    "The second advanced technique is the use of the `@abstractmethod` decorator immediately before the `__len__` and `__getitem__` methods are declared. That declares these two particular methods to be abstract, meaning that we do not provide an implementation within our Sequence base class, but that we expect any concrete subclasses to support those two methods. Python enforces this expectation, by disallowing instantitation for any subclass that does not override the abstract methods with concrete implementations.\n",
    "\n",
    "We emphasize that if a subclass provides its own implementation of an inherited behaviors from a base class, the new definition overrides the inherited one. THis technique can be used when we have the ability to provide a more efficient implementation for a behavior than is achieved by the generic approach. "
   ]
  },
  {
   "cell_type": "markdown",
   "metadata": {
    "pycharm": {
     "metadata": false,
     "name": "#%% md\n"
    }
   },
   "source": [
    "## 2.5 Namespaces and Object-Orientation\n",
    "A **namespace** is an abstraction that manages all of the identifiers that are defined in a particular scope, mapping each name to its associated value. In Python, functions, classes, and modules are all first-class objects, and so the \"value\" associated with an identifier in a namespace may in fact be a function, class, or module.\n"
   ]
  },
  {
   "cell_type": "markdown",
   "metadata": {
    "pycharm": {
     "metadata": false,
     "name": "#%% md\n"
    }
   },
   "source": [
    "### Instance and Class namespaces\n",
    "We begin by exploring what is known as the **instance namespace**, which manages attributes specific to an individual object. For example, each instance of our `CreditCard` class maintains a distinct balance, a distinct account number, a distinct credit limit, and so on. Each credit card will have a dedicated instance namespace to manage such values.\n",
    "\n",
    "There is a separate **class namespace** for each class that has been defined. This namespace is used to manage members that are to be *shared* by all instances of a class, or used without reference to any particular instance. For example, `make_payment` method of the `CreditCard` class is not stored independently by each instance of that class. That member function is stored within the namespace of the `CreditCard` class. Our `Predatory CreditCard` class has its own namespace, containing the three methods we defined for that subclass: `__init__`, `charge` and `process_month`.\n",
    "\n",
    "#### How Entries Are Established in a Namespace\n",
    "When inheritance is used, there is still a single *instance namespace* per object.\n",
    "\n",
    "A *class namespace* includes all declarations that are made directly within the body of the class definition.\n",
    "\n",
    "#### Class Data Members\n",
    "A class-level data member is often used when there is some value, such as a constant, that is to be shared by all instances of a class. In such a case, it would be unnecessarily wasteful to have each instance store that value in its instance namespace.\n",
    "\n",
    "```python\n",
    "class PredatoryCreditCard(CreditCard):\n",
    "    OVERLIMIT_FEE = 5    # this is a class-level member\n",
    "    \n",
    "    def charge(self, price):\n",
    "        success = super().charge(price)\n",
    "        if not success:\n",
    "            self._balance += PredatoryCreditCard.OVERLIMIT_FEE\n",
    "        return success\n",
    "```\n",
    "\n",
    "The data member, `OVERLIMIT_FEE`, is entered into the `PredatoryCreditCard` class namespace because that assignment takes place within the immediate scope of the class definition, and without any qualifying identifier.\n",
    "\n",
    "#### Nested Classes\n",
    "It is also possble to nest one class definition within the scope of another class. This is a useful construct, which we wil exploit several times in this book in the implementation of data structures. This can be done by using a syntax such as\n",
    "\n",
    "```python\n",
    "class A:\n",
    "    class B:\n",
    "```\n",
    "\n",
    "In this case, class `B` is the nested class. The identifier `B` is entered in to the namespace of class `A` associated with the newly defined class. We note that this technique is unrelated to the concept of inheritance, as class `B` does not inherit from class `A`.\n",
    "\n",
    "Nesting one class in the scope of another makes clear that the nested class exists for support of the outer class. Furthermore, it can help reduce potential name conflicts, because it allows for a similarly named class to exist in another context. For example we will later introduce a data structure known as a **linked list** and will define a nested node class to store the individual components of the list. We will also introduce a data sturcture known as a **tree** that depends upon its own nested node class. Thes e two structures rely on different node definitions, and by nesting those within the respective container classes, we avoid ambiguity.\n",
    "\n",
    "Another advantage of one class being nested as a member of another is taht it allows for a more advanced form of inheritance in which a subclass of the outer class overrides the definition of its nested class.\n",
    "\n",
    "#### Dictionaries and the `__slots__` Declaration\n",
    "By default, Python represents each namespace with an instance of the built-in `dict` class that maps identifying names in that scope to the associated objects. While a dictionary structure supports relatively efficient anme lookups, it requires additional memory usage beyond the raw data that it stores.\n",
    "\n",
    "Python provides a more direct mechnism for representing instance namespaces that avoids the use of an auxiliary dictionary. To use the streamlined representation for all instances of a class, that class definition must provide a class-levle member named `__slots__` that is assigned to a fixed sequene of strings that serve as names fro instance variables. For example, with our `CreditCard` class, we would declare the following:\n",
    "\n",
    "```python\n",
    "class CreditCard:\n",
    "    __slots__ = '_customer', '_bank', '_account', '_balance', '_limit'\n",
    "```\n",
    "\n",
    "In this example, the righ-hand side of the assignment is technically a tuple.\n",
    "\n",
    "When inheritance is used, if the base class declares `__slots__`, a subclass must also declare `__slots__` to avoid creation of instance dictionaries. The declaration in the subclass should only include names of supplemental methods that are newly introduced. For example, our `PredatoryCreditCard` declaration would include the following declaration:\n",
    "\n",
    "```python\n",
    "class PredatoryCreditCard(CreditCard):\n",
    "    __slots__ = '_apr'  # in addition to the inherited members\n",
    "```"
   ]
  },
  {
   "cell_type": "markdown",
   "metadata": {
    "pycharm": {
     "metadata": false,
     "name": "#%% md\n"
    }
   },
   "source": [
    "#### Name Resolution and Dynamic Dispatch\n",
    "In this section, we examine the process that is used when *retrieving* a name in Python's object-oriented framework. When the dot operator syantax is used to access an existing number, such as `obj.foo`, the Python interpreter begins a name resolution process, described as follows:\n",
    "\n",
    "1. The instance namespace is searched; if the desired name is found, its associated value is used.\n",
    "2. Otherwise the class namespace, for the class to which the instance belongs, is searched; if the name is found, its associated value is used.\n",
    "3. If the name was not found in the immediate class namespace, the search continues upward through the inheritance hierarchy, checking the class namespace for each ancestor (commonly checking the superclass, then its superclass and so on). The first time the name is found, its associate value is used.\n",
    "4. If the name has still not found, an `AttributeError` is raised.\n",
    "\n",
    "In traditional object-oriented terminology, Python uses what is known as **dynamic dispatch** (or **dynamic binding**) to determine, at run-time, which iplementation of a function to call based upon the type of the object upon which it is invoked. This is contrast to some languages that use **static dispatching**, making a compile-time decision as to which version of a function to call, based upon the declared type of a variable."
   ]
  },
  {
   "cell_type": "code",
   "execution_count": null,
   "metadata": {},
   "outputs": [],
   "source": []
  },
  {
   "cell_type": "markdown",
   "metadata": {
    "pycharm": {
     "metadata": false,
     "name": "#%% md\n"
    }
   },
   "source": [
    "## 2.6 Shallow and Deep Copying\n",
    "We emphasized that an assignment statement `foo = bar` makes the name `foo` an **alias** for the object identified as `bar`. In this section, we consider the task of making an **copy** of an object, rather than alias. This is necessary in applications when we want to subsequently modify either the original or the copy in an independent manner.\n",
    "\n",
    "Consider a scenario in which we manage various lists of colors, with each color represented by an instance of a presumed `color` class. We let identifier `warmtones` denote an existing list of such colors. In this application, we wish to create a new list named `palette`, which is a copy of `warmtones` list. However, we want to subsequently be able to add additional colors to `palette`, or to modify or remove some of the existing colors, without affecting the contents of `warmwtones`. If we were to exectue the command\n",
    "\n",
    "```python\n",
    "palette = warmtones\n",
    "```\n",
    "\n",
    "this creates an alias. No new list is created; instead the new identifier `palette` references the original list.\n",
    "\n",
    "Unfortunately, this does not meet our desired criteria, because if we subsequently add or remove colors from `palette`, we modify the list identified as `warmtones`.\n",
    "\n",
    "We can instead create a new instance of the `list` class by using the syntax:\n",
    "\n",
    "```python\n",
    "palette = list(warmtones)\n",
    "``` \n",
    "\n",
    "In this case, we explicitly call the `list` constructor, sending the first list as a parameter. This cause a new list to be created; however it is what is known as a **shallow copy**. The  new list is initialized so that its contents are precisely the same as the original sequence. However, Python's list are **referential**, and so the new list represents a sequnce of references to the same elements as in the first.\n",
    "\n",
    "This is a better situation than our first attempt, as we can legitimately add or remove elements from the `palette` without affecting `warmtones`. However, if we edit a `color` instance from the `palette` list, we effectively change the contents of `wamtones`. Although `palette` and `wamtones` are distinct list, there remains indirect aliasing, for example, with `palette[0]` and `warmtones[0]` as aliases for the same color instance.\n",
    "\n",
    "We prefer that `palette` be what is known as a **deep copy** of `warmtones`. In a deep copy, the new copy references its own *copies* of those objects referenced by the original version.\n",
    "\n",
    "#### Python's copy Module\n",
    "To create a deep copy, we could populate our list by explicitly making copies of the original instances, but this requires that we know how to make copies of colors (rather than aliasing). Python provides a very convenient module, named `copy`, that can produce both shallow copies and deep copies of arbitrary objects.\n",
    "\n",
    "This module supports two functions: the `copy` function create a shallow copy of its argument, and the `deepcopy` function creates a deep copy of its argument. After importing the module, we may create a deep copy for our example, using the command:\n",
    "\n",
    "```python\n",
    "palette = copy.deepcopy(warmtones)\n",
    "```"
   ]
  }
 ],
 "metadata": {
  "kernelspec": {
   "display_name": "Python 3",
   "language": "python",
   "name": "python3"
  },
  "language_info": {
   "codemirror_mode": {
    "name": "ipython",
    "version": 3
   },
   "file_extension": ".py",
   "mimetype": "text/x-python",
   "name": "python",
   "nbconvert_exporter": "python",
   "pygments_lexer": "ipython3",
   "version": "3.9.7"
  },
  "pycharm": {
   "stem_cell": {
    "cell_type": "raw",
    "metadata": {
     "collapsed": false
    },
    "source": []
   }
  }
 },
 "nbformat": 4,
 "nbformat_minor": 0
}
