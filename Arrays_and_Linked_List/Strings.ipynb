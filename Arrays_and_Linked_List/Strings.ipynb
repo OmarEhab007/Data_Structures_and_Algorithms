{
 "cells": [
  {
   "cell_type": "markdown",
   "metadata": {},
   "source": [
    "#### string reverser\n"
   ]
  },
  {
   "cell_type": "code",
   "execution_count": 1,
   "metadata": {},
   "outputs": [
    {
     "name": "stdout",
     "output_type": "stream",
     "text": [
      "Pass\n",
      "Pass\n",
      "Pass\n"
     ]
    }
   ],
   "source": [
    "def string_reverser(string):\n",
    "    \"\"\"reverse string \n",
    "\n",
    "    Args:\n",
    "        string (str): your word need to reverse \n",
    "\n",
    "    Returns:\n",
    "        str: reversed word\n",
    "    \"\"\"\n",
    "    reversed_string = ''\n",
    "    string_position = len(string) - 1\n",
    "\n",
    "    while string_position >= 0:\n",
    "        reversed_string += string[string_position]\n",
    "        string_position -= 1\n",
    "\n",
    "    return reversed_string\n",
    "\n",
    "\n",
    "print(\"Pass\" if ('retaw' == string_reverser('water')) else \"Fail\")\n",
    "print(\"Pass\" if ('!noitalupinam gnirts gnicitcarP' ==\n",
    "                 string_reverser('Practicing string manipulation!')) else \"Fail\")\n",
    "print(\"Pass\" if ('3432 :si edoc esuoh ehT' ==\n",
    "                 string_reverser('The house code is: 2343')) else \"Fail\")\n"
   ]
  },
  {
   "cell_type": "markdown",
   "metadata": {},
   "source": [
    "#### Anagrams\n",
    "\n",
    "An anagram is a word (or phrase) that is formed by rearranging the letters of another word (or phrase).\n",
    "\n",
    "- **For example:** <br>\n",
    "  \"rat\" is an anagram of \"art\" <br>\n",
    "  \"alert\" is an anagram of \"alter\"<br>\n",
    "  \"Slot machines\" is an anagram of \"Cash lost in me\"<br>\n"
   ]
  },
  {
   "cell_type": "code",
   "execution_count": 4,
   "metadata": {},
   "outputs": [
    {
     "name": "stdout",
     "output_type": "stream",
     "text": [
      "Pass\n",
      "Pass\n",
      "Pass\n",
      "Pass\n",
      "Pass\n"
     ]
    }
   ],
   "source": [
    "def anagrams(string_1, string_2):\n",
    "    \"\"\"determine if two strings are anagrams of each other\n",
    "\n",
    "    Args:\n",
    "        string_1 (str): Strings to be checked if they are anagrams\n",
    "        string_2 (str): Strings to be checked if they are anagrams\n",
    "\n",
    "    Returns:\n",
    "        bool: If strings are anagrams or not\n",
    "    \"\"\"\n",
    "    str_1 = string_1.replace(\" \", \"\").lower()\n",
    "    str_2 = string_2.replace(\" \", \"\").lower()\n",
    "\n",
    "    if sorted(str_1) == sorted(str_2):\n",
    "        return True\n",
    "\n",
    "    return False\n",
    "\n",
    "\n",
    "print(\"Pass\" if not (anagrams('water', 'waiter')) else \"Fail\")\n",
    "print(\"Pass\" if anagrams('Dormitory', 'Dirty room') else \"Fail\")\n",
    "print(\"Pass\" if anagrams('Slot machines', 'Cash lost in me') else \"Fail\")\n",
    "print(\"Pass\" if not (anagrams('A gentleman', 'Elegant men')) else \"Fail\")\n",
    "print(\"Pass\" if anagrams('Time and tide wait for no man',\n",
    "                         'Notified madman into water') else \"Fail\")\n"
   ]
  },
  {
   "cell_type": "markdown",
   "metadata": {},
   "source": [
    "#### Word Flipper\n"
   ]
  },
  {
   "cell_type": "code",
   "execution_count": 5,
   "metadata": {},
   "outputs": [],
   "source": [
    "def word_flipper(our_string):\n",
    "    \"\"\"\n",
    "    Flip the individual words in a sentence\n",
    "    Args:\n",
    "       our_string(string): String with words to flip\n",
    "    Returns:\n",
    "       string: String with words flipped\n",
    "    \"\"\"\n",
    "\n",
    "    our_string_split = our_string.split(sep=' ')\n",
    "    words_reversed = []\n",
    "\n",
    "    for word in our_string_split:\n",
    "        words_reversed.append(string_reverser(word))\n",
    "\n",
    "    return \" \".join(words_reversed)\n"
   ]
  },
  {
   "cell_type": "markdown",
   "metadata": {},
   "source": [
    "#### Hamming Distance\n",
    "\n",
    "- In information theory, the Hamming distance between two strings of equal length is the number of positions at which the corresponding symbols are different. Calculate the Hamming distace for the following test cases.\n"
   ]
  },
  {
   "cell_type": "code",
   "execution_count": 7,
   "metadata": {},
   "outputs": [
    {
     "name": "stdout",
     "output_type": "stream",
     "text": [
      "Pass\n",
      "Pass\n",
      "Pass\n",
      "Pass\n",
      "Pass\n"
     ]
    }
   ],
   "source": [
    "def hamming_distance(str1, str2):\n",
    "    \"\"\"\n",
    "    Calculate the hamming distance of the two strings\n",
    "\n",
    "    Args:\n",
    "       str1(string),str2(string): Strings to be used for finding the hamming distance\n",
    "    Returns:\n",
    "       int: Hamming Distance\n",
    "    \"\"\"\n",
    "\n",
    "    if len(str1) == len(str2):\n",
    "        count = 0\n",
    "\n",
    "        for char in range(len(str1)):\n",
    "            if str1[char] != str2[char]:\n",
    "                count += 1\n",
    "\n",
    "        return count\n",
    "\n",
    "    return None\n",
    "\n",
    "\n",
    "print(\"Pass\" if (10 == hamming_distance('ACTTGACCGGG', 'GATCCGGTACA')) else \"Fail\")\n",
    "print(\"Pass\" if (1 == hamming_distance('shove', 'stove')) else \"Fail\")\n",
    "print(\"Pass\" if (None == hamming_distance(\n",
    "    'Slot machines', 'Cash lost in me')) else \"Fail\")\n",
    "print(\"Pass\" if (9 == hamming_distance('A gentleman', 'Elegant men')) else \"Fail\")\n",
    "print(\"Pass\" if (2 == hamming_distance(\n",
    "    '0101010100011101', '0101010100010001')) else \"Fail\")\n"
   ]
  }
 ],
 "metadata": {
  "interpreter": {
   "hash": "a6c8cccf23fc189a51b8b2ae4ca3b98de763e12cce4f9033fe8d82721c91cecc"
  },
  "kernelspec": {
   "display_name": "Python 3.8.3 ('base')",
   "language": "python",
   "name": "python3"
  },
  "language_info": {
   "codemirror_mode": {
    "name": "ipython",
    "version": 3
   },
   "file_extension": ".py",
   "mimetype": "text/x-python",
   "name": "python",
   "nbconvert_exporter": "python",
   "pygments_lexer": "ipython3",
   "version": "3.8.3"
  },
  "orig_nbformat": 4
 },
 "nbformat": 4,
 "nbformat_minor": 2
}
