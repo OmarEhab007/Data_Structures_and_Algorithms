{
 "cells": [
  {
   "cell_type": "markdown",
   "metadata": {},
   "source": [
    "### Problem Statement\n",
    "\n",
    "Given list of integers that contain numbers in random order, write a program to find the longest possible sub sequence of consecutive numbers in the array. Return this subsequence in sorted order. The solution must take O(n) time\n",
    "\n",
    "For e.g. given the list `5, 4, 7, 10, 1, 3, 55, 2`, the output should be `1, 2, 3, 4, 5`\n",
    "\n",
    "_Note- If two arrays are of equal length return the array whose index of smallest element comes first._\n"
   ]
  },
  {
   "cell_type": "code",
   "execution_count": 1,
   "metadata": {},
   "outputs": [],
   "source": [
    "def longest_consecutive_subsequence(input_list):\n",
    "    element_dict = dict()\n",
    "\n",
    "    for index, element in enumerate(input_list):\n",
    "        element_dict[element] = index\n",
    "\n",
    "    print(element_dict)\n",
    "    max_length = -1\n",
    "    starts_at = len(input_list)\n",
    "\n",
    "    for index, element in enumerate(input_list):\n",
    "        current_starts = index\n",
    "        element_dict[element] = -1\n",
    "\n",
    "        current_count = 1\n",
    "\n",
    "        # check upwards\n",
    "        current = element + 1\n",
    "\n",
    "        while current in element_dict and element_dict[current] > 0:\n",
    "            current_count += 1\n",
    "            element_dict[current] = -1\n",
    "            current = current + 1\n",
    "\n",
    "        # check downwards\n",
    "        current = element - 1\n",
    "        while current in element_dict and element_dict[current] > 0:\n",
    "            current_starts = element_dict[current]\n",
    "            current_count += 1\n",
    "            element_dict[current] = -1\n",
    "            current = current - 1\n",
    "\n",
    "        if current_count >= max_length:\n",
    "            if current_count == max_length and current_starts > starts_at:\n",
    "                continue\n",
    "            starts_at = current_starts\n",
    "            max_length = current_count\n",
    "\n",
    "    start_element = input_list[starts_at]\n",
    "    return [element for element in range(start_element, start_element + max_length)]\n"
   ]
  },
  {
   "cell_type": "code",
   "execution_count": 2,
   "metadata": {},
   "outputs": [
    {
     "name": "stdout",
     "output_type": "stream",
     "text": [
      "{2: 8, 3: 1, 5: 10, 6: 7, 8: 12, 97: 5, 1: 9, 7: 11}\n",
      "[5, 6, 7, 8]\n"
     ]
    }
   ],
   "source": [
    "\n",
    "numbers = [2,3,5,6,8,97,5,6,2,1,5,7,8]\n",
    "\n",
    "print(longest_consecutive_subsequence(numbers))"
   ]
  },
  {
   "cell_type": "code",
   "execution_count": null,
   "metadata": {},
   "outputs": [],
   "source": []
  }
 ],
 "metadata": {
  "interpreter": {
   "hash": "16f5b46f222e2a3e8d4adbf7141cae37b71ed37616e60735fa5d1164a1bc3ada"
  },
  "kernelspec": {
   "display_name": "Python 3.8.3 ('base')",
   "language": "python",
   "name": "python3"
  },
  "language_info": {
   "codemirror_mode": {
    "name": "ipython",
    "version": 3
   },
   "file_extension": ".py",
   "mimetype": "text/x-python",
   "name": "python",
   "nbconvert_exporter": "python",
   "pygments_lexer": "ipython3",
   "version": "3.8.3"
  },
  "orig_nbformat": 4
 },
 "nbformat": 4,
 "nbformat_minor": 2
}
