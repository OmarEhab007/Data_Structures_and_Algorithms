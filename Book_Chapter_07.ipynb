{
 "cells": [
  {
   "cell_type": "markdown",
   "metadata": {},
   "source": [
    "# Chapter 07: Linked Lists"
   ]
  },
  {
   "cell_type": "markdown",
   "metadata": {},
   "source": [
    "Motivation: Python's lsit can work as a classic data structtures such as, stack, queue and dequeue and so on. However, there are notable disadvantages on them.\n",
    "\n",
    "1. Length of dynamic array can be longer than the actual number of elements that it stores, which will lead to waste of memory.\n",
    "2. Amortized bounds for operations may be unacceptable in real-time systems.\n",
    "3. Insertions and deletions at interior positions of an array are expensive."
   ]
  },
  {
   "cell_type": "markdown",
   "metadata": {},
   "source": [
    "A linked list employs a more distributed representation in which a lightweight object, known as a node, is allocated for each element. Each node maintains a reference to its element and one or more references to neighboring nodes in order to collectively represent the linear order of the sequence."
   ]
  },
  {
   "cell_type": "markdown",
   "metadata": {},
   "source": [
    "## 7.1 Singly Linked Lists"
   ]
  },
  {
   "cell_type": "markdown",
   "metadata": {},
   "source": [
    "A **singly linked list**, in its simplest form, is a collection of **nodes** that collectively form a linear sequence. Each node stores a reference to an object that is an element of the sequence, as well as a reference to the next node of the list."
   ]
  },
  {
   "cell_type": "markdown",
   "metadata": {},
   "source": [
    "![Fig7.1](../images/Fig7.1.png)"
   ]
  },
  {
   "cell_type": "markdown",
   "metadata": {},
   "source": [
    "The first and last node of a linked list are known as the **head** and **tail** of the list, respectively. By starting at the head, and moving from one node to another by following each node's `next` referecne, we can reach the tail of the list. This process is known as **traversing** the linked list. Because the next reference of a node can be viewed as a **link** or **pointer** to another node, the process of traversing a list is also known as **link hopping** or **pointer hopping**."
   ]
  },
  {
   "cell_type": "markdown",
   "metadata": {},
   "source": [
    "Minimally the linked list instance must keep a reference to the head of the list. WIhtout an explicit reference to the head, there would be no way to locate that node. There is not an absolute need to store a direct reference to the tail of the list, as it could otherise be located by starting at the head and traversing the rest of the list. However, storing an explicit reference to the tail node is a common convenience to avoid such a traversal. For the similar reason, it is common to keep a count of the toal number of nodes that comprise the list to avoid the need to traverse the list to count the nodes."
   ]
  },
  {
   "cell_type": "markdown",
   "metadata": {},
   "source": [
    "#### Inserting an Element at the HEad of a Singly Linked List"
   ]
  },
  {
   "cell_type": "markdown",
   "metadata": {},
   "source": [
    "```\n",
    "Algorithm add_first(L, e):\n",
    "    newest = Node(e)\n",
    "    newest.next = L.head\n",
    "    L.head = newest\n",
    "    L.size = L.size + 1\n",
    "```"
   ]
  },
  {
   "cell_type": "markdown",
   "metadata": {},
   "source": [
    "#### Inserting an Element at the Tail of a Singly Linked List"
   ]
  },
  {
   "cell_type": "markdown",
   "metadata": {},
   "source": [
    "```\n",
    "Algorithm add_last(L, e):\n",
    "    newest = Node(e)\n",
    "    newest.next = None\n",
    "    L.tail.next = newest\n",
    "    L.tail = newest\n",
    "    L.size = L.size + 1\n",
    "```"
   ]
  },
  {
   "cell_type": "markdown",
   "metadata": {},
   "source": [
    "#### Removing an Element from a Singly Linked List"
   ]
  },
  {
   "cell_type": "markdown",
   "metadata": {},
   "source": [
    "```\n",
    "Algorithm remove_first(L):\n",
    "    if L.head is None then\n",
    "        indicate an error: the list is empty.\n",
    "    L.head = L.head.next\n",
    "    L.size = L.size - 1\n",
    "```"
   ]
  },
  {
   "cell_type": "markdown",
   "metadata": {},
   "source": [
    "However, we cannot easily delete the lasat node of a singly linked list. Even if we maintain a `tail` reference directly to the last node of the list, we must be able to access the node ***before*** the last node in order to remove the last node. ***Doubly linked*** list can handle this problem seamlessly."
   ]
  },
  {
   "cell_type": "markdown",
   "metadata": {},
   "source": [
    "### 7.1.1 Implementing a Stack with a Singly Linked List"
   ]
  },
  {
   "cell_type": "code",
   "execution_count": 3,
   "metadata": {},
   "outputs": [],
   "source": [
    "class Empty(Exception):\n",
    "    pass"
   ]
  },
  {
   "cell_type": "code",
   "execution_count": 4,
   "metadata": {},
   "outputs": [],
   "source": [
    "class LinkedStack:\n",
    "    \"\"\"LIFO Stack implementatino using a singly linked list for storage\"\"\"\n",
    "    \n",
    "    class _Node:\n",
    "        __slots__ = '_element', '_next'\n",
    "        \n",
    "        def __init__(self, element, nxt):\n",
    "            self._element = element\n",
    "            self._next = nxt\n",
    "        \n",
    "    \n",
    "    def __init__(self):\n",
    "        self._head = None\n",
    "        self._size = 0\n",
    "        \n",
    "    def __len__(self):\n",
    "        return self._size\n",
    "    \n",
    "    def is_empty(self):\n",
    "        return self._size == 0\n",
    "    \n",
    "    def push(self, e):\n",
    "        self._head = self._Node(e, self._head)\n",
    "        self._size += 1\n",
    "        \n",
    "    def top(self):\n",
    "        if self.is_empty():\n",
    "            raise Empty('Stack is empty')\n",
    "        return self._head._element\n",
    "    \n",
    "    def pop(self):\n",
    "        if self.is_empty():\n",
    "            raise Empty('Stack is empty')\n",
    "        answer = self._head._element\n",
    "        self._head = self._head._next\n",
    "        self._size -= 1\n",
    "        return answer"
   ]
  },
  {
   "cell_type": "markdown",
   "metadata": {},
   "source": [
    "|Operation|Running TIme|\n",
    "|---|---|\n",
    "|`S.push(e)`|$O(1)$|\n",
    "|`S.pop()`|$O(1)$|\n",
    "|`S.top()`|$O(1)$|\n",
    "|`len(S)`|$O(1)$|\n",
    "|`S.is_empty()`|$O(1)$|"
   ]
  },
  {
   "cell_type": "markdown",
   "metadata": {},
   "source": [
    "We can see that all of the mtehods complete in ***worst-case*** constant time. This is in contrast to the amortized bounds for the `ArrayStack` that were given before."
   ]
  },
  {
   "cell_type": "markdown",
   "metadata": {},
   "source": [
    "### 7.1.2 Implementing a Queue with a Singly Linked List"
   ]
  },
  {
   "cell_type": "code",
   "execution_count": 5,
   "metadata": {},
   "outputs": [],
   "source": [
    "class LinkedQueue:\n",
    "    \n",
    "    class _Node:\n",
    "        __slots__ = '_element', '_next'\n",
    "        \n",
    "        def __init__(self, element, nxt):\n",
    "            self._element = element\n",
    "            self._next = nxt\n",
    "    \n",
    "    def __init__(self):\n",
    "        self._head = None\n",
    "        self._tail = None\n",
    "        self._size = 0\n",
    "        \n",
    "    def __len__(self):\n",
    "        return self._size\n",
    "    \n",
    "    def is_empty(self):\n",
    "        return self._size == 0\n",
    "    \n",
    "    def first(self):\n",
    "        if self.is_empty():\n",
    "            raise Empty(\"Queue is empty\")\n",
    "        return self._head._element\n",
    "    \n",
    "    def dequeue(self):\n",
    "        \n",
    "        if self.is_empty():\n",
    "            raise Empty(\"Queue is empty\")\n",
    "        answer = self._head._element\n",
    "        self._head = self._head._next\n",
    "        self._size -= 1\n",
    "        if self.is_empty():\n",
    "            self._tail = None\n",
    "        return answer\n",
    "    \n",
    "    def enqueue(self, e):\n",
    "        \n",
    "        newest = self._Node(e, None)\n",
    "        if self.is_empty():\n",
    "            self._head = newest\n",
    "        else:\n",
    "            self._tail._next = newest\n",
    "        self._tail = newest\n",
    "        self._size += 1\n",
    "        "
   ]
  },
  {
   "cell_type": "markdown",
   "metadata": {},
   "source": [
    "## 7.2 Circularly Linked Lists"
   ]
  },
  {
   "cell_type": "markdown",
   "metadata": {},
   "source": [
    "![Fig 7.8](../images/Fig7.8.png)"
   ]
  },
  {
   "cell_type": "markdown",
   "metadata": {},
   "source": [
    "A circularly linked list provides a more general model than a standard linked list for data sets that are cyclic, that is, which do have any particular notion of a beginning and end."
   ]
  },
  {
   "cell_type": "markdown",
   "metadata": {},
   "source": [
    "### 7.2.1 Round-Robin Schedulers"
   ]
  },
  {
   "cell_type": "markdown",
   "metadata": {},
   "source": [
    "Round-robin scheduling is often used to allocate slices of CPU time to various applications running concurrently on  a computer. A round-robin scheduler could be implemented with the general queue ADT, by repeatedly performing the following steps on queue $Q$:\n",
    "\n",
    "1. `e = Q.dequeue()`\n",
    "2. Service element `e`\n",
    "3. `Q.enqueue(e)`"
   ]
  },
  {
   "cell_type": "markdown",
   "metadata": {},
   "source": [
    "![Fig 7.9](../images/Fig7.9.png)"
   ]
  },
  {
   "cell_type": "markdown",
   "metadata": {},
   "source": [
    "If using a circularly linked list, the effective transfer of an item from the \"head\" of the list to the \"tail\" of the list can be accomplished by advancing a reference that marks the boundary of the queue as steps follow:\n",
    "\n",
    "1. Service element `Q.front()`\n",
    "2. `Q.rotate()`"
   ]
  },
  {
   "cell_type": "markdown",
   "metadata": {},
   "source": [
    "### 7.2.2 Implementing a Queue with a Circularly Linked List"
   ]
  },
  {
   "cell_type": "code",
   "execution_count": 6,
   "metadata": {},
   "outputs": [],
   "source": [
    "class CircularQueue:\n",
    "    \"\"\"Queue implementation using circularly linked list for storage\"\"\"\"\"\n",
    "    \n",
    "    class _Node:\n",
    "        __slots__ = '_element', '_next'\n",
    "        \n",
    "        def __init__(self, element, nxt):\n",
    "            self._element = element\n",
    "            self._next = nxt\n",
    "\n",
    "    def __init__(self):\n",
    "        self._tail = NOne\n",
    "        self._size = 0\n",
    "\n",
    "    def __len__(self):\n",
    "        return self._size\n",
    "\n",
    "    def is_empty(self):\n",
    "        return self._size == 0\n",
    "\n",
    "    def first(self):\n",
    "        if self.is_empty():\n",
    "            raise Empty('Queue is empty')\n",
    "        head = self._tail._next\n",
    "        return head._element\n",
    "\n",
    "    def dequeue(self):\n",
    "        if self.is_empty():\n",
    "            raise Empty('Queue is empty')\n",
    "        oldhead = self._tail_next\n",
    "        if self._size == 1:\n",
    "            self._tail = None\n",
    "        else:\n",
    "            self._tail._next = oldhead._next\n",
    "        self._size -= 1\n",
    "        return oldhead._element\n",
    "    \n",
    "    def enqueue(self):\n",
    "        newest = self._Node(e, None)\n",
    "        if self.is_empty():\n",
    "            newest._next = newest\n",
    "        else:\n",
    "            newest._next = self._tail._next\n",
    "            self._tail._next = newest\n",
    "        self._tail = newest\n",
    "        self._size += 1\n",
    "    \n",
    "    def rotate(self):\n",
    "        if self._size > 0:\n",
    "            self._tail = self._tail._next\n",
    "        "
   ]
  },
  {
   "cell_type": "markdown",
   "metadata": {},
   "source": [
    "## 7.3 Doubly Linked Lists"
   ]
  },
  {
   "cell_type": "markdown",
   "metadata": {},
   "source": [
    "#### Header and Trailer Sentinels"
   ]
  },
  {
   "cell_type": "markdown",
   "metadata": {},
   "source": [
    "A header node at the beginning of the list, and a trailer node at the end of the list. These \"dummy\" nodes are known as sentinels, and they do not store elements of the primary sequence."
   ]
  },
  {
   "cell_type": "markdown",
   "metadata": {},
   "source": [
    "#### Advantage of Using Sentinels"
   ]
  },
  {
   "cell_type": "markdown",
   "metadata": {},
   "source": [
    "Most notably, the header and trailer nodes never change-only the nodes between them change. Furthermore, we can treat all insertions in a unified manner, because a new node will always be placed between a pair of existing nodes."
   ]
  },
  {
   "cell_type": "markdown",
   "metadata": {},
   "source": [
    "### 7.3.1 Basic Implementation of a Doubly Linked List"
   ]
  },
  {
   "cell_type": "code",
   "execution_count": 7,
   "metadata": {},
   "outputs": [],
   "source": [
    "class _DoublyLinkedBase:\n",
    "    \"\"\"A base calss providing a doubly linked list representation.\"\"\"\n",
    "    \n",
    "    class _Node:\n",
    "        __slots__ = '_element', '_prev', '_next'\n",
    "        \n",
    "        def __init__(self, element, prev, nxt):\n",
    "            self._element = element\n",
    "            self._prev = prev\n",
    "            self._next = nxt\n",
    "    \n",
    "    def __init__(self):\n",
    "        self._header = self._Node(None, None, None)\n",
    "        self._trailer = self._Node(None, None, None)\n",
    "        self._header._next = self._trailer\n",
    "        self._trailer._prev = self._header\n",
    "        self._size = 0\n",
    "        \n",
    "    def __len__(self):\n",
    "        return self._size\n",
    "    \n",
    "    def is_empty(self):\n",
    "        return self._size == 0\n",
    "    \n",
    "    def _insert_between(self, e, predecessor, successor):\n",
    "        newest = self._Node(e, predecessor, successor)\n",
    "        predecessor._next = newest\n",
    "        successor._prev = newest\n",
    "        self._size += 1\n",
    "        return newest\n",
    "    \n",
    "    def _delete_node(self, node):\n",
    "        predecessor = node._prev\n",
    "        successor = node._next\n",
    "        predecessor._next = successor\n",
    "        successor._prev = predecessor\n",
    "        self._size -= 1\n",
    "        element = node._element\n",
    "        node._prev = node._next = node._element = None\n",
    "        return element"
   ]
  },
  {
   "cell_type": "markdown",
   "metadata": {},
   "source": [
    "### 7.3.2 Implementing a Deque with a Doubly Linked List"
   ]
  },
  {
   "cell_type": "code",
   "execution_count": 8,
   "metadata": {},
   "outputs": [],
   "source": [
    "class LinkedDeque(_DoublyLinkedBase):\n",
    "    \n",
    "    def first(self):\n",
    "        if self.isempty():\n",
    "            raise Empty(\"deque is empty\")\n",
    "        return self._header._next._element\n",
    "    \n",
    "    def last(self):\n",
    "        if self.isempty():\n",
    "            raise Empty(\"deque is empty\")\n",
    "        return self._trailer._prev._element\n",
    "    \n",
    "    def insert_first(self, e):\n",
    "        self._insert_between(e, self._header, self._header._next)\n",
    "        \n",
    "    def insert_last(self, e):\n",
    "        self._insert_between(e, self._trailer._prev, self.trailer)\n",
    "        \n",
    "    def delete_first(self):\n",
    "        \n",
    "        if self.isempty():\n",
    "            raise Empty(\"deque is empty\")\n",
    "        return self._delete_node(self._header._next)\n",
    "    \n",
    "    def delete_last(self):\n",
    "        \n",
    "        if self.isempty():\n",
    "            raise Empty(\"deque is empty\")\n",
    "        return self._delete_node(self._trailer._prev)"
   ]
  },
  {
   "cell_type": "markdown",
   "metadata": {},
   "source": [
    "## 7.4 The Positional List ADT"
   ]
  },
  {
   "cell_type": "markdown",
   "metadata": {},
   "source": [
    "The abstract data types so fas was limited, only allow update oeprations that occur at one end of a sequence of other. However, we would like to design an abstract data type that provides a user a way to refer to elements anywhere in a sequence, and to perform arbitrary insertions and deletions."
   ]
  },
  {
   "cell_type": "markdown",
   "metadata": {},
   "source": [
    "A ***cursor*** in word processor is a great way to describe a position in a document without using an integer index, allowing operations such as \"delete the character at the cursor\" or \"insert a new character just after the cursor\"."
   ]
  },
  {
   "cell_type": "markdown",
   "metadata": {},
   "source": [
    "#### A Node Reference as a Position?"
   ]
  },
  {
   "cell_type": "markdown",
   "metadata": {},
   "source": [
    "The great athing about a linked list structure is it guarantees $O(1)$-time insertions and deletions at arbitrary positions of the list, as long as we are given a reference to a relevant node of the list. It is therefore very tempting to develop an ADT in which a node reference serves as the mechanism for describing a position. In fact, our `_DoublyLinkedBase` has methods `_insert_between` and `_delete_node` that accept node references as parameters."
   ]
  },
  {
   "cell_type": "markdown",
   "metadata": {},
   "source": [
    "However, *such direct use of nodes would violate the object-oriented design principles of abstraction and encapsulation*. There are several reasons to prefer that we encapsulate the nodes of a linked list, for both our sake and for the benefit of users of our abstraction."
   ]
  },
  {
   "cell_type": "markdown",
   "metadata": {},
   "source": [
    "* It will be simpler for users of our data structure if they are not bothered with unnecessary dtails of our implementations, such as low-level manipulation of nodes, or our reliance on the use of sentinel nodes. Notice that to use the `_insert_between` method of our `_DoublyLinkedBase` class to add a node at the beginning of a sequence, the header sentinel must be sent as a parameter."
   ]
  },
  {
   "cell_type": "markdown",
   "metadata": {},
   "source": [
    "* We can provide a more robust data structure if we do not permit users to directly access or manipulate the nodes. In that way, we ensure that users cannot invalidate the consistency of a list by mismanaging the linking of nodes. A more subtle problem arises if a user were allowed to call the `_insert_Between` or `_delete_node` method of our `_DoublyLinkedBase` class, sending a node that does not belong to the given list as a parameter."
   ]
  },
  {
   "cell_type": "markdown",
   "metadata": {},
   "source": [
    "* By better encapsulating the internal details of our implementation, we have greater flexibility to redesign the data structure and improve its performance. In fact, with a well-designed abstraction, we can provide a notion of a non-numeric position, even if using an array-based sequence."
   ]
  },
  {
   "cell_type": "markdown",
   "metadata": {},
   "source": [
    "For these reasons, instead of relying directly on nodes, we introduce an independent **position** abstraction to denote the location of an element within a list, and then a complete **positional list ADT** that can encapsulate a doubly linked list."
   ]
  },
  {
   "cell_type": "markdown",
   "metadata": {},
   "source": [
    "### 7.4.1 The Positional List Abstract Data Type"
   ]
  },
  {
   "cell_type": "markdown",
   "metadata": {},
   "source": [
    "A position instance is a simple object, supporting only the following method:\n",
    "\n",
    "`p.element()`: Retrun the element stored at position `p`.\n",
    "\n",
    "In the context of the positional list ADT, positions serve as parameters to some method and as return values from other methods. In describing the behaviors of a positional list, we being by presenting the accessor methods supported by a list `L`:\n",
    "\n",
    "* `L.first()`: Return the position of the first element of `L`, or `None` if `L` is empty.\n",
    "* `L.last()`: Return the position of the last element of `L`, or `None` if `L` is empty.\n",
    "* `L.before(p)`: Return the position of `L` immediately before position `p`, or `None` if `p` is the first position.\n",
    "* `L.after(p)`: Return the positioin of `L` immediately after position `p`, or `None` if `p` is the last poistion.\n",
    "* `L.is_empty()`: Return `True` if the `L` does not contain any elements.\n",
    "* `len(L)`: Return the number of elements in the list.\n",
    "* `iter(L)`: Return a forward iterator for the `elements` of the list.\n",
    "\n",
    "The positional list ADT also includes the following ***update*** methods:\n",
    "\n",
    "* `L.add_first(e)`: Insert a new element at the front of `L`, returning the position of the new element.\n",
    "* `L.add_last(e)`: Insert a new element at the back of `L`, returning the position of the new element.\n",
    "* `L.add_before(p, e)`: Insert a new element `e` just before position `p` in `L`, returning the position of the new element.\n",
    "* `L.add_after(p, e)`: Insert a new element `e` just after position `p` in `L`, returning the position of the new element.\n",
    "* `L.replace(p, e)`: Replace the element at position `p` with element `e`, returning the element formerly at position `p`.\n",
    "* `L.delete(p)`: Remove and return the element at position `p` in `L`, invalidating the position."
   ]
  },
  {
   "cell_type": "markdown",
   "metadata": {},
   "source": [
    "### 7.4.2 Doubly Linked List Implementation"
   ]
  },
  {
   "cell_type": "code",
   "execution_count": 9,
   "metadata": {},
   "outputs": [],
   "source": [
    "class PositionalList(_DoublyLinkedBase):\n",
    "    \n",
    "    class Position:\n",
    "        \"\"\"An abstraction representing the location of a single element.\"\"\"\n",
    "        \n",
    "        def __init__(self, container, node):\n",
    "            self._container = container\n",
    "            self._node = node\n",
    "        \n",
    "        def element(self):\n",
    "            return self._node._element\n",
    "        \n",
    "        def __eq__(self, other):\n",
    "            return type(other) is type(self) and other._Node is self._node\n",
    "        \n",
    "        def __ne__(self, other):\n",
    "            return not (self == other)\n",
    "        \n",
    "    \n",
    "    def _validate(self, p):\n",
    "        if not isinstance(p, self.Position):\n",
    "            raise TypeError('p must be proper Position type')\n",
    "        if p._container is not self:\n",
    "            raise ValueError('p does not belong to this container')\n",
    "        if p._node._next is None:\n",
    "            raise ValueError('p is no longer valid')\n",
    "        return p._node\n",
    "    \n",
    "    \n",
    "    def _make_position(self, node):\n",
    "        if node is self._header or node is self._trailer:\n",
    "            return None\n",
    "        else:\n",
    "            return self.Position(self, node)\n",
    "        \n",
    "    def first(self):\n",
    "        return self._make_position(self._header._next)\n",
    "    \n",
    "    def last(self):\n",
    "        return self._make_position(self._trailer._prev)\n",
    "    \n",
    "    def before(self, p):\n",
    "        node = self._validate(p)\n",
    "        return self._make_position(node._prev)\n",
    "    \n",
    "    def after(self, p):\n",
    "        node = self._validate(p)\n",
    "        return self._make_position(node._next)\n",
    "    \n",
    "    def __iter__(self):\n",
    "        cursor = self.first()\n",
    "        while cursor is not None:\n",
    "            yield cursor.element()\n",
    "            cursor = self.after(cursor)\n",
    "            \n",
    "    def _insert_between(self, e, predecessor, successor):\n",
    "        node = super()._insert_between(e, predecessor, successor)\n",
    "        return self._make_position(node)\n",
    "    \n",
    "    def add_first(self, e):\n",
    "        return self._insert_between(e, self._header, self.header._next)\n",
    "    \n",
    "    def add_last(self, e):\n",
    "        return self._insert_between(e, self._trailer._prev, self._trailer)\n",
    "    \n",
    "    def add_before(self, p, e):\n",
    "        original = self._validate(p)\n",
    "        return self._insert_between(e, original._prev, original)\n",
    "    \n",
    "    def add_after(self, p, e):\n",
    "        original = self._validate(p)\n",
    "        return self._insert_between(e, original, original._next)\n",
    "    \n",
    "    def delete(self, p):\n",
    "        original = self._validate(p)\n",
    "        return self._delete_node(original)\n",
    "    \n",
    "    def replace(self, p, e):\n",
    "        original = self._validate(p)\n",
    "        old_value = original._element\n",
    "        original._element = e\n",
    "        return old_value\n",
    "        "
   ]
  },
  {
   "cell_type": "markdown",
   "metadata": {},
   "source": [
    "## 7.5 Sorting a Positionial List"
   ]
  },
  {
   "cell_type": "markdown",
   "metadata": {},
   "source": [
    "We maintain a variable named `marker` that represents the rightmost position of the currently sorted portion of a list. DUring each pass, we consider the position just past the marker as the `pivot` and consider where the pivot's element belongs relative to the sorted portions; we use another variable, named `walk`, to move leftward from the marker, as long as there reamins a preceding element with value larger than the pivot's."
   ]
  },
  {
   "cell_type": "code",
   "execution_count": 10,
   "metadata": {},
   "outputs": [],
   "source": [
    "def insertion_sort(L):\n",
    "    \n",
    "    if len(L) > 1:\n",
    "        marker = L.first()\n",
    "        while marker != L.last():\n",
    "            pivot = L.after(marker)\n",
    "            value = pivot.element()\n",
    "            \n",
    "            if value > marker.element():\n",
    "                marker = pivot\n",
    "            else:\n",
    "                walk=marker\n",
    "                while walk != L.first() and L.before(walk).element() > value:\n",
    "                    walk = L.before(walk)\n",
    "                L.delete(pivot)\n",
    "                L.add_before(walk, value)"
   ]
  },
  {
   "cell_type": "markdown",
   "metadata": {},
   "source": [
    "## 7.6 Case Study: Maintaining Access Frequencies"
   ]
  },
  {
   "cell_type": "markdown",
   "metadata": {},
   "source": [
    "In this section, we consider maintaining a collection of elements while keeping track of the number of times each element is accessed. Keeping such access counts allows us to know which elements are among the most popular. We model this with a new ***favorites list ADT*** that supports the `len` and `is_empty` methods as well as the following:"
   ]
  },
  {
   "cell_type": "markdown",
   "metadata": {},
   "source": [
    "* `access(e)`: Access the element `e`, incrementing its access count, and adding it to the favorites list if it is not already present.\n",
    "* `remove(e)`: Remove element `e` from the favorites list, if present.\n",
    "* `top(k)`: Return an iteration of the `k` most accessed elements."
   ]
  },
  {
   "cell_type": "markdown",
   "metadata": {},
   "source": [
    "### 7.6.1 Using a Sorted List"
   ]
  },
  {
   "cell_type": "markdown",
   "metadata": {},
   "source": [
    "#### Using the Composition Pattern\n",
    "\n",
    "We wish to implement a favorites list by amkign use of a PositionalList for storage. If eleemetns of the positional list were simply elements of the favorites list, we would be challenged to maintain access counts and to keep the proper count with the associated element as the contents of the list are reordered. We us a general object-oriented design pattern, the ***composition pattern***, in which we define a single object that is composed of two or more other objects. Specifically, we define a nonpublic nested class, `_Item`, that stores the element and its access count as a single instance. We then maintain our favorites list as a `PositionalList` of `item` instances, so that the access count for a user's element is embedded alongside it in our representation."
   ]
  },
  {
   "cell_type": "code",
   "execution_count": 11,
   "metadata": {},
   "outputs": [],
   "source": [
    "class FavoritesList:\n",
    "    \n",
    "    class _Item:\n",
    "        __slots__ = '_value', '_count'\n",
    "        def __init__(self, e):\n",
    "            self._value = e\n",
    "            self._count = 0\n",
    "            \n",
    "    def _find_position(self, e):\n",
    "        \"\"\"Search for element e and return its Position (or None if not found)\"\"\"\n",
    "        walk = self._data.first()\n",
    "        while walk is not None and walk.element()._value != e:\n",
    "            walk = self._data.after(walk)\n",
    "        \n",
    "        return walk\n",
    "    \n",
    "    def _move_up(self, p):\n",
    "        \"\"\"Move item at Position p earlier in the list based on access count.\"\"\"\n",
    "        if p != self._data.first():\n",
    "            cnt = p.element()._count\n",
    "            walk = self._data.before(p)\n",
    "            if cnt > walk.element().count:\n",
    "                while (walk != self._data.first() and \n",
    "                      cnt > self._data.before(walk).element()._count):\n",
    "                    walk = self._data.before(walk)\n",
    "                self._data.add_before(walk, self._data.delete(p))\n",
    "    \n",
    "    def __init__(self):\n",
    "        self._data = PositionalList()\n",
    "        \n",
    "    def __len__(self):\n",
    "        return len(self._data)\n",
    "    \n",
    "    def is_empty(self):\n",
    "        return len(self_data) == 0\n",
    "    \n",
    "    def access(self, e):\n",
    "        p = self._find_position(e)\n",
    "        if p is None:\n",
    "            p = self._data.add_last(self._Item(e))\n",
    "        p.element()._count += 1\n",
    "        self._move_up(p)\n",
    "        \n",
    "    def remove(self, e):\n",
    "        p = self._find_position(e)\n",
    "        if p is not None:\n",
    "            self._data.delete(p)\n",
    "            \n",
    "    def top(self, k):\n",
    "        if not 1 <= k <= len(self):\n",
    "            raise ValueError('Illega value for k')\n",
    "        \n",
    "        walk = self._data.first()\n",
    "        for j in range(10):\n",
    "            item = walk.element()\n",
    "            yield item._value\n",
    "            walk = self._data.after(walk)\n",
    "            \n"
   ]
  },
  {
   "cell_type": "markdown",
   "metadata": {},
   "source": [
    "### 7.6.2 Using a List with the Move-to-Front Heuristic"
   ]
  },
  {
   "cell_type": "markdown",
   "metadata": {},
   "source": [
    "In many real-life access sequences, once an element is accessed it is more likely to accessed again in the near future. Such scenarios are said to possess ***locality of reference***.\n",
    "\n",
    "A ***heuristic***, or rule of thumb, that attempts to take advantage of the locality of reference that is present in an access sequence is the ***move-to-front heuristic***. TO apply this heuristic, each time we access an element we move it all the way to the front of the list. Our hope, of course, is that this element will be accessed again in the near future."
   ]
  },
  {
   "cell_type": "markdown",
   "metadata": {},
   "source": [
    "#### Implementing the Move-to-Front Heuristic in Python"
   ]
  },
  {
   "cell_type": "code",
   "execution_count": 12,
   "metadata": {},
   "outputs": [],
   "source": [
    "class FavoritesListMTF(FavoritesList):\n",
    "    \"\"\"List of elements ordered with move-to-front heuristic.\"\"\"\n",
    "    \n",
    "    # override _move_up to provide move-to-front semantics\n",
    "    \n",
    "    def _move_up(self, p):\n",
    "        \"\"\"Move accessed item at Position p to front of list.\"\"\"\n",
    "        if p != self._data.first():\n",
    "            self._data.add_first(self._data.delete(p))\n",
    "            \n",
    "    # override top because list is no longer sorted\n",
    "    def top(self, k):\n",
    "        if not 1 <= k <= len(self):\n",
    "            raise ValueError('Illegal value for k')\n",
    "            \n",
    "        temp = PositionalList()\n",
    "        for item in self._data:\n",
    "            temp.add_last(item)\n",
    "            \n",
    "        for j in range(k):\n",
    "            highPos = temp.first()\n",
    "            walk = temp.after(highPos)\n",
    "            while walk is not None:\n",
    "                if walk.element()._count > highPos.element()._count:\n",
    "                    highPos = walk\n",
    "                walk = temp.after(walk)\n",
    "            yield highPos.element()._value\n",
    "            temp.delete(highPos)"
   ]
  },
  {
   "cell_type": "markdown",
   "metadata": {},
   "source": [
    "## 7.7 Link-Based vs. Array-Base Sequences"
   ]
  },
  {
   "cell_type": "markdown",
   "metadata": {},
   "source": [
    "#### Advantaes of Array-Based Sequences"
   ]
  },
  {
   "cell_type": "markdown",
   "metadata": {},
   "source": [
    "* Arrays provide $O(1)$-time access to an element based on an integer index.\n",
    "* Operations with equivalent asymptotic bounds typically run a constant factor more efficiently with an array-based sturcture versus a linked structure.\n",
    "* Array-based representations typically use proportionally less memory than linked structures."
   ]
  },
  {
   "cell_type": "markdown",
   "metadata": {},
   "source": [
    "#### Advantages of Link-Based Sequences"
   ]
  },
  {
   "cell_type": "markdown",
   "metadata": {},
   "source": [
    "* Link-based structures provide works-case time bounds for their operations. This is in contrast to the amortized bounds associatd with the expansion or contraction of a dynamic array.\n",
    "* Link-based structures support $O(1)$-time insertions and deletions at arbitrary positions."
   ]
  }
 ],
 "metadata": {
  "kernelspec": {
   "display_name": "Python 3",
   "language": "python",
   "name": "python3"
  },
  "language_info": {
   "codemirror_mode": {
    "name": "ipython",
    "version": 3
   },
   "file_extension": ".py",
   "mimetype": "text/x-python",
   "name": "python",
   "nbconvert_exporter": "python",
   "pygments_lexer": "ipython3",
   "version": "3.6.8"
  }
 },
 "nbformat": 4,
 "nbformat_minor": 4
}
